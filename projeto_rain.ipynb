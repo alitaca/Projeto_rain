{
 "cells": [
  {
   "cell_type": "markdown",
   "id": "attached-humidity",
   "metadata": {},
   "source": [
    "#  Projeto - Will it rain tomorrow?"
   ]
  },
  {
   "cell_type": "code",
   "execution_count": null,
   "id": "consolidated-third",
   "metadata": {},
   "outputs": [],
   "source": []
  },
  {
   "cell_type": "code",
   "execution_count": 1,
   "id": "criminal-sperm",
   "metadata": {
    "ExecuteTime": {
     "end_time": "2021-05-07T14:42:52.175457Z",
     "start_time": "2021-05-07T14:42:46.915912Z"
    }
   },
   "outputs": [],
   "source": [
    "# Importando bibliotecas\n",
    "import pandas as pd\n",
    "import numpy as np\n",
    "import matplotlib.pyplot as plt\n",
    "import seaborn as sns"
   ]
  },
  {
   "cell_type": "markdown",
   "id": "scheduled-technician",
   "metadata": {
    "ExecuteTime": {
     "end_time": "2021-05-07T14:43:11.973258Z",
     "start_time": "2021-05-07T14:43:11.969268Z"
    }
   },
   "source": [
    "## Extraindo dados"
   ]
  },
  {
   "cell_type": "markdown",
   "id": "short-persian",
   "metadata": {},
   "source": [
    "###  Dados de chuva"
   ]
  },
  {
   "cell_type": "code",
   "execution_count": 74,
   "id": "cordless-colors",
   "metadata": {
    "ExecuteTime": {
     "end_time": "2021-05-07T15:26:39.401881Z",
     "start_time": "2021-05-07T15:26:38.883032Z"
    }
   },
   "outputs": [],
   "source": [
    "rain = pd.read_csv('data_rain/rain_data_aus.csv')\n",
    "rain = rain.drop('modelo_vigente', axis=1)"
   ]
  },
  {
   "cell_type": "code",
   "execution_count": 75,
   "id": "animated-collection",
   "metadata": {
    "ExecuteTime": {
     "end_time": "2021-05-07T15:26:45.435049Z",
     "start_time": "2021-05-07T15:26:45.405128Z"
    }
   },
   "outputs": [
    {
     "data": {
      "text/html": [
       "<div>\n",
       "<style scoped>\n",
       "    .dataframe tbody tr th:only-of-type {\n",
       "        vertical-align: middle;\n",
       "    }\n",
       "\n",
       "    .dataframe tbody tr th {\n",
       "        vertical-align: top;\n",
       "    }\n",
       "\n",
       "    .dataframe thead th {\n",
       "        text-align: right;\n",
       "    }\n",
       "</style>\n",
       "<table border=\"1\" class=\"dataframe\">\n",
       "  <thead>\n",
       "    <tr style=\"text-align: right;\">\n",
       "      <th></th>\n",
       "      <th>date</th>\n",
       "      <th>location</th>\n",
       "      <th>mintemp</th>\n",
       "      <th>maxtemp</th>\n",
       "      <th>rainfall</th>\n",
       "      <th>evaporation</th>\n",
       "      <th>sunshine</th>\n",
       "      <th>humidity9am</th>\n",
       "      <th>humidity3pm</th>\n",
       "      <th>pressure9am</th>\n",
       "      <th>...</th>\n",
       "      <th>cloud3pm</th>\n",
       "      <th>temp9am</th>\n",
       "      <th>temp3pm</th>\n",
       "      <th>raintoday</th>\n",
       "      <th>amountOfRain</th>\n",
       "      <th>raintomorrow</th>\n",
       "      <th>temp</th>\n",
       "      <th>humidity</th>\n",
       "      <th>precipitation3pm</th>\n",
       "      <th>precipitation9am</th>\n",
       "    </tr>\n",
       "  </thead>\n",
       "  <tbody>\n",
       "    <tr>\n",
       "      <th>0</th>\n",
       "      <td>2008-12-01</td>\n",
       "      <td>Albury</td>\n",
       "      <td>13.4</td>\n",
       "      <td>22.9</td>\n",
       "      <td>0.6</td>\n",
       "      <td>NaN</td>\n",
       "      <td>NaN</td>\n",
       "      <td>71.0</td>\n",
       "      <td>22.0</td>\n",
       "      <td>1007.7</td>\n",
       "      <td>...</td>\n",
       "      <td>NaN</td>\n",
       "      <td>16.9</td>\n",
       "      <td>21.8</td>\n",
       "      <td>No</td>\n",
       "      <td>0.0</td>\n",
       "      <td>No</td>\n",
       "      <td>29.48</td>\n",
       "      <td>28.400000</td>\n",
       "      <td>12</td>\n",
       "      <td>5.115360</td>\n",
       "    </tr>\n",
       "    <tr>\n",
       "      <th>1</th>\n",
       "      <td>2008-12-02</td>\n",
       "      <td>Albury</td>\n",
       "      <td>7.4</td>\n",
       "      <td>25.1</td>\n",
       "      <td>0.0</td>\n",
       "      <td>NaN</td>\n",
       "      <td>NaN</td>\n",
       "      <td>44.0</td>\n",
       "      <td>25.0</td>\n",
       "      <td>1010.6</td>\n",
       "      <td>...</td>\n",
       "      <td>NaN</td>\n",
       "      <td>17.2</td>\n",
       "      <td>24.3</td>\n",
       "      <td>No</td>\n",
       "      <td>0.0</td>\n",
       "      <td>No</td>\n",
       "      <td>32.12</td>\n",
       "      <td>2.208569</td>\n",
       "      <td>10</td>\n",
       "      <td>21.497100</td>\n",
       "    </tr>\n",
       "    <tr>\n",
       "      <th>2</th>\n",
       "      <td>2008-12-03</td>\n",
       "      <td>Albury</td>\n",
       "      <td>12.9</td>\n",
       "      <td>25.7</td>\n",
       "      <td>0.0</td>\n",
       "      <td>NaN</td>\n",
       "      <td>NaN</td>\n",
       "      <td>38.0</td>\n",
       "      <td>30.0</td>\n",
       "      <td>1007.6</td>\n",
       "      <td>...</td>\n",
       "      <td>2.0</td>\n",
       "      <td>21.0</td>\n",
       "      <td>23.2</td>\n",
       "      <td>No</td>\n",
       "      <td>0.0</td>\n",
       "      <td>No</td>\n",
       "      <td>32.84</td>\n",
       "      <td>38.000000</td>\n",
       "      <td>17</td>\n",
       "      <td>20.782859</td>\n",
       "    </tr>\n",
       "    <tr>\n",
       "      <th>3</th>\n",
       "      <td>2008-12-04</td>\n",
       "      <td>Albury</td>\n",
       "      <td>9.2</td>\n",
       "      <td>28.0</td>\n",
       "      <td>0.0</td>\n",
       "      <td>NaN</td>\n",
       "      <td>NaN</td>\n",
       "      <td>45.0</td>\n",
       "      <td>16.0</td>\n",
       "      <td>1017.6</td>\n",
       "      <td>...</td>\n",
       "      <td>NaN</td>\n",
       "      <td>18.1</td>\n",
       "      <td>26.5</td>\n",
       "      <td>No</td>\n",
       "      <td>1.0</td>\n",
       "      <td>No</td>\n",
       "      <td>35.60</td>\n",
       "      <td>21.200000</td>\n",
       "      <td>8</td>\n",
       "      <td>12.028646</td>\n",
       "    </tr>\n",
       "    <tr>\n",
       "      <th>4</th>\n",
       "      <td>2008-12-05</td>\n",
       "      <td>Albury</td>\n",
       "      <td>17.5</td>\n",
       "      <td>32.3</td>\n",
       "      <td>1.0</td>\n",
       "      <td>NaN</td>\n",
       "      <td>NaN</td>\n",
       "      <td>82.0</td>\n",
       "      <td>33.0</td>\n",
       "      <td>1010.8</td>\n",
       "      <td>...</td>\n",
       "      <td>8.0</td>\n",
       "      <td>17.8</td>\n",
       "      <td>29.7</td>\n",
       "      <td>No</td>\n",
       "      <td>0.2</td>\n",
       "      <td>No</td>\n",
       "      <td>40.76</td>\n",
       "      <td>41.600000</td>\n",
       "      <td>9</td>\n",
       "      <td>11.883546</td>\n",
       "    </tr>\n",
       "  </tbody>\n",
       "</table>\n",
       "<p>5 rows × 22 columns</p>\n",
       "</div>"
      ],
      "text/plain": [
       "         date location  mintemp  maxtemp  rainfall  evaporation  sunshine  \\\n",
       "0  2008-12-01   Albury     13.4     22.9       0.6          NaN       NaN   \n",
       "1  2008-12-02   Albury      7.4     25.1       0.0          NaN       NaN   \n",
       "2  2008-12-03   Albury     12.9     25.7       0.0          NaN       NaN   \n",
       "3  2008-12-04   Albury      9.2     28.0       0.0          NaN       NaN   \n",
       "4  2008-12-05   Albury     17.5     32.3       1.0          NaN       NaN   \n",
       "\n",
       "   humidity9am  humidity3pm  pressure9am  ...  cloud3pm  temp9am  temp3pm  \\\n",
       "0         71.0         22.0       1007.7  ...       NaN     16.9     21.8   \n",
       "1         44.0         25.0       1010.6  ...       NaN     17.2     24.3   \n",
       "2         38.0         30.0       1007.6  ...       2.0     21.0     23.2   \n",
       "3         45.0         16.0       1017.6  ...       NaN     18.1     26.5   \n",
       "4         82.0         33.0       1010.8  ...       8.0     17.8     29.7   \n",
       "\n",
       "   raintoday  amountOfRain raintomorrow   temp   humidity  precipitation3pm  \\\n",
       "0         No           0.0           No  29.48  28.400000                12   \n",
       "1         No           0.0           No  32.12   2.208569                10   \n",
       "2         No           0.0           No  32.84  38.000000                17   \n",
       "3         No           1.0           No  35.60  21.200000                 8   \n",
       "4         No           0.2           No  40.76  41.600000                 9   \n",
       "\n",
       "   precipitation9am  \n",
       "0          5.115360  \n",
       "1         21.497100  \n",
       "2         20.782859  \n",
       "3         12.028646  \n",
       "4         11.883546  \n",
       "\n",
       "[5 rows x 22 columns]"
      ]
     },
     "execution_count": 75,
     "metadata": {},
     "output_type": "execute_result"
    }
   ],
   "source": [
    "rain.head()"
   ]
  },
  {
   "cell_type": "code",
   "execution_count": 60,
   "id": "cordless-relevance",
   "metadata": {
    "ExecuteTime": {
     "end_time": "2021-05-07T15:10:47.323907Z",
     "start_time": "2021-05-07T15:10:47.275828Z"
    }
   },
   "outputs": [
    {
     "name": "stdout",
     "output_type": "stream",
     "text": [
      "<class 'pandas.core.frame.DataFrame'>\n",
      "RangeIndex: 142193 entries, 0 to 142192\n",
      "Data columns (total 23 columns):\n",
      " #   Column            Non-Null Count   Dtype  \n",
      "---  ------            --------------   -----  \n",
      " 0   date              142193 non-null  object \n",
      " 1   location          142193 non-null  object \n",
      " 2   mintemp           141556 non-null  float64\n",
      " 3   maxtemp           141871 non-null  float64\n",
      " 4   rainfall          140787 non-null  float64\n",
      " 5   evaporation       81350 non-null   float64\n",
      " 6   sunshine          74377 non-null   float64\n",
      " 7   humidity9am       140419 non-null  float64\n",
      " 8   humidity3pm       138583 non-null  float64\n",
      " 9   pressure9am       128179 non-null  float64\n",
      " 10  pressure3pm       128212 non-null  float64\n",
      " 11  cloud9am          88536 non-null   float64\n",
      " 12  cloud3pm          85099 non-null   float64\n",
      " 13  temp9am           141289 non-null  float64\n",
      " 14  temp3pm           139467 non-null  float64\n",
      " 15  raintoday         140787 non-null  object \n",
      " 16  amountOfRain      142193 non-null  float64\n",
      " 17  raintomorrow      142193 non-null  object \n",
      " 18  temp              141871 non-null  float64\n",
      " 19  humidity          138583 non-null  float64\n",
      " 20  precipitation3pm  142193 non-null  int64  \n",
      " 21  precipitation9am  142193 non-null  float64\n",
      " 22  modelo_vigente    142193 non-null  float64\n",
      "dtypes: float64(18), int64(1), object(4)\n",
      "memory usage: 25.0+ MB\n"
     ]
    }
   ],
   "source": [
    "rain.info()"
   ]
  },
  {
   "cell_type": "code",
   "execution_count": 69,
   "id": "alpha-fraud",
   "metadata": {
    "ExecuteTime": {
     "end_time": "2021-05-07T15:21:09.333408Z",
     "start_time": "2021-05-07T15:21:09.211654Z"
    }
   },
   "outputs": [
    {
     "name": "stdout",
     "output_type": "stream",
     "text": [
      "2007-11-01\n",
      "2017-06-25\n"
     ]
    }
   ],
   "source": [
    "print(rain['date'].min())\n",
    "print(rain['date'].max())"
   ]
  },
  {
   "cell_type": "markdown",
   "id": "caroline-receptor",
   "metadata": {},
   "source": [
    "###  Dados de vento"
   ]
  },
  {
   "cell_type": "code",
   "execution_count": 52,
   "id": "searching-surrey",
   "metadata": {
    "ExecuteTime": {
     "end_time": "2021-05-07T15:07:21.071784Z",
     "start_time": "2021-05-07T15:07:21.021918Z"
    }
   },
   "outputs": [
    {
     "data": {
      "text/html": [
       "<div>\n",
       "<style scoped>\n",
       "    .dataframe tbody tr th:only-of-type {\n",
       "        vertical-align: middle;\n",
       "    }\n",
       "\n",
       "    .dataframe tbody tr th {\n",
       "        vertical-align: top;\n",
       "    }\n",
       "\n",
       "    .dataframe thead th {\n",
       "        text-align: right;\n",
       "    }\n",
       "</style>\n",
       "<table border=\"1\" class=\"dataframe\">\n",
       "  <thead>\n",
       "    <tr style=\"text-align: right;\">\n",
       "      <th></th>\n",
       "      <th>date</th>\n",
       "      <th>location</th>\n",
       "      <th>wind_gustdir</th>\n",
       "      <th>wind_gustspeed</th>\n",
       "      <th>wind_dir9am</th>\n",
       "      <th>wind_dir3pm</th>\n",
       "      <th>wind_speed9am</th>\n",
       "      <th>wind_speed3pm</th>\n",
       "    </tr>\n",
       "  </thead>\n",
       "  <tbody>\n",
       "    <tr>\n",
       "      <th>0</th>\n",
       "      <td>2007-11-01</td>\n",
       "      <td>Canberra</td>\n",
       "      <td>NW</td>\n",
       "      <td>30.0</td>\n",
       "      <td>SW</td>\n",
       "      <td>NW</td>\n",
       "      <td>6.0</td>\n",
       "      <td>20.0</td>\n",
       "    </tr>\n",
       "    <tr>\n",
       "      <th>1</th>\n",
       "      <td>2007-11-02</td>\n",
       "      <td>Canberra</td>\n",
       "      <td>ENE</td>\n",
       "      <td>39.0</td>\n",
       "      <td>E</td>\n",
       "      <td>W</td>\n",
       "      <td>4.0</td>\n",
       "      <td>17.0</td>\n",
       "    </tr>\n",
       "    <tr>\n",
       "      <th>2</th>\n",
       "      <td>2007-11-03</td>\n",
       "      <td>Canberra</td>\n",
       "      <td>NW</td>\n",
       "      <td>85.0</td>\n",
       "      <td>N</td>\n",
       "      <td>NNE</td>\n",
       "      <td>6.0</td>\n",
       "      <td>6.0</td>\n",
       "    </tr>\n",
       "    <tr>\n",
       "      <th>3</th>\n",
       "      <td>2007-11-04</td>\n",
       "      <td>Canberra</td>\n",
       "      <td>NW</td>\n",
       "      <td>54.0</td>\n",
       "      <td>WNW</td>\n",
       "      <td>W</td>\n",
       "      <td>30.0</td>\n",
       "      <td>24.0</td>\n",
       "    </tr>\n",
       "    <tr>\n",
       "      <th>4</th>\n",
       "      <td>2007-11-05</td>\n",
       "      <td>Canberra</td>\n",
       "      <td>SSE</td>\n",
       "      <td>50.0</td>\n",
       "      <td>SSE</td>\n",
       "      <td>ESE</td>\n",
       "      <td>20.0</td>\n",
       "      <td>28.0</td>\n",
       "    </tr>\n",
       "  </tbody>\n",
       "</table>\n",
       "</div>"
      ],
      "text/plain": [
       "         date  location wind_gustdir  wind_gustspeed wind_dir9am wind_dir3pm  \\\n",
       "0  2007-11-01  Canberra           NW            30.0          SW          NW   \n",
       "1  2007-11-02  Canberra          ENE            39.0           E           W   \n",
       "2  2007-11-03  Canberra           NW            85.0           N         NNE   \n",
       "3  2007-11-04  Canberra           NW            54.0         WNW           W   \n",
       "4  2007-11-05  Canberra          SSE            50.0         SSE         ESE   \n",
       "\n",
       "   wind_speed9am  wind_speed3pm  \n",
       "0            6.0           20.0  \n",
       "1            4.0           17.0  \n",
       "2            6.0            6.0  \n",
       "3           30.0           24.0  \n",
       "4           20.0           28.0  "
      ]
     },
     "execution_count": 52,
     "metadata": {},
     "output_type": "execute_result"
    }
   ],
   "source": [
    "wind = pd.read_csv('data_rain/wind_table_01.csv')\n",
    "wind.head()"
   ]
  },
  {
   "cell_type": "code",
   "execution_count": 53,
   "id": "worst-killing",
   "metadata": {
    "ExecuteTime": {
     "end_time": "2021-05-07T15:07:22.882480Z",
     "start_time": "2021-05-07T15:07:22.448892Z"
    }
   },
   "outputs": [
    {
     "data": {
      "text/html": [
       "<div>\n",
       "<style scoped>\n",
       "    .dataframe tbody tr th:only-of-type {\n",
       "        vertical-align: middle;\n",
       "    }\n",
       "\n",
       "    .dataframe tbody tr th {\n",
       "        vertical-align: top;\n",
       "    }\n",
       "\n",
       "    .dataframe thead th {\n",
       "        text-align: right;\n",
       "    }\n",
       "</style>\n",
       "<table border=\"1\" class=\"dataframe\">\n",
       "  <thead>\n",
       "    <tr style=\"text-align: right;\">\n",
       "      <th></th>\n",
       "      <th>date</th>\n",
       "      <th>location</th>\n",
       "      <th>wind_gustdir</th>\n",
       "      <th>wind_gustspeed</th>\n",
       "      <th>wind_dir9am</th>\n",
       "      <th>wind_dir3pm</th>\n",
       "      <th>wind_speed9am</th>\n",
       "      <th>wind_speed3pm</th>\n",
       "      <th>windgustdir</th>\n",
       "      <th>windgustspeed</th>\n",
       "      <th>winddir9am</th>\n",
       "      <th>winddir3pm</th>\n",
       "      <th>windspeed9am</th>\n",
       "      <th>windspeed3pm</th>\n",
       "    </tr>\n",
       "  </thead>\n",
       "  <tbody>\n",
       "    <tr>\n",
       "      <th>0</th>\n",
       "      <td>2007-11-01</td>\n",
       "      <td>Canberra</td>\n",
       "      <td>NW</td>\n",
       "      <td>30.0</td>\n",
       "      <td>SW</td>\n",
       "      <td>NW</td>\n",
       "      <td>6.0</td>\n",
       "      <td>20.0</td>\n",
       "      <td>NaN</td>\n",
       "      <td>NaN</td>\n",
       "      <td>NaN</td>\n",
       "      <td>NaN</td>\n",
       "      <td>NaN</td>\n",
       "      <td>NaN</td>\n",
       "    </tr>\n",
       "    <tr>\n",
       "      <th>1</th>\n",
       "      <td>2007-11-02</td>\n",
       "      <td>Canberra</td>\n",
       "      <td>ENE</td>\n",
       "      <td>39.0</td>\n",
       "      <td>E</td>\n",
       "      <td>W</td>\n",
       "      <td>4.0</td>\n",
       "      <td>17.0</td>\n",
       "      <td>NaN</td>\n",
       "      <td>NaN</td>\n",
       "      <td>NaN</td>\n",
       "      <td>NaN</td>\n",
       "      <td>NaN</td>\n",
       "      <td>NaN</td>\n",
       "    </tr>\n",
       "    <tr>\n",
       "      <th>2</th>\n",
       "      <td>2007-11-03</td>\n",
       "      <td>Canberra</td>\n",
       "      <td>NW</td>\n",
       "      <td>85.0</td>\n",
       "      <td>N</td>\n",
       "      <td>NNE</td>\n",
       "      <td>6.0</td>\n",
       "      <td>6.0</td>\n",
       "      <td>NaN</td>\n",
       "      <td>NaN</td>\n",
       "      <td>NaN</td>\n",
       "      <td>NaN</td>\n",
       "      <td>NaN</td>\n",
       "      <td>NaN</td>\n",
       "    </tr>\n",
       "    <tr>\n",
       "      <th>3</th>\n",
       "      <td>2007-11-04</td>\n",
       "      <td>Canberra</td>\n",
       "      <td>NW</td>\n",
       "      <td>54.0</td>\n",
       "      <td>WNW</td>\n",
       "      <td>W</td>\n",
       "      <td>30.0</td>\n",
       "      <td>24.0</td>\n",
       "      <td>NaN</td>\n",
       "      <td>NaN</td>\n",
       "      <td>NaN</td>\n",
       "      <td>NaN</td>\n",
       "      <td>NaN</td>\n",
       "      <td>NaN</td>\n",
       "    </tr>\n",
       "    <tr>\n",
       "      <th>4</th>\n",
       "      <td>2007-11-05</td>\n",
       "      <td>Canberra</td>\n",
       "      <td>SSE</td>\n",
       "      <td>50.0</td>\n",
       "      <td>SSE</td>\n",
       "      <td>ESE</td>\n",
       "      <td>20.0</td>\n",
       "      <td>28.0</td>\n",
       "      <td>NaN</td>\n",
       "      <td>NaN</td>\n",
       "      <td>NaN</td>\n",
       "      <td>NaN</td>\n",
       "      <td>NaN</td>\n",
       "      <td>NaN</td>\n",
       "    </tr>\n",
       "  </tbody>\n",
       "</table>\n",
       "</div>"
      ],
      "text/plain": [
       "         date  location wind_gustdir  wind_gustspeed wind_dir9am wind_dir3pm  \\\n",
       "0  2007-11-01  Canberra           NW            30.0          SW          NW   \n",
       "1  2007-11-02  Canberra          ENE            39.0           E           W   \n",
       "2  2007-11-03  Canberra           NW            85.0           N         NNE   \n",
       "3  2007-11-04  Canberra           NW            54.0         WNW           W   \n",
       "4  2007-11-05  Canberra          SSE            50.0         SSE         ESE   \n",
       "\n",
       "   wind_speed9am  wind_speed3pm windgustdir  windgustspeed winddir9am  \\\n",
       "0            6.0           20.0         NaN            NaN        NaN   \n",
       "1            4.0           17.0         NaN            NaN        NaN   \n",
       "2            6.0            6.0         NaN            NaN        NaN   \n",
       "3           30.0           24.0         NaN            NaN        NaN   \n",
       "4           20.0           28.0         NaN            NaN        NaN   \n",
       "\n",
       "  winddir3pm  windspeed9am  windspeed3pm  \n",
       "0        NaN           NaN           NaN  \n",
       "1        NaN           NaN           NaN  \n",
       "2        NaN           NaN           NaN  \n",
       "3        NaN           NaN           NaN  \n",
       "4        NaN           NaN           NaN  "
      ]
     },
     "execution_count": 53,
     "metadata": {},
     "output_type": "execute_result"
    }
   ],
   "source": [
    "for i in range(2,9):\n",
    "    wind = pd.concat([wind, pd.read_csv(f'data_rain/wind_table_0{i}.csv')], ignore_index=True)\n",
    "    \n",
    "wind.head()"
   ]
  },
  {
   "cell_type": "code",
   "execution_count": 46,
   "id": "published-johnston",
   "metadata": {
    "ExecuteTime": {
     "end_time": "2021-05-07T15:06:28.160023Z",
     "start_time": "2021-05-07T15:06:28.088213Z"
    }
   },
   "outputs": [
    {
     "name": "stdout",
     "output_type": "stream",
     "text": [
      "<class 'pandas.core.frame.DataFrame'>\n",
      "RangeIndex: 164386 entries, 0 to 164385\n",
      "Data columns (total 14 columns):\n",
      " #   Column          Non-Null Count   Dtype  \n",
      "---  ------          --------------   -----  \n",
      " 0   date            164386 non-null  object \n",
      " 1   location        164386 non-null  object \n",
      " 2   wind_gustdir    36419 non-null   object \n",
      " 3   wind_gustspeed  36426 non-null   float64\n",
      " 4   wind_dir9am     36932 non-null   object \n",
      " 5   wind_dir3pm     38990 non-null   object \n",
      " 6   wind_speed9am   39300 non-null   float64\n",
      " 7   wind_speed3pm   39328 non-null   float64\n",
      " 8   windgustdir     117389 non-null  object \n",
      " 9   windgustspeed   117442 non-null  float64\n",
      " 10  winddir9am      116026 non-null  object \n",
      " 11  winddir3pm      120561 non-null  object \n",
      " 12  windspeed9am    123633 non-null  float64\n",
      " 13  windspeed3pm    121475 non-null  float64\n",
      "dtypes: float64(6), object(8)\n",
      "memory usage: 17.6+ MB\n"
     ]
    }
   ],
   "source": [
    "wind.info()"
   ]
  },
  {
   "cell_type": "code",
   "execution_count": 57,
   "id": "progressive-picture",
   "metadata": {
    "ExecuteTime": {
     "end_time": "2021-05-07T15:08:47.612080Z",
     "start_time": "2021-05-07T15:08:47.491385Z"
    }
   },
   "outputs": [],
   "source": [
    "cont = 2\n",
    "for col in wind.columns[8:14]:\n",
    "    wind.loc[~wind[col].isnull(), wind.columns[cont]] = wind.loc[~wind[col].isnull(), col]\n",
    "    cont +=1\n",
    "    \n",
    "wind = wind.drop(['windgustdir', 'windgustspeed', 'winddir9am', 'winddir3pm', 'windspeed9am', 'windspeed3pm'], axis=1)"
   ]
  },
  {
   "cell_type": "code",
   "execution_count": 58,
   "id": "patent-proxy",
   "metadata": {
    "ExecuteTime": {
     "end_time": "2021-05-07T15:08:56.497847Z",
     "start_time": "2021-05-07T15:08:56.452936Z"
    }
   },
   "outputs": [
    {
     "name": "stdout",
     "output_type": "stream",
     "text": [
      "<class 'pandas.core.frame.DataFrame'>\n",
      "RangeIndex: 164386 entries, 0 to 164385\n",
      "Data columns (total 8 columns):\n",
      " #   Column          Non-Null Count   Dtype  \n",
      "---  ------          --------------   -----  \n",
      " 0   date            164386 non-null  object \n",
      " 1   location        164386 non-null  object \n",
      " 2   wind_gustdir    153808 non-null  object \n",
      " 3   wind_gustspeed  153868 non-null  float64\n",
      " 4   wind_dir9am     152958 non-null  object \n",
      " 5   wind_dir3pm     159551 non-null  object \n",
      " 6   wind_speed9am   162933 non-null  float64\n",
      " 7   wind_speed3pm   160803 non-null  float64\n",
      "dtypes: float64(3), object(5)\n",
      "memory usage: 10.0+ MB\n"
     ]
    }
   ],
   "source": [
    "wind.info()"
   ]
  },
  {
   "cell_type": "code",
   "execution_count": 70,
   "id": "extreme-occupation",
   "metadata": {
    "ExecuteTime": {
     "end_time": "2021-05-07T15:21:25.612277Z",
     "start_time": "2021-05-07T15:21:25.579363Z"
    }
   },
   "outputs": [
    {
     "name": "stdout",
     "output_type": "stream",
     "text": [
      "2007-11-01\n",
      "2017-06-25\n"
     ]
    }
   ],
   "source": [
    "print(wind['date'].min())\n",
    "print(wind['date'].max())"
   ]
  },
  {
   "cell_type": "markdown",
   "id": "israeli-serbia",
   "metadata": {},
   "source": [
    "###  Agregando duas tabelas"
   ]
  },
  {
   "cell_type": "code",
   "execution_count": 76,
   "id": "worse-determination",
   "metadata": {
    "ExecuteTime": {
     "end_time": "2021-05-07T15:27:46.783624Z",
     "start_time": "2021-05-07T15:27:46.546122Z"
    }
   },
   "outputs": [],
   "source": [
    "df = pd.merge(left=rain, right=wind, how='left', on=['date', 'location'])"
   ]
  },
  {
   "cell_type": "code",
   "execution_count": 77,
   "id": "careful-schedule",
   "metadata": {
    "ExecuteTime": {
     "end_time": "2021-05-07T15:27:47.336147Z",
     "start_time": "2021-05-07T15:27:47.330161Z"
    }
   },
   "outputs": [
    {
     "data": {
      "text/plain": [
       "(164386, 28)"
      ]
     },
     "execution_count": 77,
     "metadata": {},
     "output_type": "execute_result"
    }
   ],
   "source": [
    "df.shape"
   ]
  },
  {
   "cell_type": "code",
   "execution_count": 78,
   "id": "nonprofit-botswana",
   "metadata": {
    "ExecuteTime": {
     "end_time": "2021-05-07T15:27:49.903919Z",
     "start_time": "2021-05-07T15:27:49.823705Z"
    }
   },
   "outputs": [
    {
     "name": "stdout",
     "output_type": "stream",
     "text": [
      "<class 'pandas.core.frame.DataFrame'>\n",
      "Int64Index: 164386 entries, 0 to 164385\n",
      "Data columns (total 28 columns):\n",
      " #   Column            Non-Null Count   Dtype  \n",
      "---  ------            --------------   -----  \n",
      " 0   date              164386 non-null  object \n",
      " 1   location          164386 non-null  object \n",
      " 2   mintemp           163614 non-null  float64\n",
      " 3   maxtemp           163989 non-null  float64\n",
      " 4   rainfall          162767 non-null  float64\n",
      " 5   evaporation       90128 non-null   float64\n",
      " 6   sunshine          80607 non-null   float64\n",
      " 7   humidity9am       162352 non-null  float64\n",
      " 8   humidity3pm       159262 non-null  float64\n",
      " 9   pressure9am       148085 non-null  float64\n",
      " 10  pressure3pm       148113 non-null  float64\n",
      " 11  cloud9am          100879 non-null  float64\n",
      " 12  cloud3pm          95716 non-null   float64\n",
      " 13  temp9am           163410 non-null  float64\n",
      " 14  temp3pm           160309 non-null  float64\n",
      " 15  raintoday         162767 non-null  object \n",
      " 16  amountOfRain      164386 non-null  float64\n",
      " 17  raintomorrow      164386 non-null  object \n",
      " 18  temp              163989 non-null  float64\n",
      " 19  humidity          159262 non-null  float64\n",
      " 20  precipitation3pm  164386 non-null  int64  \n",
      " 21  precipitation9am  164386 non-null  float64\n",
      " 22  wind_gustdir      153808 non-null  object \n",
      " 23  wind_gustspeed    153868 non-null  float64\n",
      " 24  wind_dir9am       152958 non-null  object \n",
      " 25  wind_dir3pm       159551 non-null  object \n",
      " 26  wind_speed9am     162933 non-null  float64\n",
      " 27  wind_speed3pm     160803 non-null  float64\n",
      "dtypes: float64(20), int64(1), object(7)\n",
      "memory usage: 36.4+ MB\n"
     ]
    }
   ],
   "source": [
    "df.info()"
   ]
  },
  {
   "cell_type": "markdown",
   "id": "operational-oliver",
   "metadata": {},
   "source": [
    "##  Tratamento dos dados"
   ]
  },
  {
   "cell_type": "code",
   "execution_count": 87,
   "id": "aquatic-delivery",
   "metadata": {
    "ExecuteTime": {
     "end_time": "2021-05-07T15:32:24.016890Z",
     "start_time": "2021-05-07T15:32:23.921115Z"
    }
   },
   "outputs": [],
   "source": [
    "df['date'] = pd.to_datetime(df['date'])"
   ]
  },
  {
   "cell_type": "code",
   "execution_count": 90,
   "id": "prime-david",
   "metadata": {
    "ExecuteTime": {
     "end_time": "2021-05-07T17:11:29.061776Z",
     "start_time": "2021-05-07T17:11:28.971758Z"
    }
   },
   "outputs": [
    {
     "data": {
      "text/plain": [
       "raintoday  raintomorrow\n",
       "No         No              106828\n",
       "Yes        No               19673\n",
       "No         Yes              19372\n",
       "Yes        Yes              16894\n",
       "dtype: int64"
      ]
     },
     "execution_count": 90,
     "metadata": {},
     "output_type": "execute_result"
    }
   ],
   "source": [
    "df[['raintoday', 'raintomorrow']].value_counts()"
   ]
  },
  {
   "cell_type": "code",
   "execution_count": 99,
   "id": "realistic-newport",
   "metadata": {
    "ExecuteTime": {
     "end_time": "2021-05-07T17:15:26.688498Z",
     "start_time": "2021-05-07T17:15:26.610561Z"
    }
   },
   "outputs": [],
   "source": [
    "df['raintomorrow'] = df['raintomorrow'].apply(lambda x: 1 if x == 'Yes' else 0)"
   ]
  },
  {
   "cell_type": "code",
   "execution_count": 100,
   "id": "desirable-crystal",
   "metadata": {
    "ExecuteTime": {
     "end_time": "2021-05-07T17:15:46.902525Z",
     "start_time": "2021-05-07T17:15:46.890556Z"
    }
   },
   "outputs": [
    {
     "data": {
      "text/plain": [
       "0    127338\n",
       "1     37048\n",
       "Name: raintomorrow, dtype: int64"
      ]
     },
     "execution_count": 100,
     "metadata": {},
     "output_type": "execute_result"
    }
   ],
   "source": [
    "df['raintomorrow'].value_counts()"
   ]
  },
  {
   "cell_type": "code",
   "execution_count": 135,
   "id": "equal-allah",
   "metadata": {
    "ExecuteTime": {
     "end_time": "2021-05-07T17:41:46.361851Z",
     "start_time": "2021-05-07T17:41:46.299032Z"
    }
   },
   "outputs": [],
   "source": [
    "# Atenção: aqui, os dados nulos foram preenchidos com 0 (Negação)\n",
    "df['raintoday'] = df['raintoday'].apply(lambda x: 1 if x == 'Yes' else 0)"
   ]
  },
  {
   "cell_type": "code",
   "execution_count": 136,
   "id": "close-settlement",
   "metadata": {
    "ExecuteTime": {
     "end_time": "2021-05-07T17:41:57.539511Z",
     "start_time": "2021-05-07T17:41:57.531566Z"
    }
   },
   "outputs": [
    {
     "data": {
      "text/plain": [
       "0    127819\n",
       "1     36567\n",
       "Name: raintoday, dtype: int64"
      ]
     },
     "execution_count": 136,
     "metadata": {},
     "output_type": "execute_result"
    }
   ],
   "source": [
    "df['raintoday'].value_counts()"
   ]
  },
  {
   "cell_type": "code",
   "execution_count": 148,
   "id": "cheap-array",
   "metadata": {
    "ExecuteTime": {
     "end_time": "2021-05-07T17:51:51.936989Z",
     "start_time": "2021-05-07T17:51:51.836382Z"
    }
   },
   "outputs": [],
   "source": [
    "from sklearn.preprocessing import LabelEncoder\n",
    "\n",
    "encoder = LabelEncoder()\n",
    "encoder.fit(df['wind_gustdir'])\n",
    "\n",
    "\n",
    "df['wind_gustdir'] = encoder.transform(df['wind_gustdir'])\n",
    "df['wind_dir9am'] = encoder.transform(df['wind_dir9am'])\n",
    "df['wind_dir3pm'] = encoder.transform(df['wind_dir3pm'])"
   ]
  },
  {
   "cell_type": "code",
   "execution_count": 150,
   "id": "dietary-large",
   "metadata": {
    "ExecuteTime": {
     "end_time": "2021-05-07T17:55:13.671103Z",
     "start_time": "2021-05-07T17:55:13.653128Z"
    }
   },
   "outputs": [
    {
     "data": {
      "text/html": [
       "<div>\n",
       "<style scoped>\n",
       "    .dataframe tbody tr th:only-of-type {\n",
       "        vertical-align: middle;\n",
       "    }\n",
       "\n",
       "    .dataframe tbody tr th {\n",
       "        vertical-align: top;\n",
       "    }\n",
       "\n",
       "    .dataframe thead th {\n",
       "        text-align: right;\n",
       "    }\n",
       "</style>\n",
       "<table border=\"1\" class=\"dataframe\">\n",
       "  <thead>\n",
       "    <tr style=\"text-align: right;\">\n",
       "      <th></th>\n",
       "      <th>mintemp</th>\n",
       "      <th>maxtemp</th>\n",
       "      <th>temp</th>\n",
       "      <th>temp9am</th>\n",
       "      <th>temp3pm</th>\n",
       "    </tr>\n",
       "  </thead>\n",
       "  <tbody>\n",
       "    <tr>\n",
       "      <th>0</th>\n",
       "      <td>13.4</td>\n",
       "      <td>22.9</td>\n",
       "      <td>29.48</td>\n",
       "      <td>16.9</td>\n",
       "      <td>21.8</td>\n",
       "    </tr>\n",
       "    <tr>\n",
       "      <th>1</th>\n",
       "      <td>7.4</td>\n",
       "      <td>25.1</td>\n",
       "      <td>32.12</td>\n",
       "      <td>17.2</td>\n",
       "      <td>24.3</td>\n",
       "    </tr>\n",
       "    <tr>\n",
       "      <th>2</th>\n",
       "      <td>12.9</td>\n",
       "      <td>25.7</td>\n",
       "      <td>32.84</td>\n",
       "      <td>21.0</td>\n",
       "      <td>23.2</td>\n",
       "    </tr>\n",
       "    <tr>\n",
       "      <th>3</th>\n",
       "      <td>9.2</td>\n",
       "      <td>28.0</td>\n",
       "      <td>35.60</td>\n",
       "      <td>18.1</td>\n",
       "      <td>26.5</td>\n",
       "    </tr>\n",
       "    <tr>\n",
       "      <th>4</th>\n",
       "      <td>17.5</td>\n",
       "      <td>32.3</td>\n",
       "      <td>40.76</td>\n",
       "      <td>17.8</td>\n",
       "      <td>29.7</td>\n",
       "    </tr>\n",
       "    <tr>\n",
       "      <th>...</th>\n",
       "      <td>...</td>\n",
       "      <td>...</td>\n",
       "      <td>...</td>\n",
       "      <td>...</td>\n",
       "      <td>...</td>\n",
       "    </tr>\n",
       "    <tr>\n",
       "      <th>164381</th>\n",
       "      <td>3.6</td>\n",
       "      <td>25.3</td>\n",
       "      <td>32.36</td>\n",
       "      <td>10.9</td>\n",
       "      <td>24.5</td>\n",
       "    </tr>\n",
       "    <tr>\n",
       "      <th>164382</th>\n",
       "      <td>5.4</td>\n",
       "      <td>26.9</td>\n",
       "      <td>34.28</td>\n",
       "      <td>12.5</td>\n",
       "      <td>26.1</td>\n",
       "    </tr>\n",
       "    <tr>\n",
       "      <th>164383</th>\n",
       "      <td>5.4</td>\n",
       "      <td>26.9</td>\n",
       "      <td>34.28</td>\n",
       "      <td>12.5</td>\n",
       "      <td>26.1</td>\n",
       "    </tr>\n",
       "    <tr>\n",
       "      <th>164384</th>\n",
       "      <td>7.8</td>\n",
       "      <td>27.0</td>\n",
       "      <td>34.40</td>\n",
       "      <td>15.1</td>\n",
       "      <td>26.0</td>\n",
       "    </tr>\n",
       "    <tr>\n",
       "      <th>164385</th>\n",
       "      <td>7.8</td>\n",
       "      <td>27.0</td>\n",
       "      <td>34.40</td>\n",
       "      <td>15.1</td>\n",
       "      <td>26.0</td>\n",
       "    </tr>\n",
       "  </tbody>\n",
       "</table>\n",
       "<p>164386 rows × 5 columns</p>\n",
       "</div>"
      ],
      "text/plain": [
       "        mintemp  maxtemp   temp  temp9am  temp3pm\n",
       "0          13.4     22.9  29.48     16.9     21.8\n",
       "1           7.4     25.1  32.12     17.2     24.3\n",
       "2          12.9     25.7  32.84     21.0     23.2\n",
       "3           9.2     28.0  35.60     18.1     26.5\n",
       "4          17.5     32.3  40.76     17.8     29.7\n",
       "...         ...      ...    ...      ...      ...\n",
       "164381      3.6     25.3  32.36     10.9     24.5\n",
       "164382      5.4     26.9  34.28     12.5     26.1\n",
       "164383      5.4     26.9  34.28     12.5     26.1\n",
       "164384      7.8     27.0  34.40     15.1     26.0\n",
       "164385      7.8     27.0  34.40     15.1     26.0\n",
       "\n",
       "[164386 rows x 5 columns]"
      ]
     },
     "execution_count": 150,
     "metadata": {},
     "output_type": "execute_result"
    }
   ],
   "source": [
    "df[['mintemp', 'maxtemp', 'temp', 'temp9am', 'temp3pm']]"
   ]
  },
  {
   "cell_type": "code",
   "execution_count": 152,
   "id": "congressional-butler",
   "metadata": {
    "ExecuteTime": {
     "end_time": "2021-05-07T17:57:18.018782Z",
     "start_time": "2021-05-07T17:57:17.971665Z"
    }
   },
   "outputs": [
    {
     "data": {
      "text/html": [
       "<div>\n",
       "<style scoped>\n",
       "    .dataframe tbody tr th:only-of-type {\n",
       "        vertical-align: middle;\n",
       "    }\n",
       "\n",
       "    .dataframe tbody tr th {\n",
       "        vertical-align: top;\n",
       "    }\n",
       "\n",
       "    .dataframe thead th {\n",
       "        text-align: right;\n",
       "    }\n",
       "</style>\n",
       "<table border=\"1\" class=\"dataframe\">\n",
       "  <thead>\n",
       "    <tr style=\"text-align: right;\">\n",
       "      <th></th>\n",
       "      <th>mintemp</th>\n",
       "      <th>maxtemp</th>\n",
       "      <th>temp</th>\n",
       "      <th>temp9am</th>\n",
       "      <th>temp3pm</th>\n",
       "      <th>raintomorrow</th>\n",
       "    </tr>\n",
       "  </thead>\n",
       "  <tbody>\n",
       "    <tr>\n",
       "      <th>mintemp</th>\n",
       "      <td>1.000000</td>\n",
       "      <td>0.736835</td>\n",
       "      <td>0.585375</td>\n",
       "      <td>0.902404</td>\n",
       "      <td>0.708974</td>\n",
       "      <td>0.082160</td>\n",
       "    </tr>\n",
       "    <tr>\n",
       "      <th>maxtemp</th>\n",
       "      <td>0.736835</td>\n",
       "      <td>1.000000</td>\n",
       "      <td>0.795143</td>\n",
       "      <td>0.887397</td>\n",
       "      <td>0.984536</td>\n",
       "      <td>-0.159619</td>\n",
       "    </tr>\n",
       "    <tr>\n",
       "      <th>temp</th>\n",
       "      <td>0.585375</td>\n",
       "      <td>0.795143</td>\n",
       "      <td>1.000000</td>\n",
       "      <td>0.704422</td>\n",
       "      <td>0.782308</td>\n",
       "      <td>-0.125842</td>\n",
       "    </tr>\n",
       "    <tr>\n",
       "      <th>temp9am</th>\n",
       "      <td>0.902404</td>\n",
       "      <td>0.887397</td>\n",
       "      <td>0.704422</td>\n",
       "      <td>1.000000</td>\n",
       "      <td>0.860599</td>\n",
       "      <td>-0.026293</td>\n",
       "    </tr>\n",
       "    <tr>\n",
       "      <th>temp3pm</th>\n",
       "      <td>0.708974</td>\n",
       "      <td>0.984536</td>\n",
       "      <td>0.782308</td>\n",
       "      <td>0.860599</td>\n",
       "      <td>1.000000</td>\n",
       "      <td>-0.193129</td>\n",
       "    </tr>\n",
       "    <tr>\n",
       "      <th>raintomorrow</th>\n",
       "      <td>0.082160</td>\n",
       "      <td>-0.159619</td>\n",
       "      <td>-0.125842</td>\n",
       "      <td>-0.026293</td>\n",
       "      <td>-0.193129</td>\n",
       "      <td>1.000000</td>\n",
       "    </tr>\n",
       "  </tbody>\n",
       "</table>\n",
       "</div>"
      ],
      "text/plain": [
       "               mintemp   maxtemp      temp   temp9am   temp3pm  raintomorrow\n",
       "mintemp       1.000000  0.736835  0.585375  0.902404  0.708974      0.082160\n",
       "maxtemp       0.736835  1.000000  0.795143  0.887397  0.984536     -0.159619\n",
       "temp          0.585375  0.795143  1.000000  0.704422  0.782308     -0.125842\n",
       "temp9am       0.902404  0.887397  0.704422  1.000000  0.860599     -0.026293\n",
       "temp3pm       0.708974  0.984536  0.782308  0.860599  1.000000     -0.193129\n",
       "raintomorrow  0.082160 -0.159619 -0.125842 -0.026293 -0.193129      1.000000"
      ]
     },
     "execution_count": 152,
     "metadata": {},
     "output_type": "execute_result"
    }
   ],
   "source": [
    "df[['mintemp', 'maxtemp', 'temp', 'temp9am', 'temp3pm', 'raintomorrow']].corr()"
   ]
  },
  {
   "cell_type": "code",
   "execution_count": 159,
   "id": "leading-internship",
   "metadata": {
    "ExecuteTime": {
     "end_time": "2021-05-07T18:13:32.586662Z",
     "start_time": "2021-05-07T18:13:32.564720Z"
    }
   },
   "outputs": [
    {
     "data": {
      "text/html": [
       "<div>\n",
       "<style scoped>\n",
       "    .dataframe tbody tr th:only-of-type {\n",
       "        vertical-align: middle;\n",
       "    }\n",
       "\n",
       "    .dataframe tbody tr th {\n",
       "        vertical-align: top;\n",
       "    }\n",
       "\n",
       "    .dataframe thead th {\n",
       "        text-align: right;\n",
       "    }\n",
       "</style>\n",
       "<table border=\"1\" class=\"dataframe\">\n",
       "  <thead>\n",
       "    <tr style=\"text-align: right;\">\n",
       "      <th></th>\n",
       "      <th>humidity9am</th>\n",
       "      <th>humidity3pm</th>\n",
       "      <th>humidity</th>\n",
       "    </tr>\n",
       "  </thead>\n",
       "  <tbody>\n",
       "    <tr>\n",
       "      <th>humidity9am</th>\n",
       "      <td>1.000000</td>\n",
       "      <td>0.666595</td>\n",
       "      <td>0.605826</td>\n",
       "    </tr>\n",
       "    <tr>\n",
       "      <th>humidity3pm</th>\n",
       "      <td>0.666595</td>\n",
       "      <td>1.000000</td>\n",
       "      <td>0.908273</td>\n",
       "    </tr>\n",
       "    <tr>\n",
       "      <th>humidity</th>\n",
       "      <td>0.605826</td>\n",
       "      <td>0.908273</td>\n",
       "      <td>1.000000</td>\n",
       "    </tr>\n",
       "  </tbody>\n",
       "</table>\n",
       "</div>"
      ],
      "text/plain": [
       "             humidity9am  humidity3pm  humidity\n",
       "humidity9am     1.000000     0.666595  0.605826\n",
       "humidity3pm     0.666595     1.000000  0.908273\n",
       "humidity        0.605826     0.908273  1.000000"
      ]
     },
     "execution_count": 159,
     "metadata": {},
     "output_type": "execute_result"
    }
   ],
   "source": [
    "df[['humidity9am', 'humidity3pm', 'humidity']].corr()"
   ]
  },
  {
   "cell_type": "code",
   "execution_count": 160,
   "id": "mechanical-picking",
   "metadata": {
    "ExecuteTime": {
     "end_time": "2021-05-07T18:17:30.969097Z",
     "start_time": "2021-05-07T18:17:28.718799Z"
    }
   },
   "outputs": [
    {
     "name": "stderr",
     "output_type": "stream",
     "text": [
      "C:\\Users\\issao\\AppData\\Roaming\\Python\\Python38\\site-packages\\seaborn\\distributions.py:2557: FutureWarning: `distplot` is a deprecated function and will be removed in a future version. Please adapt your code to use either `displot` (a figure-level function with similar flexibility) or `histplot` (an axes-level function for histograms).\n",
      "  warnings.warn(msg, FutureWarning)\n",
      "C:\\Users\\issao\\AppData\\Roaming\\Python\\Python38\\site-packages\\seaborn\\distributions.py:2557: FutureWarning: `distplot` is a deprecated function and will be removed in a future version. Please adapt your code to use either `displot` (a figure-level function with similar flexibility) or `histplot` (an axes-level function for histograms).\n",
      "  warnings.warn(msg, FutureWarning)\n",
      "C:\\Users\\issao\\AppData\\Roaming\\Python\\Python38\\site-packages\\seaborn\\distributions.py:2557: FutureWarning: `distplot` is a deprecated function and will be removed in a future version. Please adapt your code to use either `displot` (a figure-level function with similar flexibility) or `histplot` (an axes-level function for histograms).\n",
      "  warnings.warn(msg, FutureWarning)\n"
     ]
    },
    {
     "data": {
      "image/png": "[encoded data removed]",
      "text/plain": [
       "<Figure size 432x288 with 1 Axes>"
      ]
     },
     "metadata": {
      "needs_background": "light"
     },
     "output_type": "display_data"
    }
   ],
   "source": [
    "sns.distplot(df['humidity'], color='blue')\n",
    "sns.distplot(df['humidity9am'], color='red')\n",
    "sns.distplot(df['humidity3pm'], color='orange');"
   ]
  },
  {
   "cell_type": "code",
   "execution_count": 162,
   "id": "beautiful-stopping",
   "metadata": {
    "ExecuteTime": {
     "end_time": "2021-05-07T18:29:35.445536Z",
     "start_time": "2021-05-07T18:29:35.417611Z"
    }
   },
   "outputs": [
    {
     "data": {
      "text/plain": [
       "49"
      ]
     },
     "execution_count": 162,
     "metadata": {},
     "output_type": "execute_result"
    }
   ],
   "source": [
    "len(df['location'].value_counts())"
   ]
  },
  {
   "cell_type": "code",
   "execution_count": 196,
   "id": "million-understanding",
   "metadata": {
    "ExecuteTime": {
     "end_time": "2021-05-07T18:59:24.819503Z",
     "start_time": "2021-05-07T18:59:24.623028Z"
    }
   },
   "outputs": [
    {
     "data": {
      "text/plain": [
       "<AxesSubplot:xlabel='raintomorrow', ylabel='amountOfRain'>"
      ]
     },
     "execution_count": 196,
     "metadata": {},
     "output_type": "execute_result"
    },
    {
     "data": {
      "image/png": "[encoded data removed]",
      "text/plain": [
       "<Figure size 432x288 with 1 Axes>"
      ]
     },
     "metadata": {
      "needs_background": "light"
     },
     "output_type": "display_data"
    }
   ],
   "source": [
    "sns.boxplot(x=df['raintomorrow'], y=df['amountOfRain'])"
   ]
  },
  {
   "cell_type": "code",
   "execution_count": 210,
   "id": "copyrighted-appendix",
   "metadata": {
    "ExecuteTime": {
     "end_time": "2021-05-07T19:06:00.987146Z",
     "start_time": "2021-05-07T19:06:00.773987Z"
    }
   },
   "outputs": [
    {
     "data": {
      "text/html": [
       "<div>\n",
       "<style scoped>\n",
       "    .dataframe tbody tr th:only-of-type {\n",
       "        vertical-align: middle;\n",
       "    }\n",
       "\n",
       "    .dataframe tbody tr th {\n",
       "        vertical-align: top;\n",
       "    }\n",
       "\n",
       "    .dataframe thead tr th {\n",
       "        text-align: left;\n",
       "    }\n",
       "\n",
       "    .dataframe thead tr:last-of-type th {\n",
       "        text-align: right;\n",
       "    }\n",
       "</style>\n",
       "<table border=\"1\" class=\"dataframe\">\n",
       "  <thead>\n",
       "    <tr>\n",
       "      <th></th>\n",
       "      <th colspan=\"2\" halign=\"left\">amountOfRain</th>\n",
       "    </tr>\n",
       "    <tr>\n",
       "      <th></th>\n",
       "      <th>min</th>\n",
       "      <th>max</th>\n",
       "    </tr>\n",
       "    <tr>\n",
       "      <th>raintomorrow</th>\n",
       "      <th></th>\n",
       "      <th></th>\n",
       "    </tr>\n",
       "  </thead>\n",
       "  <tbody>\n",
       "    <tr>\n",
       "      <th>0</th>\n",
       "      <td>0.0</td>\n",
       "      <td>1.0</td>\n",
       "    </tr>\n",
       "    <tr>\n",
       "      <th>1</th>\n",
       "      <td>1.1</td>\n",
       "      <td>371.0</td>\n",
       "    </tr>\n",
       "  </tbody>\n",
       "</table>\n",
       "</div>"
      ],
      "text/plain": [
       "             amountOfRain       \n",
       "                      min    max\n",
       "raintomorrow                    \n",
       "0                     0.0    1.0\n",
       "1                     1.1  371.0"
      ]
     },
     "execution_count": 210,
     "metadata": {},
     "output_type": "execute_result"
    }
   ],
   "source": [
    "df[['amountOfRain', 'raintomorrow']].groupby('raintomorrow').agg(['min', 'max'])"
   ]
  },
  {
   "cell_type": "code",
   "execution_count": 211,
   "id": "acting-ideal",
   "metadata": {
    "ExecuteTime": {
     "end_time": "2021-05-07T19:10:52.938559Z",
     "start_time": "2021-05-07T19:10:52.917613Z"
    }
   },
   "outputs": [
    {
     "data": {
      "text/html": [
       "<div>\n",
       "<style scoped>\n",
       "    .dataframe tbody tr th:only-of-type {\n",
       "        vertical-align: middle;\n",
       "    }\n",
       "\n",
       "    .dataframe tbody tr th {\n",
       "        vertical-align: top;\n",
       "    }\n",
       "\n",
       "    .dataframe thead tr th {\n",
       "        text-align: left;\n",
       "    }\n",
       "\n",
       "    .dataframe thead tr:last-of-type th {\n",
       "        text-align: right;\n",
       "    }\n",
       "</style>\n",
       "<table border=\"1\" class=\"dataframe\">\n",
       "  <thead>\n",
       "    <tr>\n",
       "      <th></th>\n",
       "      <th colspan=\"2\" halign=\"left\">amountOfRain</th>\n",
       "    </tr>\n",
       "    <tr>\n",
       "      <th></th>\n",
       "      <th>min</th>\n",
       "      <th>max</th>\n",
       "    </tr>\n",
       "    <tr>\n",
       "      <th>raintoday</th>\n",
       "      <th></th>\n",
       "      <th></th>\n",
       "    </tr>\n",
       "  </thead>\n",
       "  <tbody>\n",
       "    <tr>\n",
       "      <th>0</th>\n",
       "      <td>0.0</td>\n",
       "      <td>240.0</td>\n",
       "    </tr>\n",
       "    <tr>\n",
       "      <th>1</th>\n",
       "      <td>0.0</td>\n",
       "      <td>371.0</td>\n",
       "    </tr>\n",
       "  </tbody>\n",
       "</table>\n",
       "</div>"
      ],
      "text/plain": [
       "          amountOfRain       \n",
       "                   min    max\n",
       "raintoday                    \n",
       "0                  0.0  240.0\n",
       "1                  0.0  371.0"
      ]
     },
     "execution_count": 211,
     "metadata": {},
     "output_type": "execute_result"
    }
   ],
   "source": [
    "df[['amountOfRain', 'raintoday']].groupby('raintoday').agg(['min', 'max'])"
   ]
  },
  {
   "cell_type": "code",
   "execution_count": 88,
   "id": "chicken-trustee",
   "metadata": {
    "ExecuteTime": {
     "end_time": "2021-05-07T17:05:10.484229Z",
     "start_time": "2021-05-07T17:05:10.477237Z"
    }
   },
   "outputs": [
    {
     "data": {
      "text/plain": [
       "Index(['date', 'location', 'mintemp', 'maxtemp', 'rainfall', 'evaporation',\n",
       "       'sunshine', 'humidity9am', 'humidity3pm', 'pressure9am', 'pressure3pm',\n",
       "       'cloud9am', 'cloud3pm', 'temp9am', 'temp3pm', 'raintoday',\n",
       "       'amountOfRain', 'raintomorrow', 'temp', 'humidity', 'precipitation3pm',\n",
       "       'precipitation9am', 'wind_gustdir', 'wind_gustspeed', 'wind_dir9am',\n",
       "       'wind_dir3pm', 'wind_speed9am', 'wind_speed3pm'],\n",
       "      dtype='object')"
      ]
     },
     "execution_count": 88,
     "metadata": {},
     "output_type": "execute_result"
    }
   ],
   "source": [
    "df['location', 'mintemp', 'maxtemp', 'rainfall', 'evaporation', 'sunshine', 'humidity9am', 'humidity3pm', 'pressure9am',\n",
    "   'pressure3pm', 'cloud9am', 'cloud3pm', 'temp9am', 'temp3pm', 'amountOfRain', 'temp', 'humidity', 'precipitation3pm',\n",
    "   'precipitation9am', 'wind_gustdir', 'wind_gustspeed', 'wind_dir9am', 'wind_dir3pm', 'wind_speed9am', 'wind_speed3pm']"
   ]
  },
  {
   "cell_type": "markdown",
   "id": "temporal-species",
   "metadata": {},
   "source": [
    "##  Separando treino e teste"
   ]
  },
  {
   "cell_type": "code",
   "execution_count": 200,
   "id": "transsexual-roberts",
   "metadata": {
    "ExecuteTime": {
     "end_time": "2021-05-07T19:03:08.097981Z",
     "start_time": "2021-05-07T19:03:08.070057Z"
    }
   },
   "outputs": [],
   "source": [
    "X = df[['mintemp', 'maxtemp', 'rainfall', 'evaporation', 'sunshine', 'humidity9am', 'humidity3pm', 'pressure9am',\n",
    "       'pressure3pm', 'cloud9am', 'cloud3pm', 'raintoday', 'precipitation3pm', 'precipitation9am',\n",
    "       'wind_gustdir', 'wind_gustspeed', 'wind_dir9am', 'wind_dir3pm', 'wind_speed9am', 'wind_speed3pm']]\n",
    "y = df['raintomorrow']"
   ]
  },
  {
   "cell_type": "code",
   "execution_count": 201,
   "id": "twelve-hurricane",
   "metadata": {
    "ExecuteTime": {
     "end_time": "2021-05-07T19:03:08.718356Z",
     "start_time": "2021-05-07T19:03:08.606561Z"
    }
   },
   "outputs": [],
   "source": [
    "from sklearn.model_selection import train_test_split\n",
    "\n",
    "X_train, X_test, y_train, y_test = train_test_split(X, y, test_size=0.2, random_state=35, stratify=y)"
   ]
  },
  {
   "cell_type": "code",
   "execution_count": 202,
   "id": "dressed-wheat",
   "metadata": {
    "ExecuteTime": {
     "end_time": "2021-05-07T19:03:09.185256Z",
     "start_time": "2021-05-07T19:03:09.179924Z"
    }
   },
   "outputs": [
    {
     "data": {
      "text/plain": [
       "(131508, 20)"
      ]
     },
     "execution_count": 202,
     "metadata": {},
     "output_type": "execute_result"
    }
   ],
   "source": [
    "X_train.shape"
   ]
  },
  {
   "cell_type": "markdown",
   "id": "sublime-gabriel",
   "metadata": {},
   "source": [
    "##  Standard"
   ]
  },
  {
   "cell_type": "markdown",
   "id": "narrow-explosion",
   "metadata": {},
   "source": [
    "from sklearn.preprocessing import StandardScaler\n",
    "\n",
    "scaler = StandardScaler()\n",
    "scaler.fit(X_train)"
   ]
  },
  {
   "cell_type": "markdown",
   "id": "specialized-orientation",
   "metadata": {},
   "source": [
    "##  Treinando modelo LGBM"
   ]
  },
  {
   "cell_type": "code",
   "execution_count": 203,
   "id": "finished-launch",
   "metadata": {
    "ExecuteTime": {
     "end_time": "2021-05-07T19:03:12.409830Z",
     "start_time": "2021-05-07T19:03:12.023785Z"
    }
   },
   "outputs": [
    {
     "data": {
      "text/plain": [
       "LGBMClassifier(colsample_bytree=0.3, max_depth=2, n_estimators=50)"
      ]
     },
     "execution_count": 203,
     "metadata": {},
     "output_type": "execute_result"
    }
   ],
   "source": [
    "from lightgbm import LGBMClassifier, plot_importance\n",
    "\n",
    "lgbm = LGBMClassifier(max_depth=2, n_estimators=50, colsample_bytree=.3, n_jobs=-1)\n",
    "lgbm.fit(X_train, y_train)"
   ]
  },
  {
   "cell_type": "code",
   "execution_count": 204,
   "id": "exclusive-official",
   "metadata": {
    "ExecuteTime": {
     "end_time": "2021-05-07T19:03:13.469411Z",
     "start_time": "2021-05-07T19:03:13.216298Z"
    }
   },
   "outputs": [
    {
     "name": "stdout",
     "output_type": "stream",
     "text": [
      "0.8504460763491916\n",
      "0.8523360505109532\n"
     ]
    }
   ],
   "source": [
    "from sklearn.metrics import roc_auc_score, plot_roc_curve\n",
    "\n",
    "print(roc_auc_score(y_train, lgbm.predict_proba(X_train)[:,1]))\n",
    "print(roc_auc_score(y_test, lgbm.predict_proba(X_test)[:,1]))"
   ]
  },
  {
   "cell_type": "code",
   "execution_count": 205,
   "id": "german-newsletter",
   "metadata": {
    "ExecuteTime": {
     "end_time": "2021-05-07T19:03:17.777459Z",
     "start_time": "2021-05-07T19:03:17.729587Z"
    }
   },
   "outputs": [
    {
     "data": {
      "text/plain": [
       "array([0.25416673, 0.2152516 , 0.10825203, ..., 0.15417323, 0.20923534,\n",
       "       0.04531317])"
      ]
     },
     "execution_count": 205,
     "metadata": {},
     "output_type": "execute_result"
    }
   ],
   "source": [
    "lgbm.predict_proba(X_test)[:,1]"
   ]
  },
  {
   "cell_type": "code",
   "execution_count": 206,
   "id": "annoying-crazy",
   "metadata": {
    "ExecuteTime": {
     "end_time": "2021-05-07T19:03:19.475381Z",
     "start_time": "2021-05-07T19:03:19.291363Z"
    }
   },
   "outputs": [
    {
     "name": "stdout",
     "output_type": "stream",
     "text": [
      "0.37206477732793525\n",
      "0.7522510231923601\n",
      "0.4978781038374719\n"
     ]
    }
   ],
   "source": [
    "from sklearn.metrics import precision_score, recall_score, f1_score\n",
    "\n",
    "print(precision_score(lgbm.predict(X_test), y_test))\n",
    "print(recall_score(lgbm.predict(X_test), y_test))\n",
    "print(f1_score(lgbm.predict(X_test), y_test))"
   ]
  },
  {
   "cell_type": "code",
   "execution_count": 207,
   "id": "about-notebook",
   "metadata": {
    "ExecuteTime": {
     "end_time": "2021-05-07T19:03:25.115068Z",
     "start_time": "2021-05-07T19:03:24.897107Z"
    }
   },
   "outputs": [
    {
     "data": {
      "text/plain": [
       "<sklearn.metrics._plot.roc_curve.RocCurveDisplay at 0x1c6afba15b0>"
      ]
     },
     "execution_count": 207,
     "metadata": {},
     "output_type": "execute_result"
    },
    {
     "data": {
      "image/png": "[encoded data removed]",
      "text/plain": [
       "<Figure size 432x288 with 1 Axes>"
      ]
     },
     "metadata": {
      "needs_background": "light"
     },
     "output_type": "display_data"
    }
   ],
   "source": [
    "plot_roc_curve(lgbm, X_test, y_test)"
   ]
  },
  {
   "cell_type": "code",
   "execution_count": 208,
   "id": "anonymous-eagle",
   "metadata": {
    "ExecuteTime": {
     "end_time": "2021-05-07T19:03:29.561217Z",
     "start_time": "2021-05-07T19:03:29.349254Z"
    }
   },
   "outputs": [
    {
     "data": {
      "text/plain": [
       "<AxesSubplot:title={'center':'Feature importance'}, xlabel='Feature importance', ylabel='Features'>"
      ]
     },
     "execution_count": 208,
     "metadata": {},
     "output_type": "execute_result"
    },
    {
     "data": {
      "image/png": "[encoded data removed]",
      "text/plain": [
       "<Figure size 432x288 with 1 Axes>"
      ]
     },
     "metadata": {
      "needs_background": "light"
     },
     "output_type": "display_data"
    }
   ],
   "source": [
    "plot_importance(lgbm, importance_type='gain')"
   ]
  }
 ],
 "metadata": {
  "kernelspec": {
   "display_name": "Python 3",
   "language": "python",
   "name": "python3"
  },
  "language_info": {
   "codemirror_mode": {
    "name": "ipython",
    "version": 3
   },
   "file_extension": ".py",
   "mimetype": "text/x-python",
   "name": "python",
   "nbconvert_exporter": "python",
   "pygments_lexer": "ipython3",
   "version": "3.8.8"
  },
  "toc": {
   "base_numbering": 1,
   "nav_menu": {},
   "number_sections": true,
   "sideBar": true,
   "skip_h1_title": false,
   "title_cell": "Table of Contents",
   "title_sidebar": "Contents",
   "toc_cell": false,
   "toc_position": {},
   "toc_section_display": true,
   "toc_window_display": false
  },
  "varInspector": {
   "cols": {
    "lenName": 16,
    "lenType": 16,
    "lenVar": 40
   },
   "kernels_config": {
    "python": {
     "delete_cmd_postfix": "",
     "delete_cmd_prefix": "del ",
     "library": "var_list.py",
     "varRefreshCmd": "print(var_dic_list())"
    },
    "r": {
     "delete_cmd_postfix": ") ",
     "delete_cmd_prefix": "rm(",
     "library": "var_list.r",
     "varRefreshCmd": "cat(var_dic_list()) "
    }
   },
   "types_to_exclude": [
    "module",
    "function",
    "builtin_function_or_method",
    "instance",
    "_Feature"
   ],
   "window_display": false
  }
 },
 "nbformat": 4,
 "nbformat_minor": 5
}
