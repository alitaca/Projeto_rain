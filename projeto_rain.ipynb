{
 "cells": [
  {
   "cell_type": "markdown",
   "id": "attached-humidity",
   "metadata": {},
   "source": [
    "#  Projeto - Will it rain tomorrow?"
   ]
  },
  {
   "cell_type": "markdown",
   "id": "touched-steel",
   "metadata": {},
   "source": [
    "A pergunta a se fazer: qual o custo do erro na previsão?"
   ]
  },
  {
   "cell_type": "code",
   "execution_count": 29,
   "id": "stable-duncan",
   "metadata": {
    "ExecuteTime": {
     "end_time": "2021-05-11T14:26:21.499267Z",
     "start_time": "2021-05-11T14:26:21.494280Z"
    }
   },
   "outputs": [],
   "source": [
    "# Importando bibliotecas\n",
    "import pandas as pd\n",
    "import numpy as np\n",
    "import matplotlib.pyplot as plt\n",
    "import seaborn as sns\n",
    "from sklearn.model_selection import train_test_split\n",
    "\n",
    "from sklearn.pipeline import Pipeline\n",
    "\n",
    "from sklearn.impute import SimpleImputer\n",
    "\n",
    "from sklearn.model_selection import learning_curve, cross_val_score, KFold\n",
    "from sklearn.metrics import precision_score, recall_score, f1_score, roc_auc_score, plot_roc_curve"
   ]
  },
  {
   "cell_type": "markdown",
   "id": "professional-equality",
   "metadata": {
    "ExecuteTime": {
     "end_time": "2021-05-07T14:43:11.973258Z",
     "start_time": "2021-05-07T14:43:11.969268Z"
    }
   },
   "source": [
    "## Extraindo dados"
   ]
  },
  {
   "cell_type": "markdown",
   "id": "variable-nancy",
   "metadata": {},
   "source": [
    "###  Dados de chuva"
   ]
  },
  {
   "cell_type": "code",
   "execution_count": 2,
   "id": "economic-ferry",
   "metadata": {
    "ExecuteTime": {
     "end_time": "2021-05-11T14:04:32.568928Z",
     "start_time": "2021-05-11T14:04:31.848403Z"
    }
   },
   "outputs": [],
   "source": [
    "rain = pd.read_csv('data_rain/rain_data_aus.csv')"
   ]
  },
  {
   "cell_type": "code",
   "execution_count": 33,
   "id": "removable-poison",
   "metadata": {
    "ExecuteTime": {
     "end_time": "2021-05-10T19:12:11.587443Z",
     "start_time": "2021-05-10T19:12:11.549509Z"
    }
   },
   "outputs": [
    {
     "data": {
      "text/html": [
       "<div>\n",
       "<style scoped>\n",
       "    .dataframe tbody tr th:only-of-type {\n",
       "        vertical-align: middle;\n",
       "    }\n",
       "\n",
       "    .dataframe tbody tr th {\n",
       "        vertical-align: top;\n",
       "    }\n",
       "\n",
       "    .dataframe thead th {\n",
       "        text-align: right;\n",
       "    }\n",
       "</style>\n",
       "<table border=\"1\" class=\"dataframe\">\n",
       "  <thead>\n",
       "    <tr style=\"text-align: right;\">\n",
       "      <th></th>\n",
       "      <th>date</th>\n",
       "      <th>location</th>\n",
       "      <th>mintemp</th>\n",
       "      <th>maxtemp</th>\n",
       "      <th>rainfall</th>\n",
       "      <th>evaporation</th>\n",
       "      <th>sunshine</th>\n",
       "      <th>humidity9am</th>\n",
       "      <th>humidity3pm</th>\n",
       "      <th>pressure9am</th>\n",
       "      <th>...</th>\n",
       "      <th>cloud3pm</th>\n",
       "      <th>temp9am</th>\n",
       "      <th>temp3pm</th>\n",
       "      <th>raintoday</th>\n",
       "      <th>amountOfRain</th>\n",
       "      <th>raintomorrow</th>\n",
       "      <th>temp</th>\n",
       "      <th>humidity</th>\n",
       "      <th>precipitation3pm</th>\n",
       "      <th>precipitation9am</th>\n",
       "    </tr>\n",
       "  </thead>\n",
       "  <tbody>\n",
       "    <tr>\n",
       "      <th>0</th>\n",
       "      <td>2008-12-01</td>\n",
       "      <td>Albury</td>\n",
       "      <td>13.4</td>\n",
       "      <td>22.9</td>\n",
       "      <td>0.6</td>\n",
       "      <td>NaN</td>\n",
       "      <td>NaN</td>\n",
       "      <td>71.0</td>\n",
       "      <td>22.0</td>\n",
       "      <td>1007.7</td>\n",
       "      <td>...</td>\n",
       "      <td>NaN</td>\n",
       "      <td>16.9</td>\n",
       "      <td>21.8</td>\n",
       "      <td>No</td>\n",
       "      <td>0.0</td>\n",
       "      <td>No</td>\n",
       "      <td>29.48</td>\n",
       "      <td>28.400000</td>\n",
       "      <td>12</td>\n",
       "      <td>5.115360</td>\n",
       "    </tr>\n",
       "    <tr>\n",
       "      <th>1</th>\n",
       "      <td>2008-12-02</td>\n",
       "      <td>Albury</td>\n",
       "      <td>7.4</td>\n",
       "      <td>25.1</td>\n",
       "      <td>0.0</td>\n",
       "      <td>NaN</td>\n",
       "      <td>NaN</td>\n",
       "      <td>44.0</td>\n",
       "      <td>25.0</td>\n",
       "      <td>1010.6</td>\n",
       "      <td>...</td>\n",
       "      <td>NaN</td>\n",
       "      <td>17.2</td>\n",
       "      <td>24.3</td>\n",
       "      <td>No</td>\n",
       "      <td>0.0</td>\n",
       "      <td>No</td>\n",
       "      <td>32.12</td>\n",
       "      <td>2.208569</td>\n",
       "      <td>10</td>\n",
       "      <td>21.497100</td>\n",
       "    </tr>\n",
       "    <tr>\n",
       "      <th>2</th>\n",
       "      <td>2008-12-03</td>\n",
       "      <td>Albury</td>\n",
       "      <td>12.9</td>\n",
       "      <td>25.7</td>\n",
       "      <td>0.0</td>\n",
       "      <td>NaN</td>\n",
       "      <td>NaN</td>\n",
       "      <td>38.0</td>\n",
       "      <td>30.0</td>\n",
       "      <td>1007.6</td>\n",
       "      <td>...</td>\n",
       "      <td>2.0</td>\n",
       "      <td>21.0</td>\n",
       "      <td>23.2</td>\n",
       "      <td>No</td>\n",
       "      <td>0.0</td>\n",
       "      <td>No</td>\n",
       "      <td>32.84</td>\n",
       "      <td>38.000000</td>\n",
       "      <td>17</td>\n",
       "      <td>20.782859</td>\n",
       "    </tr>\n",
       "    <tr>\n",
       "      <th>3</th>\n",
       "      <td>2008-12-04</td>\n",
       "      <td>Albury</td>\n",
       "      <td>9.2</td>\n",
       "      <td>28.0</td>\n",
       "      <td>0.0</td>\n",
       "      <td>NaN</td>\n",
       "      <td>NaN</td>\n",
       "      <td>45.0</td>\n",
       "      <td>16.0</td>\n",
       "      <td>1017.6</td>\n",
       "      <td>...</td>\n",
       "      <td>NaN</td>\n",
       "      <td>18.1</td>\n",
       "      <td>26.5</td>\n",
       "      <td>No</td>\n",
       "      <td>1.0</td>\n",
       "      <td>No</td>\n",
       "      <td>35.60</td>\n",
       "      <td>21.200000</td>\n",
       "      <td>8</td>\n",
       "      <td>12.028646</td>\n",
       "    </tr>\n",
       "    <tr>\n",
       "      <th>4</th>\n",
       "      <td>2008-12-05</td>\n",
       "      <td>Albury</td>\n",
       "      <td>17.5</td>\n",
       "      <td>32.3</td>\n",
       "      <td>1.0</td>\n",
       "      <td>NaN</td>\n",
       "      <td>NaN</td>\n",
       "      <td>82.0</td>\n",
       "      <td>33.0</td>\n",
       "      <td>1010.8</td>\n",
       "      <td>...</td>\n",
       "      <td>8.0</td>\n",
       "      <td>17.8</td>\n",
       "      <td>29.7</td>\n",
       "      <td>No</td>\n",
       "      <td>0.2</td>\n",
       "      <td>No</td>\n",
       "      <td>40.76</td>\n",
       "      <td>41.600000</td>\n",
       "      <td>9</td>\n",
       "      <td>11.883546</td>\n",
       "    </tr>\n",
       "  </tbody>\n",
       "</table>\n",
       "<p>5 rows × 22 columns</p>\n",
       "</div>"
      ],
      "text/plain": [
       "         date location  mintemp  maxtemp  rainfall  evaporation  sunshine  \\\n",
       "0  2008-12-01   Albury     13.4     22.9       0.6          NaN       NaN   \n",
       "1  2008-12-02   Albury      7.4     25.1       0.0          NaN       NaN   \n",
       "2  2008-12-03   Albury     12.9     25.7       0.0          NaN       NaN   \n",
       "3  2008-12-04   Albury      9.2     28.0       0.0          NaN       NaN   \n",
       "4  2008-12-05   Albury     17.5     32.3       1.0          NaN       NaN   \n",
       "\n",
       "   humidity9am  humidity3pm  pressure9am  ...  cloud3pm  temp9am  temp3pm  \\\n",
       "0         71.0         22.0       1007.7  ...       NaN     16.9     21.8   \n",
       "1         44.0         25.0       1010.6  ...       NaN     17.2     24.3   \n",
       "2         38.0         30.0       1007.6  ...       2.0     21.0     23.2   \n",
       "3         45.0         16.0       1017.6  ...       NaN     18.1     26.5   \n",
       "4         82.0         33.0       1010.8  ...       8.0     17.8     29.7   \n",
       "\n",
       "   raintoday  amountOfRain raintomorrow   temp   humidity  precipitation3pm  \\\n",
       "0         No           0.0           No  29.48  28.400000                12   \n",
       "1         No           0.0           No  32.12   2.208569                10   \n",
       "2         No           0.0           No  32.84  38.000000                17   \n",
       "3         No           1.0           No  35.60  21.200000                 8   \n",
       "4         No           0.2           No  40.76  41.600000                 9   \n",
       "\n",
       "   precipitation9am  \n",
       "0          5.115360  \n",
       "1         21.497100  \n",
       "2         20.782859  \n",
       "3         12.028646  \n",
       "4         11.883546  \n",
       "\n",
       "[5 rows x 22 columns]"
      ]
     },
     "execution_count": 33,
     "metadata": {},
     "output_type": "execute_result"
    }
   ],
   "source": [
    "rain.head()"
   ]
  },
  {
   "cell_type": "code",
   "execution_count": 34,
   "id": "insured-maker",
   "metadata": {
    "ExecuteTime": {
     "end_time": "2021-05-10T19:12:11.933328Z",
     "start_time": "2021-05-10T19:12:11.593391Z"
    }
   },
   "outputs": [
    {
     "name": "stdout",
     "output_type": "stream",
     "text": [
      "<class 'pandas.core.frame.DataFrame'>\n",
      "RangeIndex: 142193 entries, 0 to 142192\n",
      "Data columns (total 22 columns):\n",
      " #   Column            Non-Null Count   Dtype  \n",
      "---  ------            --------------   -----  \n",
      " 0   date              142193 non-null  object \n",
      " 1   location          142193 non-null  object \n",
      " 2   mintemp           141556 non-null  float64\n",
      " 3   maxtemp           141871 non-null  float64\n",
      " 4   rainfall          140787 non-null  float64\n",
      " 5   evaporation       81350 non-null   float64\n",
      " 6   sunshine          74377 non-null   float64\n",
      " 7   humidity9am       140419 non-null  float64\n",
      " 8   humidity3pm       138583 non-null  float64\n",
      " 9   pressure9am       128179 non-null  float64\n",
      " 10  pressure3pm       128212 non-null  float64\n",
      " 11  cloud9am          88536 non-null   float64\n",
      " 12  cloud3pm          85099 non-null   float64\n",
      " 13  temp9am           141289 non-null  float64\n",
      " 14  temp3pm           139467 non-null  float64\n",
      " 15  raintoday         140787 non-null  object \n",
      " 16  amountOfRain      142193 non-null  float64\n",
      " 17  raintomorrow      142193 non-null  object \n",
      " 18  temp              141871 non-null  float64\n",
      " 19  humidity          138583 non-null  float64\n",
      " 20  precipitation3pm  142193 non-null  int64  \n",
      " 21  precipitation9am  142193 non-null  float64\n",
      "dtypes: float64(17), int64(1), object(4)\n",
      "memory usage: 23.9+ MB\n"
     ]
    }
   ],
   "source": [
    "rain.info()"
   ]
  },
  {
   "cell_type": "code",
   "execution_count": 35,
   "id": "editorial-heater",
   "metadata": {
    "ExecuteTime": {
     "end_time": "2021-05-10T19:12:12.011120Z",
     "start_time": "2021-05-10T19:12:11.936320Z"
    }
   },
   "outputs": [
    {
     "name": "stdout",
     "output_type": "stream",
     "text": [
      "2007-11-01\n",
      "2017-06-25\n"
     ]
    }
   ],
   "source": [
    "print(rain['date'].min())\n",
    "print(rain['date'].max())"
   ]
  },
  {
   "cell_type": "markdown",
   "id": "happy-secondary",
   "metadata": {},
   "source": [
    "###  Dados de vento"
   ]
  },
  {
   "cell_type": "code",
   "execution_count": 3,
   "id": "sudden-parts",
   "metadata": {
    "ExecuteTime": {
     "end_time": "2021-05-11T14:04:37.449286Z",
     "start_time": "2021-05-11T14:04:37.293668Z"
    }
   },
   "outputs": [
    {
     "data": {
      "text/html": [
       "<div>\n",
       "<style scoped>\n",
       "    .dataframe tbody tr th:only-of-type {\n",
       "        vertical-align: middle;\n",
       "    }\n",
       "\n",
       "    .dataframe tbody tr th {\n",
       "        vertical-align: top;\n",
       "    }\n",
       "\n",
       "    .dataframe thead th {\n",
       "        text-align: right;\n",
       "    }\n",
       "</style>\n",
       "<table border=\"1\" class=\"dataframe\">\n",
       "  <thead>\n",
       "    <tr style=\"text-align: right;\">\n",
       "      <th></th>\n",
       "      <th>date</th>\n",
       "      <th>location</th>\n",
       "      <th>wind_gustdir</th>\n",
       "      <th>wind_gustspeed</th>\n",
       "      <th>wind_dir9am</th>\n",
       "      <th>wind_dir3pm</th>\n",
       "      <th>wind_speed9am</th>\n",
       "      <th>wind_speed3pm</th>\n",
       "    </tr>\n",
       "  </thead>\n",
       "  <tbody>\n",
       "    <tr>\n",
       "      <th>0</th>\n",
       "      <td>2007-11-01</td>\n",
       "      <td>Canberra</td>\n",
       "      <td>NW</td>\n",
       "      <td>30.0</td>\n",
       "      <td>SW</td>\n",
       "      <td>NW</td>\n",
       "      <td>6.0</td>\n",
       "      <td>20.0</td>\n",
       "    </tr>\n",
       "    <tr>\n",
       "      <th>1</th>\n",
       "      <td>2007-11-02</td>\n",
       "      <td>Canberra</td>\n",
       "      <td>ENE</td>\n",
       "      <td>39.0</td>\n",
       "      <td>E</td>\n",
       "      <td>W</td>\n",
       "      <td>4.0</td>\n",
       "      <td>17.0</td>\n",
       "    </tr>\n",
       "    <tr>\n",
       "      <th>2</th>\n",
       "      <td>2007-11-03</td>\n",
       "      <td>Canberra</td>\n",
       "      <td>NW</td>\n",
       "      <td>85.0</td>\n",
       "      <td>N</td>\n",
       "      <td>NNE</td>\n",
       "      <td>6.0</td>\n",
       "      <td>6.0</td>\n",
       "    </tr>\n",
       "    <tr>\n",
       "      <th>3</th>\n",
       "      <td>2007-11-04</td>\n",
       "      <td>Canberra</td>\n",
       "      <td>NW</td>\n",
       "      <td>54.0</td>\n",
       "      <td>WNW</td>\n",
       "      <td>W</td>\n",
       "      <td>30.0</td>\n",
       "      <td>24.0</td>\n",
       "    </tr>\n",
       "    <tr>\n",
       "      <th>4</th>\n",
       "      <td>2007-11-05</td>\n",
       "      <td>Canberra</td>\n",
       "      <td>SSE</td>\n",
       "      <td>50.0</td>\n",
       "      <td>SSE</td>\n",
       "      <td>ESE</td>\n",
       "      <td>20.0</td>\n",
       "      <td>28.0</td>\n",
       "    </tr>\n",
       "  </tbody>\n",
       "</table>\n",
       "</div>"
      ],
      "text/plain": [
       "         date  location wind_gustdir  wind_gustspeed wind_dir9am wind_dir3pm  \\\n",
       "0  2007-11-01  Canberra           NW            30.0          SW          NW   \n",
       "1  2007-11-02  Canberra          ENE            39.0           E           W   \n",
       "2  2007-11-03  Canberra           NW            85.0           N         NNE   \n",
       "3  2007-11-04  Canberra           NW            54.0         WNW           W   \n",
       "4  2007-11-05  Canberra          SSE            50.0         SSE         ESE   \n",
       "\n",
       "   wind_speed9am  wind_speed3pm  \n",
       "0            6.0           20.0  \n",
       "1            4.0           17.0  \n",
       "2            6.0            6.0  \n",
       "3           30.0           24.0  \n",
       "4           20.0           28.0  "
      ]
     },
     "execution_count": 3,
     "metadata": {},
     "output_type": "execute_result"
    }
   ],
   "source": [
    "wind = pd.read_csv('data_rain/wind_table_01.csv')\n",
    "wind.head()"
   ]
  },
  {
   "cell_type": "code",
   "execution_count": 4,
   "id": "together-study",
   "metadata": {
    "ExecuteTime": {
     "end_time": "2021-05-11T14:04:40.218378Z",
     "start_time": "2021-05-11T14:04:39.304082Z"
    }
   },
   "outputs": [
    {
     "data": {
      "text/html": [
       "<div>\n",
       "<style scoped>\n",
       "    .dataframe tbody tr th:only-of-type {\n",
       "        vertical-align: middle;\n",
       "    }\n",
       "\n",
       "    .dataframe tbody tr th {\n",
       "        vertical-align: top;\n",
       "    }\n",
       "\n",
       "    .dataframe thead th {\n",
       "        text-align: right;\n",
       "    }\n",
       "</style>\n",
       "<table border=\"1\" class=\"dataframe\">\n",
       "  <thead>\n",
       "    <tr style=\"text-align: right;\">\n",
       "      <th></th>\n",
       "      <th>date</th>\n",
       "      <th>location</th>\n",
       "      <th>wind_gustdir</th>\n",
       "      <th>wind_gustspeed</th>\n",
       "      <th>wind_dir9am</th>\n",
       "      <th>wind_dir3pm</th>\n",
       "      <th>wind_speed9am</th>\n",
       "      <th>wind_speed3pm</th>\n",
       "      <th>windgustdir</th>\n",
       "      <th>windgustspeed</th>\n",
       "      <th>winddir9am</th>\n",
       "      <th>winddir3pm</th>\n",
       "      <th>windspeed9am</th>\n",
       "      <th>windspeed3pm</th>\n",
       "    </tr>\n",
       "  </thead>\n",
       "  <tbody>\n",
       "    <tr>\n",
       "      <th>0</th>\n",
       "      <td>2007-11-01</td>\n",
       "      <td>Canberra</td>\n",
       "      <td>NW</td>\n",
       "      <td>30.0</td>\n",
       "      <td>SW</td>\n",
       "      <td>NW</td>\n",
       "      <td>6.0</td>\n",
       "      <td>20.0</td>\n",
       "      <td>NaN</td>\n",
       "      <td>NaN</td>\n",
       "      <td>NaN</td>\n",
       "      <td>NaN</td>\n",
       "      <td>NaN</td>\n",
       "      <td>NaN</td>\n",
       "    </tr>\n",
       "    <tr>\n",
       "      <th>1</th>\n",
       "      <td>2007-11-02</td>\n",
       "      <td>Canberra</td>\n",
       "      <td>ENE</td>\n",
       "      <td>39.0</td>\n",
       "      <td>E</td>\n",
       "      <td>W</td>\n",
       "      <td>4.0</td>\n",
       "      <td>17.0</td>\n",
       "      <td>NaN</td>\n",
       "      <td>NaN</td>\n",
       "      <td>NaN</td>\n",
       "      <td>NaN</td>\n",
       "      <td>NaN</td>\n",
       "      <td>NaN</td>\n",
       "    </tr>\n",
       "    <tr>\n",
       "      <th>2</th>\n",
       "      <td>2007-11-03</td>\n",
       "      <td>Canberra</td>\n",
       "      <td>NW</td>\n",
       "      <td>85.0</td>\n",
       "      <td>N</td>\n",
       "      <td>NNE</td>\n",
       "      <td>6.0</td>\n",
       "      <td>6.0</td>\n",
       "      <td>NaN</td>\n",
       "      <td>NaN</td>\n",
       "      <td>NaN</td>\n",
       "      <td>NaN</td>\n",
       "      <td>NaN</td>\n",
       "      <td>NaN</td>\n",
       "    </tr>\n",
       "    <tr>\n",
       "      <th>3</th>\n",
       "      <td>2007-11-04</td>\n",
       "      <td>Canberra</td>\n",
       "      <td>NW</td>\n",
       "      <td>54.0</td>\n",
       "      <td>WNW</td>\n",
       "      <td>W</td>\n",
       "      <td>30.0</td>\n",
       "      <td>24.0</td>\n",
       "      <td>NaN</td>\n",
       "      <td>NaN</td>\n",
       "      <td>NaN</td>\n",
       "      <td>NaN</td>\n",
       "      <td>NaN</td>\n",
       "      <td>NaN</td>\n",
       "    </tr>\n",
       "    <tr>\n",
       "      <th>4</th>\n",
       "      <td>2007-11-05</td>\n",
       "      <td>Canberra</td>\n",
       "      <td>SSE</td>\n",
       "      <td>50.0</td>\n",
       "      <td>SSE</td>\n",
       "      <td>ESE</td>\n",
       "      <td>20.0</td>\n",
       "      <td>28.0</td>\n",
       "      <td>NaN</td>\n",
       "      <td>NaN</td>\n",
       "      <td>NaN</td>\n",
       "      <td>NaN</td>\n",
       "      <td>NaN</td>\n",
       "      <td>NaN</td>\n",
       "    </tr>\n",
       "  </tbody>\n",
       "</table>\n",
       "</div>"
      ],
      "text/plain": [
       "         date  location wind_gustdir  wind_gustspeed wind_dir9am wind_dir3pm  \\\n",
       "0  2007-11-01  Canberra           NW            30.0          SW          NW   \n",
       "1  2007-11-02  Canberra          ENE            39.0           E           W   \n",
       "2  2007-11-03  Canberra           NW            85.0           N         NNE   \n",
       "3  2007-11-04  Canberra           NW            54.0         WNW           W   \n",
       "4  2007-11-05  Canberra          SSE            50.0         SSE         ESE   \n",
       "\n",
       "   wind_speed9am  wind_speed3pm windgustdir  windgustspeed winddir9am  \\\n",
       "0            6.0           20.0         NaN            NaN        NaN   \n",
       "1            4.0           17.0         NaN            NaN        NaN   \n",
       "2            6.0            6.0         NaN            NaN        NaN   \n",
       "3           30.0           24.0         NaN            NaN        NaN   \n",
       "4           20.0           28.0         NaN            NaN        NaN   \n",
       "\n",
       "  winddir3pm  windspeed9am  windspeed3pm  \n",
       "0        NaN           NaN           NaN  \n",
       "1        NaN           NaN           NaN  \n",
       "2        NaN           NaN           NaN  \n",
       "3        NaN           NaN           NaN  \n",
       "4        NaN           NaN           NaN  "
      ]
     },
     "execution_count": 4,
     "metadata": {},
     "output_type": "execute_result"
    }
   ],
   "source": [
    "for i in range(2,9):\n",
    "    wind = pd.concat([wind, pd.read_csv(f'data_rain/wind_table_0{i}.csv')], ignore_index=True)\n",
    "    \n",
    "wind.head()"
   ]
  },
  {
   "cell_type": "code",
   "execution_count": 38,
   "id": "instructional-livestock",
   "metadata": {
    "ExecuteTime": {
     "end_time": "2021-05-10T19:12:12.924579Z",
     "start_time": "2021-05-10T19:12:12.826842Z"
    }
   },
   "outputs": [
    {
     "name": "stdout",
     "output_type": "stream",
     "text": [
      "<class 'pandas.core.frame.DataFrame'>\n",
      "RangeIndex: 164386 entries, 0 to 164385\n",
      "Data columns (total 14 columns):\n",
      " #   Column          Non-Null Count   Dtype  \n",
      "---  ------          --------------   -----  \n",
      " 0   date            164386 non-null  object \n",
      " 1   location        164386 non-null  object \n",
      " 2   wind_gustdir    36419 non-null   object \n",
      " 3   wind_gustspeed  36426 non-null   float64\n",
      " 4   wind_dir9am     36932 non-null   object \n",
      " 5   wind_dir3pm     38990 non-null   object \n",
      " 6   wind_speed9am   39300 non-null   float64\n",
      " 7   wind_speed3pm   39328 non-null   float64\n",
      " 8   windgustdir     117389 non-null  object \n",
      " 9   windgustspeed   117442 non-null  float64\n",
      " 10  winddir9am      116026 non-null  object \n",
      " 11  winddir3pm      120561 non-null  object \n",
      " 12  windspeed9am    123633 non-null  float64\n",
      " 13  windspeed3pm    121475 non-null  float64\n",
      "dtypes: float64(6), object(8)\n",
      "memory usage: 17.6+ MB\n"
     ]
    }
   ],
   "source": [
    "wind.info()"
   ]
  },
  {
   "cell_type": "code",
   "execution_count": 5,
   "id": "incorporated-allergy",
   "metadata": {
    "ExecuteTime": {
     "end_time": "2021-05-11T14:04:45.046506Z",
     "start_time": "2021-05-11T14:04:44.884971Z"
    }
   },
   "outputs": [],
   "source": [
    "cont = 2\n",
    "for col in wind.columns[8:14]:\n",
    "    wind.loc[~wind[col].isnull(), wind.columns[cont]] = wind.loc[~wind[col].isnull(), col]\n",
    "    cont +=1\n",
    "    \n",
    "wind = wind.drop(['windgustdir', 'windgustspeed', 'winddir9am', 'winddir3pm', 'windspeed9am', 'windspeed3pm'], axis=1)"
   ]
  },
  {
   "cell_type": "code",
   "execution_count": 40,
   "id": "mechanical-satin",
   "metadata": {
    "ExecuteTime": {
     "end_time": "2021-05-10T19:12:13.292170Z",
     "start_time": "2021-05-10T19:12:13.222354Z"
    }
   },
   "outputs": [
    {
     "name": "stdout",
     "output_type": "stream",
     "text": [
      "<class 'pandas.core.frame.DataFrame'>\n",
      "RangeIndex: 164386 entries, 0 to 164385\n",
      "Data columns (total 8 columns):\n",
      " #   Column          Non-Null Count   Dtype  \n",
      "---  ------          --------------   -----  \n",
      " 0   date            164386 non-null  object \n",
      " 1   location        164386 non-null  object \n",
      " 2   wind_gustdir    153808 non-null  object \n",
      " 3   wind_gustspeed  153868 non-null  float64\n",
      " 4   wind_dir9am     152958 non-null  object \n",
      " 5   wind_dir3pm     159551 non-null  object \n",
      " 6   wind_speed9am   162933 non-null  float64\n",
      " 7   wind_speed3pm   160803 non-null  float64\n",
      "dtypes: float64(3), object(5)\n",
      "memory usage: 10.0+ MB\n"
     ]
    }
   ],
   "source": [
    "wind.info()"
   ]
  },
  {
   "cell_type": "code",
   "execution_count": 41,
   "id": "automotive-facial",
   "metadata": {
    "ExecuteTime": {
     "end_time": "2021-05-10T19:12:13.396886Z",
     "start_time": "2021-05-10T19:12:13.308131Z"
    }
   },
   "outputs": [
    {
     "name": "stdout",
     "output_type": "stream",
     "text": [
      "2007-11-01\n",
      "2017-06-25\n"
     ]
    }
   ],
   "source": [
    "print(wind['date'].min())\n",
    "print(wind['date'].max())"
   ]
  },
  {
   "cell_type": "markdown",
   "id": "stopped-drilling",
   "metadata": {},
   "source": [
    "###  Agregando duas tabelas"
   ]
  },
  {
   "cell_type": "code",
   "execution_count": 6,
   "id": "level-prediction",
   "metadata": {
    "ExecuteTime": {
     "end_time": "2021-05-11T14:04:52.392251Z",
     "start_time": "2021-05-11T14:04:52.114965Z"
    }
   },
   "outputs": [],
   "source": [
    "df = pd.merge(left=rain, right=wind, how='left', on=['date', 'location'])"
   ]
  },
  {
   "cell_type": "code",
   "execution_count": 43,
   "id": "included-assets",
   "metadata": {
    "ExecuteTime": {
     "end_time": "2021-05-10T19:12:13.878279Z",
     "start_time": "2021-05-10T19:12:13.873258Z"
    }
   },
   "outputs": [
    {
     "data": {
      "text/plain": [
       "(164386, 28)"
      ]
     },
     "execution_count": 43,
     "metadata": {},
     "output_type": "execute_result"
    }
   ],
   "source": [
    "df.shape"
   ]
  },
  {
   "cell_type": "code",
   "execution_count": 44,
   "id": "obvious-vertex",
   "metadata": {
    "ExecuteTime": {
     "end_time": "2021-05-10T19:12:14.056472Z",
     "start_time": "2021-05-10T19:12:13.882234Z"
    }
   },
   "outputs": [
    {
     "name": "stdout",
     "output_type": "stream",
     "text": [
      "<class 'pandas.core.frame.DataFrame'>\n",
      "Int64Index: 164386 entries, 0 to 164385\n",
      "Data columns (total 28 columns):\n",
      " #   Column            Non-Null Count   Dtype  \n",
      "---  ------            --------------   -----  \n",
      " 0   date              164386 non-null  object \n",
      " 1   location          164386 non-null  object \n",
      " 2   mintemp           163614 non-null  float64\n",
      " 3   maxtemp           163989 non-null  float64\n",
      " 4   rainfall          162767 non-null  float64\n",
      " 5   evaporation       90128 non-null   float64\n",
      " 6   sunshine          80607 non-null   float64\n",
      " 7   humidity9am       162352 non-null  float64\n",
      " 8   humidity3pm       159262 non-null  float64\n",
      " 9   pressure9am       148085 non-null  float64\n",
      " 10  pressure3pm       148113 non-null  float64\n",
      " 11  cloud9am          100879 non-null  float64\n",
      " 12  cloud3pm          95716 non-null   float64\n",
      " 13  temp9am           163410 non-null  float64\n",
      " 14  temp3pm           160309 non-null  float64\n",
      " 15  raintoday         162767 non-null  object \n",
      " 16  amountOfRain      164386 non-null  float64\n",
      " 17  raintomorrow      164386 non-null  object \n",
      " 18  temp              163989 non-null  float64\n",
      " 19  humidity          159262 non-null  float64\n",
      " 20  precipitation3pm  164386 non-null  int64  \n",
      " 21  precipitation9am  164386 non-null  float64\n",
      " 22  wind_gustdir      153808 non-null  object \n",
      " 23  wind_gustspeed    153868 non-null  float64\n",
      " 24  wind_dir9am       152958 non-null  object \n",
      " 25  wind_dir3pm       159551 non-null  object \n",
      " 26  wind_speed9am     162933 non-null  float64\n",
      " 27  wind_speed3pm     160803 non-null  float64\n",
      "dtypes: float64(20), int64(1), object(7)\n",
      "memory usage: 36.4+ MB\n"
     ]
    }
   ],
   "source": [
    "df.info()"
   ]
  },
  {
   "cell_type": "markdown",
   "id": "aware-canvas",
   "metadata": {},
   "source": [
    "##  Tratamento dos dados"
   ]
  },
  {
   "cell_type": "code",
   "execution_count": 7,
   "id": "recreational-klein",
   "metadata": {
    "ExecuteTime": {
     "end_time": "2021-05-11T14:04:57.896901Z",
     "start_time": "2021-05-11T14:04:57.833106Z"
    }
   },
   "outputs": [],
   "source": [
    "# Atenção: aqui, os dados nulos foram preenchidos com 0 (Negação)\n",
    "df['raintoday'] = df['raintoday'].apply(lambda x: 1 if x == 'Yes' else 0)"
   ]
  },
  {
   "cell_type": "code",
   "execution_count": 8,
   "id": "southern-memory",
   "metadata": {
    "ExecuteTime": {
     "end_time": "2021-05-11T14:04:58.764169Z",
     "start_time": "2021-05-11T14:04:58.702624Z"
    }
   },
   "outputs": [],
   "source": [
    "df['raintomorrow'] = df['raintomorrow'].apply(lambda x: 1 if x == 'Yes' else 0)"
   ]
  },
  {
   "cell_type": "code",
   "execution_count": 9,
   "id": "mexican-failing",
   "metadata": {
    "ExecuteTime": {
     "end_time": "2021-05-11T14:04:59.672116Z",
     "start_time": "2021-05-11T14:04:59.553435Z"
    }
   },
   "outputs": [],
   "source": [
    "df['date'] = pd.to_datetime(df['date'])"
   ]
  },
  {
   "cell_type": "code",
   "execution_count": 59,
   "id": "collectible-declaration",
   "metadata": {
    "ExecuteTime": {
     "end_time": "2021-05-11T14:50:46.566295Z",
     "start_time": "2021-05-11T14:50:46.540338Z"
    }
   },
   "outputs": [
    {
     "data": {
      "text/plain": [
       "['mintemp',\n",
       " 'maxtemp',\n",
       " 'rainfall',\n",
       " 'evaporation',\n",
       " 'sunshine',\n",
       " 'humidity9am',\n",
       " 'humidity3pm',\n",
       " 'pressure9am',\n",
       " 'pressure3pm',\n",
       " 'cloud9am',\n",
       " 'cloud3pm',\n",
       " 'raintoday',\n",
       " 'precipitation3pm',\n",
       " 'precipitation9am',\n",
       " 'wind_gustspeed',\n",
       " 'wind_speed9am',\n",
       " 'wind_speed3pm']"
      ]
     },
     "execution_count": 59,
     "metadata": {},
     "output_type": "execute_result"
    }
   ],
   "source": [
    "num_columns = list(df.select_dtypes(exclude='object').columns)\n",
    "\n",
    "remove_col = ['date', 'raintomorrow', 'amountOfRain', 'modelo_vigente', 'temp', 'temp9am', 'temp3pm', 'humidity']\n",
    "\n",
    "num_columns = [col for col in num_columns if col not in remove_col]\n",
    "num_columns"
   ]
  },
  {
   "cell_type": "code",
   "execution_count": 16,
   "id": "mathematical-vanilla",
   "metadata": {
    "ExecuteTime": {
     "end_time": "2021-05-11T14:10:53.063128Z",
     "start_time": "2021-05-11T14:10:53.049174Z"
    }
   },
   "outputs": [
    {
     "data": {
      "text/plain": [
       "['wind_gustdir', 'wind_dir9am', 'wind_dir3pm']"
      ]
     },
     "execution_count": 16,
     "metadata": {},
     "output_type": "execute_result"
    }
   ],
   "source": [
    "cat_columns = list(df.select_dtypes('object').columns)\n",
    "cat_columns.remove('location')\n",
    "cat_columns"
   ]
  },
  {
   "cell_type": "code",
   "execution_count": 49,
   "id": "offensive-surfing",
   "metadata": {
    "ExecuteTime": {
     "end_time": "2021-05-11T14:45:47.409942Z",
     "start_time": "2021-05-11T14:45:47.405056Z"
    }
   },
   "outputs": [],
   "source": [
    "from sklearn.preprocessing import OrdinalEncoder, OneHotEncoder\n",
    "\n",
    "ordinalencoder = OrdinalEncoder()\n",
    "onehotencoder = OneHotEncoder(drop='first',  handle_unknown='error')\n",
    "cat_imputer = SimpleImputer(strategy='most_frequent')\n",
    "\n",
    "#labelencoder = LabelEncoder()\n",
    "#encoder.fit(df['wind_gustdir'])\n",
    "\n",
    "#df['wind_gustdir'] = encoder.transform(df['wind_gustdir'])\n",
    "#df['wind_dir9am'] = encoder.transform(df['wind_dir9am'])\n",
    "#df['wind_dir3pm'] = encoder.transform(df['wind_dir3pm'])"
   ]
  },
  {
   "cell_type": "code",
   "execution_count": 55,
   "id": "rural-actor",
   "metadata": {
    "ExecuteTime": {
     "end_time": "2021-05-11T14:47:52.940670Z",
     "start_time": "2021-05-11T14:47:52.936678Z"
    }
   },
   "outputs": [],
   "source": [
    "categorical_pipeline = Pipeline(steps=[('missing', cat_imputer),\n",
    "                                       ('encode', ordinalencoder)])"
   ]
  },
  {
   "cell_type": "code",
   "execution_count": 23,
   "id": "assigned-chinese",
   "metadata": {
    "ExecuteTime": {
     "end_time": "2021-05-11T14:16:14.460734Z",
     "start_time": "2021-05-11T14:16:14.455751Z"
    }
   },
   "outputs": [],
   "source": [
    "from sklearn.preprocessing import StandardScaler\n",
    "\n",
    "numerical_imputer = SimpleImputer(strategy='median')\n",
    "scaler = StandardScaler()"
   ]
  },
  {
   "cell_type": "code",
   "execution_count": 24,
   "id": "expired-payment",
   "metadata": {
    "ExecuteTime": {
     "end_time": "2021-05-11T14:16:16.009594Z",
     "start_time": "2021-05-11T14:16:16.004600Z"
    }
   },
   "outputs": [],
   "source": [
    "numerical_pipeline = Pipeline(steps=[('missing', numerical_imputer),\n",
    "                                     ('standardize', scaler)])"
   ]
  },
  {
   "cell_type": "code",
   "execution_count": 66,
   "id": "fewer-soviet",
   "metadata": {
    "ExecuteTime": {
     "end_time": "2021-05-11T14:53:20.239443Z",
     "start_time": "2021-05-11T14:53:20.235455Z"
    }
   },
   "outputs": [],
   "source": [
    "from sklearn.compose import ColumnTransformer\n",
    "\n",
    "dataprep = ColumnTransformer(transformers=[('numerical_transform', numerical_pipeline, num_columns),\n",
    "                                           ('categ_transform', categorical_pipeline, cat_columns)])"
   ]
  },
  {
   "cell_type": "markdown",
   "id": "aggregate-construction",
   "metadata": {
    "heading_collapsed": true
   },
   "source": [
    "##  Análise de correlação de colunas"
   ]
  },
  {
   "cell_type": "code",
   "execution_count": 52,
   "id": "different-enhancement",
   "metadata": {
    "ExecuteTime": {
     "end_time": "2021-05-10T19:12:16.377983Z",
     "start_time": "2021-05-10T19:12:16.191085Z"
    },
    "hidden": true
   },
   "outputs": [
    {
     "data": {
      "text/html": [
       "<div>\n",
       "<style scoped>\n",
       "    .dataframe tbody tr th:only-of-type {\n",
       "        vertical-align: middle;\n",
       "    }\n",
       "\n",
       "    .dataframe tbody tr th {\n",
       "        vertical-align: top;\n",
       "    }\n",
       "\n",
       "    .dataframe thead th {\n",
       "        text-align: right;\n",
       "    }\n",
       "</style>\n",
       "<table border=\"1\" class=\"dataframe\">\n",
       "  <thead>\n",
       "    <tr style=\"text-align: right;\">\n",
       "      <th></th>\n",
       "      <th>mintemp</th>\n",
       "      <th>maxtemp</th>\n",
       "      <th>temp</th>\n",
       "      <th>temp9am</th>\n",
       "      <th>temp3pm</th>\n",
       "    </tr>\n",
       "  </thead>\n",
       "  <tbody>\n",
       "    <tr>\n",
       "      <th>0</th>\n",
       "      <td>13.4</td>\n",
       "      <td>22.9</td>\n",
       "      <td>29.48</td>\n",
       "      <td>16.9</td>\n",
       "      <td>21.8</td>\n",
       "    </tr>\n",
       "    <tr>\n",
       "      <th>1</th>\n",
       "      <td>7.4</td>\n",
       "      <td>25.1</td>\n",
       "      <td>32.12</td>\n",
       "      <td>17.2</td>\n",
       "      <td>24.3</td>\n",
       "    </tr>\n",
       "    <tr>\n",
       "      <th>2</th>\n",
       "      <td>12.9</td>\n",
       "      <td>25.7</td>\n",
       "      <td>32.84</td>\n",
       "      <td>21.0</td>\n",
       "      <td>23.2</td>\n",
       "    </tr>\n",
       "    <tr>\n",
       "      <th>3</th>\n",
       "      <td>9.2</td>\n",
       "      <td>28.0</td>\n",
       "      <td>35.60</td>\n",
       "      <td>18.1</td>\n",
       "      <td>26.5</td>\n",
       "    </tr>\n",
       "    <tr>\n",
       "      <th>4</th>\n",
       "      <td>17.5</td>\n",
       "      <td>32.3</td>\n",
       "      <td>40.76</td>\n",
       "      <td>17.8</td>\n",
       "      <td>29.7</td>\n",
       "    </tr>\n",
       "    <tr>\n",
       "      <th>...</th>\n",
       "      <td>...</td>\n",
       "      <td>...</td>\n",
       "      <td>...</td>\n",
       "      <td>...</td>\n",
       "      <td>...</td>\n",
       "    </tr>\n",
       "    <tr>\n",
       "      <th>164381</th>\n",
       "      <td>3.6</td>\n",
       "      <td>25.3</td>\n",
       "      <td>32.36</td>\n",
       "      <td>10.9</td>\n",
       "      <td>24.5</td>\n",
       "    </tr>\n",
       "    <tr>\n",
       "      <th>164382</th>\n",
       "      <td>5.4</td>\n",
       "      <td>26.9</td>\n",
       "      <td>34.28</td>\n",
       "      <td>12.5</td>\n",
       "      <td>26.1</td>\n",
       "    </tr>\n",
       "    <tr>\n",
       "      <th>164383</th>\n",
       "      <td>5.4</td>\n",
       "      <td>26.9</td>\n",
       "      <td>34.28</td>\n",
       "      <td>12.5</td>\n",
       "      <td>26.1</td>\n",
       "    </tr>\n",
       "    <tr>\n",
       "      <th>164384</th>\n",
       "      <td>7.8</td>\n",
       "      <td>27.0</td>\n",
       "      <td>34.40</td>\n",
       "      <td>15.1</td>\n",
       "      <td>26.0</td>\n",
       "    </tr>\n",
       "    <tr>\n",
       "      <th>164385</th>\n",
       "      <td>7.8</td>\n",
       "      <td>27.0</td>\n",
       "      <td>34.40</td>\n",
       "      <td>15.1</td>\n",
       "      <td>26.0</td>\n",
       "    </tr>\n",
       "  </tbody>\n",
       "</table>\n",
       "<p>164386 rows × 5 columns</p>\n",
       "</div>"
      ],
      "text/plain": [
       "        mintemp  maxtemp   temp  temp9am  temp3pm\n",
       "0          13.4     22.9  29.48     16.9     21.8\n",
       "1           7.4     25.1  32.12     17.2     24.3\n",
       "2          12.9     25.7  32.84     21.0     23.2\n",
       "3           9.2     28.0  35.60     18.1     26.5\n",
       "4          17.5     32.3  40.76     17.8     29.7\n",
       "...         ...      ...    ...      ...      ...\n",
       "164381      3.6     25.3  32.36     10.9     24.5\n",
       "164382      5.4     26.9  34.28     12.5     26.1\n",
       "164383      5.4     26.9  34.28     12.5     26.1\n",
       "164384      7.8     27.0  34.40     15.1     26.0\n",
       "164385      7.8     27.0  34.40     15.1     26.0\n",
       "\n",
       "[164386 rows x 5 columns]"
      ]
     },
     "execution_count": 52,
     "metadata": {},
     "output_type": "execute_result"
    }
   ],
   "source": [
    "# Analisando as colunas de temperatura, não há necessidade de se utilizar todas as colunas, pois, por exemplo,\n",
    "# observa-se uma grande correlação entre 'mintemp' e 'temp9am' e entre 'maxtemp' e 'temp3pm'. Logo, pode-se utilizar\n",
    "# apenas uma de cada. No caso de 'temp', os valore da coluna estão fora do intervalo entre 'mintemp' e 'maxtemp'.\n",
    "# Por isso, essa coluna não será utilizada.\n",
    "\n",
    "df[['mintemp', 'maxtemp', 'temp', 'temp9am', 'temp3pm']]"
   ]
  },
  {
   "cell_type": "code",
   "execution_count": 53,
   "id": "median-canvas",
   "metadata": {
    "ExecuteTime": {
     "end_time": "2021-05-10T19:12:16.717355Z",
     "start_time": "2021-05-10T19:12:16.379946Z"
    },
    "hidden": true
   },
   "outputs": [
    {
     "data": {
      "text/html": [
       "<div>\n",
       "<style scoped>\n",
       "    .dataframe tbody tr th:only-of-type {\n",
       "        vertical-align: middle;\n",
       "    }\n",
       "\n",
       "    .dataframe tbody tr th {\n",
       "        vertical-align: top;\n",
       "    }\n",
       "\n",
       "    .dataframe thead th {\n",
       "        text-align: right;\n",
       "    }\n",
       "</style>\n",
       "<table border=\"1\" class=\"dataframe\">\n",
       "  <thead>\n",
       "    <tr style=\"text-align: right;\">\n",
       "      <th></th>\n",
       "      <th>mintemp</th>\n",
       "      <th>maxtemp</th>\n",
       "      <th>temp</th>\n",
       "      <th>temp9am</th>\n",
       "      <th>temp3pm</th>\n",
       "      <th>raintomorrow</th>\n",
       "    </tr>\n",
       "  </thead>\n",
       "  <tbody>\n",
       "    <tr>\n",
       "      <th>mintemp</th>\n",
       "      <td>1.000000</td>\n",
       "      <td>0.736835</td>\n",
       "      <td>0.585375</td>\n",
       "      <td>0.902404</td>\n",
       "      <td>0.708974</td>\n",
       "      <td>0.082160</td>\n",
       "    </tr>\n",
       "    <tr>\n",
       "      <th>maxtemp</th>\n",
       "      <td>0.736835</td>\n",
       "      <td>1.000000</td>\n",
       "      <td>0.795143</td>\n",
       "      <td>0.887397</td>\n",
       "      <td>0.984536</td>\n",
       "      <td>-0.159619</td>\n",
       "    </tr>\n",
       "    <tr>\n",
       "      <th>temp</th>\n",
       "      <td>0.585375</td>\n",
       "      <td>0.795143</td>\n",
       "      <td>1.000000</td>\n",
       "      <td>0.704422</td>\n",
       "      <td>0.782308</td>\n",
       "      <td>-0.125842</td>\n",
       "    </tr>\n",
       "    <tr>\n",
       "      <th>temp9am</th>\n",
       "      <td>0.902404</td>\n",
       "      <td>0.887397</td>\n",
       "      <td>0.704422</td>\n",
       "      <td>1.000000</td>\n",
       "      <td>0.860599</td>\n",
       "      <td>-0.026293</td>\n",
       "    </tr>\n",
       "    <tr>\n",
       "      <th>temp3pm</th>\n",
       "      <td>0.708974</td>\n",
       "      <td>0.984536</td>\n",
       "      <td>0.782308</td>\n",
       "      <td>0.860599</td>\n",
       "      <td>1.000000</td>\n",
       "      <td>-0.193129</td>\n",
       "    </tr>\n",
       "    <tr>\n",
       "      <th>raintomorrow</th>\n",
       "      <td>0.082160</td>\n",
       "      <td>-0.159619</td>\n",
       "      <td>-0.125842</td>\n",
       "      <td>-0.026293</td>\n",
       "      <td>-0.193129</td>\n",
       "      <td>1.000000</td>\n",
       "    </tr>\n",
       "  </tbody>\n",
       "</table>\n",
       "</div>"
      ],
      "text/plain": [
       "               mintemp   maxtemp      temp   temp9am   temp3pm  raintomorrow\n",
       "mintemp       1.000000  0.736835  0.585375  0.902404  0.708974      0.082160\n",
       "maxtemp       0.736835  1.000000  0.795143  0.887397  0.984536     -0.159619\n",
       "temp          0.585375  0.795143  1.000000  0.704422  0.782308     -0.125842\n",
       "temp9am       0.902404  0.887397  0.704422  1.000000  0.860599     -0.026293\n",
       "temp3pm       0.708974  0.984536  0.782308  0.860599  1.000000     -0.193129\n",
       "raintomorrow  0.082160 -0.159619 -0.125842 -0.026293 -0.193129      1.000000"
      ]
     },
     "execution_count": 53,
     "metadata": {},
     "output_type": "execute_result"
    }
   ],
   "source": [
    "df[['mintemp', 'maxtemp', 'temp', 'temp9am', 'temp3pm', 'raintomorrow']].corr()"
   ]
  },
  {
   "cell_type": "code",
   "execution_count": 54,
   "id": "japanese-pizza",
   "metadata": {
    "ExecuteTime": {
     "end_time": "2021-05-10T19:12:16.836635Z",
     "start_time": "2021-05-10T19:12:16.719350Z"
    },
    "hidden": true
   },
   "outputs": [
    {
     "data": {
      "text/html": [
       "<div>\n",
       "<style scoped>\n",
       "    .dataframe tbody tr th:only-of-type {\n",
       "        vertical-align: middle;\n",
       "    }\n",
       "\n",
       "    .dataframe tbody tr th {\n",
       "        vertical-align: top;\n",
       "    }\n",
       "\n",
       "    .dataframe thead th {\n",
       "        text-align: right;\n",
       "    }\n",
       "</style>\n",
       "<table border=\"1\" class=\"dataframe\">\n",
       "  <thead>\n",
       "    <tr style=\"text-align: right;\">\n",
       "      <th></th>\n",
       "      <th>humidity9am</th>\n",
       "      <th>humidity3pm</th>\n",
       "      <th>humidity</th>\n",
       "    </tr>\n",
       "  </thead>\n",
       "  <tbody>\n",
       "    <tr>\n",
       "      <th>humidity9am</th>\n",
       "      <td>1.000000</td>\n",
       "      <td>0.666595</td>\n",
       "      <td>0.605826</td>\n",
       "    </tr>\n",
       "    <tr>\n",
       "      <th>humidity3pm</th>\n",
       "      <td>0.666595</td>\n",
       "      <td>1.000000</td>\n",
       "      <td>0.908273</td>\n",
       "    </tr>\n",
       "    <tr>\n",
       "      <th>humidity</th>\n",
       "      <td>0.605826</td>\n",
       "      <td>0.908273</td>\n",
       "      <td>1.000000</td>\n",
       "    </tr>\n",
       "  </tbody>\n",
       "</table>\n",
       "</div>"
      ],
      "text/plain": [
       "             humidity9am  humidity3pm  humidity\n",
       "humidity9am     1.000000     0.666595  0.605826\n",
       "humidity3pm     0.666595     1.000000  0.908273\n",
       "humidity        0.605826     0.908273  1.000000"
      ]
     },
     "execution_count": 54,
     "metadata": {},
     "output_type": "execute_result"
    }
   ],
   "source": [
    "# Analogamente à análise de temperatura, observa-se que as colunas de 'humidity' e 'humidity3pm' têm alta\n",
    "# correlação. Portanto, apenas uma delas será utilizada.\n",
    "\n",
    "df[['humidity9am', 'humidity3pm', 'humidity']].corr()"
   ]
  },
  {
   "cell_type": "code",
   "execution_count": 55,
   "id": "brief-cancer",
   "metadata": {
    "ExecuteTime": {
     "end_time": "2021-05-10T19:12:21.187031Z",
     "start_time": "2021-05-10T19:12:16.838595Z"
    },
    "hidden": true
   },
   "outputs": [
    {
     "name": "stderr",
     "output_type": "stream",
     "text": [
      "C:\\Users\\issao\\AppData\\Roaming\\Python\\Python38\\site-packages\\seaborn\\distributions.py:2557: FutureWarning: `distplot` is a deprecated function and will be removed in a future version. Please adapt your code to use either `displot` (a figure-level function with similar flexibility) or `histplot` (an axes-level function for histograms).\n",
      "  warnings.warn(msg, FutureWarning)\n",
      "C:\\Users\\issao\\AppData\\Roaming\\Python\\Python38\\site-packages\\seaborn\\distributions.py:2557: FutureWarning: `distplot` is a deprecated function and will be removed in a future version. Please adapt your code to use either `displot` (a figure-level function with similar flexibility) or `histplot` (an axes-level function for histograms).\n",
      "  warnings.warn(msg, FutureWarning)\n",
      "C:\\Users\\issao\\AppData\\Roaming\\Python\\Python38\\site-packages\\seaborn\\distributions.py:2557: FutureWarning: `distplot` is a deprecated function and will be removed in a future version. Please adapt your code to use either `displot` (a figure-level function with similar flexibility) or `histplot` (an axes-level function for histograms).\n",
      "  warnings.warn(msg, FutureWarning)\n"
     ]
    },
    {
     "data": {
      "image/png": "[encoded data removed]",
      "text/plain": [
       "<Figure size 432x288 with 1 Axes>"
      ]
     },
     "metadata": {
      "needs_background": "light"
     },
     "output_type": "display_data"
    }
   ],
   "source": [
    "sns.distplot(df['humidity'], color='blue')\n",
    "sns.distplot(df['humidity9am'], color='red')\n",
    "sns.distplot(df['humidity3pm'], color='orange');"
   ]
  },
  {
   "cell_type": "markdown",
   "id": "meaningful-generic",
   "metadata": {
    "heading_collapsed": true
   },
   "source": [
    "##  Outras análises"
   ]
  },
  {
   "cell_type": "code",
   "execution_count": 57,
   "id": "inclusive-aruba",
   "metadata": {
    "ExecuteTime": {
     "end_time": "2021-05-10T19:12:21.457603Z",
     "start_time": "2021-05-10T19:12:21.220941Z"
    },
    "hidden": true
   },
   "outputs": [
    {
     "data": {
      "text/html": [
       "<div>\n",
       "<style scoped>\n",
       "    .dataframe tbody tr th:only-of-type {\n",
       "        vertical-align: middle;\n",
       "    }\n",
       "\n",
       "    .dataframe tbody tr th {\n",
       "        vertical-align: top;\n",
       "    }\n",
       "\n",
       "    .dataframe thead tr th {\n",
       "        text-align: left;\n",
       "    }\n",
       "\n",
       "    .dataframe thead tr:last-of-type th {\n",
       "        text-align: right;\n",
       "    }\n",
       "</style>\n",
       "<table border=\"1\" class=\"dataframe\">\n",
       "  <thead>\n",
       "    <tr>\n",
       "      <th></th>\n",
       "      <th colspan=\"2\" halign=\"left\">amountOfRain</th>\n",
       "    </tr>\n",
       "    <tr>\n",
       "      <th></th>\n",
       "      <th>min</th>\n",
       "      <th>max</th>\n",
       "    </tr>\n",
       "    <tr>\n",
       "      <th>raintomorrow</th>\n",
       "      <th></th>\n",
       "      <th></th>\n",
       "    </tr>\n",
       "  </thead>\n",
       "  <tbody>\n",
       "    <tr>\n",
       "      <th>0</th>\n",
       "      <td>0.0</td>\n",
       "      <td>1.0</td>\n",
       "    </tr>\n",
       "    <tr>\n",
       "      <th>1</th>\n",
       "      <td>1.1</td>\n",
       "      <td>371.0</td>\n",
       "    </tr>\n",
       "  </tbody>\n",
       "</table>\n",
       "</div>"
      ],
      "text/plain": [
       "             amountOfRain       \n",
       "                      min    max\n",
       "raintomorrow                    \n",
       "0                     0.0    1.0\n",
       "1                     1.1  371.0"
      ]
     },
     "execution_count": 57,
     "metadata": {},
     "output_type": "execute_result"
    }
   ],
   "source": [
    "df[['amountOfRain', 'raintomorrow']].groupby('raintomorrow').agg(['min', 'max'])"
   ]
  },
  {
   "cell_type": "code",
   "execution_count": 58,
   "id": "controlling-costs",
   "metadata": {
    "ExecuteTime": {
     "end_time": "2021-05-10T19:12:21.506472Z",
     "start_time": "2021-05-10T19:12:21.471566Z"
    },
    "hidden": true
   },
   "outputs": [
    {
     "data": {
      "text/html": [
       "<div>\n",
       "<style scoped>\n",
       "    .dataframe tbody tr th:only-of-type {\n",
       "        vertical-align: middle;\n",
       "    }\n",
       "\n",
       "    .dataframe tbody tr th {\n",
       "        vertical-align: top;\n",
       "    }\n",
       "\n",
       "    .dataframe thead tr th {\n",
       "        text-align: left;\n",
       "    }\n",
       "\n",
       "    .dataframe thead tr:last-of-type th {\n",
       "        text-align: right;\n",
       "    }\n",
       "</style>\n",
       "<table border=\"1\" class=\"dataframe\">\n",
       "  <thead>\n",
       "    <tr>\n",
       "      <th></th>\n",
       "      <th colspan=\"2\" halign=\"left\">amountOfRain</th>\n",
       "    </tr>\n",
       "    <tr>\n",
       "      <th></th>\n",
       "      <th>min</th>\n",
       "      <th>max</th>\n",
       "    </tr>\n",
       "    <tr>\n",
       "      <th>raintoday</th>\n",
       "      <th></th>\n",
       "      <th></th>\n",
       "    </tr>\n",
       "  </thead>\n",
       "  <tbody>\n",
       "    <tr>\n",
       "      <th>0</th>\n",
       "      <td>0.0</td>\n",
       "      <td>240.0</td>\n",
       "    </tr>\n",
       "    <tr>\n",
       "      <th>1</th>\n",
       "      <td>0.0</td>\n",
       "      <td>371.0</td>\n",
       "    </tr>\n",
       "  </tbody>\n",
       "</table>\n",
       "</div>"
      ],
      "text/plain": [
       "          amountOfRain       \n",
       "                   min    max\n",
       "raintoday                    \n",
       "0                  0.0  240.0\n",
       "1                  0.0  371.0"
      ]
     },
     "execution_count": 58,
     "metadata": {},
     "output_type": "execute_result"
    }
   ],
   "source": [
    "df[['amountOfRain', 'raintoday']].groupby('raintoday').agg(['min', 'max'])"
   ]
  },
  {
   "cell_type": "code",
   "execution_count": 59,
   "id": "defined-lambda",
   "metadata": {
    "ExecuteTime": {
     "end_time": "2021-05-10T19:12:21.591307Z",
     "start_time": "2021-05-10T19:12:21.514461Z"
    },
    "hidden": true
   },
   "outputs": [
    {
     "data": {
      "text/html": [
       "<div>\n",
       "<style scoped>\n",
       "    .dataframe tbody tr th:only-of-type {\n",
       "        vertical-align: middle;\n",
       "    }\n",
       "\n",
       "    .dataframe tbody tr th {\n",
       "        vertical-align: top;\n",
       "    }\n",
       "\n",
       "    .dataframe thead tr th {\n",
       "        text-align: left;\n",
       "    }\n",
       "\n",
       "    .dataframe thead tr:last-of-type th {\n",
       "        text-align: right;\n",
       "    }\n",
       "</style>\n",
       "<table border=\"1\" class=\"dataframe\">\n",
       "  <thead>\n",
       "    <tr>\n",
       "      <th></th>\n",
       "      <th colspan=\"2\" halign=\"left\">rainfall</th>\n",
       "    </tr>\n",
       "    <tr>\n",
       "      <th></th>\n",
       "      <th>min</th>\n",
       "      <th>max</th>\n",
       "    </tr>\n",
       "    <tr>\n",
       "      <th>raintoday</th>\n",
       "      <th></th>\n",
       "      <th></th>\n",
       "    </tr>\n",
       "  </thead>\n",
       "  <tbody>\n",
       "    <tr>\n",
       "      <th>0</th>\n",
       "      <td>0.0</td>\n",
       "      <td>1.0</td>\n",
       "    </tr>\n",
       "    <tr>\n",
       "      <th>1</th>\n",
       "      <td>1.1</td>\n",
       "      <td>371.0</td>\n",
       "    </tr>\n",
       "  </tbody>\n",
       "</table>\n",
       "</div>"
      ],
      "text/plain": [
       "          rainfall       \n",
       "               min    max\n",
       "raintoday                \n",
       "0              0.0    1.0\n",
       "1              1.1  371.0"
      ]
     },
     "execution_count": 59,
     "metadata": {},
     "output_type": "execute_result"
    }
   ],
   "source": [
    "df[['rainfall', 'raintoday']].groupby('raintoday').agg(['min', 'max'])"
   ]
  },
  {
   "cell_type": "code",
   "execution_count": 60,
   "id": "challenging-alpha",
   "metadata": {
    "ExecuteTime": {
     "end_time": "2021-05-10T19:12:21.921687Z",
     "start_time": "2021-05-10T19:12:21.600284Z"
    },
    "hidden": true
   },
   "outputs": [
    {
     "data": {
      "text/plain": [
       "<AxesSubplot:xlabel='raintomorrow', ylabel='humidity3pm'>"
      ]
     },
     "execution_count": 60,
     "metadata": {},
     "output_type": "execute_result"
    },
    {
     "data": {
      "image/png": "[encoded data removed]",
      "text/plain": [
       "<Figure size 432x288 with 1 Axes>"
      ]
     },
     "metadata": {
      "needs_background": "light"
     },
     "output_type": "display_data"
    }
   ],
   "source": [
    "sns.boxplot(x=df['raintomorrow'], y=df['humidity3pm'])"
   ]
  },
  {
   "cell_type": "code",
   "execution_count": 61,
   "id": "signal-turtle",
   "metadata": {
    "ExecuteTime": {
     "end_time": "2021-05-10T19:12:26.748494Z",
     "start_time": "2021-05-10T19:12:21.925653Z"
    },
    "hidden": true
   },
   "outputs": [
    {
     "name": "stderr",
     "output_type": "stream",
     "text": [
      "C:\\Users\\issao\\AppData\\Roaming\\Python\\Python38\\site-packages\\seaborn\\distributions.py:2557: FutureWarning: `distplot` is a deprecated function and will be removed in a future version. Please adapt your code to use either `displot` (a figure-level function with similar flexibility) or `histplot` (an axes-level function for histograms).\n",
      "  warnings.warn(msg, FutureWarning)\n",
      "C:\\Users\\issao\\AppData\\Roaming\\Python\\Python38\\site-packages\\seaborn\\distributions.py:2557: FutureWarning: `distplot` is a deprecated function and will be removed in a future version. Please adapt your code to use either `displot` (a figure-level function with similar flexibility) or `histplot` (an axes-level function for histograms).\n",
      "  warnings.warn(msg, FutureWarning)\n",
      "C:\\Users\\issao\\AppData\\Roaming\\Python\\Python38\\site-packages\\seaborn\\distributions.py:2557: FutureWarning: `distplot` is a deprecated function and will be removed in a future version. Please adapt your code to use either `displot` (a figure-level function with similar flexibility) or `histplot` (an axes-level function for histograms).\n",
      "  warnings.warn(msg, FutureWarning)\n"
     ]
    },
    {
     "data": {
      "text/plain": [
       "<AxesSubplot:xlabel='wind_speed3pm', ylabel='Density'>"
      ]
     },
     "execution_count": 61,
     "metadata": {},
     "output_type": "execute_result"
    },
    {
     "data": {
      "image/png": "[encoded data removed]",
      "text/plain": [
       "<Figure size 432x288 with 1 Axes>"
      ]
     },
     "metadata": {
      "needs_background": "light"
     },
     "output_type": "display_data"
    }
   ],
   "source": [
    "sns.distplot(df['wind_gustspeed'], color='blue')\n",
    "sns.distplot(df['wind_speed9am'], color='red')\n",
    "sns.distplot(df['wind_speed3pm'], color='orange')"
   ]
  },
  {
   "cell_type": "markdown",
   "id": "secure-african",
   "metadata": {},
   "source": [
    "##  Separando treino e teste"
   ]
  },
  {
   "cell_type": "code",
   "execution_count": 38,
   "id": "indirect-oxford",
   "metadata": {
    "ExecuteTime": {
     "end_time": "2021-05-11T14:37:39.777104Z",
     "start_time": "2021-05-11T14:37:39.750188Z"
    }
   },
   "outputs": [],
   "source": [
    "X = df.drop('raintomorrow', axis=1)\n",
    "y = df['raintomorrow']"
   ]
  },
  {
   "cell_type": "code",
   "execution_count": 33,
   "id": "registered-drain",
   "metadata": {
    "ExecuteTime": {
     "end_time": "2021-05-11T14:35:46.004965Z",
     "start_time": "2021-05-11T14:35:45.985018Z"
    }
   },
   "outputs": [],
   "source": [
    "X = df[['mintemp', 'maxtemp', 'rainfall', 'evaporation', 'sunshine', 'humidity9am', 'humidity3pm', 'pressure9am',\n",
    "       'pressure3pm', 'cloud9am', 'cloud3pm', 'raintoday', 'precipitation3pm', 'precipitation9am',\n",
    "       'wind_gustdir', 'wind_gustspeed', 'wind_dir9am', 'wind_dir3pm', 'wind_speed9am', 'wind_speed3pm']]\n",
    "y = df['raintomorrow']"
   ]
  },
  {
   "cell_type": "code",
   "execution_count": 63,
   "id": "absent-orange",
   "metadata": {
    "ExecuteTime": {
     "end_time": "2021-05-10T19:12:26.868536Z",
     "start_time": "2021-05-10T19:12:26.787372Z"
    }
   },
   "outputs": [],
   "source": [
    "X2 = df[['mintemp', 'maxtemp', 'rainfall', 'humidity9am', 'humidity3pm', 'pressure9am',\n",
    "       'pressure3pm', 'precipitation3pm', 'wind_gustspeed', 'wind_speed9am', 'wind_speed3pm']]"
   ]
  },
  {
   "cell_type": "code",
   "execution_count": 64,
   "id": "ecological-bosnia",
   "metadata": {
    "ExecuteTime": {
     "end_time": "2021-05-10T19:12:27.016175Z",
     "start_time": "2021-05-10T19:12:26.870543Z"
    }
   },
   "outputs": [
    {
     "data": {
      "text/plain": [
       "(161529, 11)"
      ]
     },
     "execution_count": 64,
     "metadata": {},
     "output_type": "execute_result"
    }
   ],
   "source": [
    "df_drop = df[['mintemp', 'maxtemp', 'rainfall', 'humidity9am', 'humidity3pm', 'pressure9am',\n",
    "       'pressure3pm', 'precipitation3pm', 'wind_gustspeed', 'wind_speed9am', 'wind_speed3pm']].dropna(thresh=8)\n",
    "\n",
    "df_drop.shape"
   ]
  },
  {
   "cell_type": "code",
   "execution_count": 65,
   "id": "treated-front",
   "metadata": {
    "ExecuteTime": {
     "end_time": "2021-05-10T19:12:27.068037Z",
     "start_time": "2021-05-10T19:12:27.021127Z"
    }
   },
   "outputs": [
    {
     "data": {
      "text/plain": [
       "mintemp               184\n",
       "maxtemp                96\n",
       "rainfall             1303\n",
       "humidity9am          1245\n",
       "humidity3pm          3223\n",
       "pressure9am         13675\n",
       "pressure3pm         13693\n",
       "precipitation3pm        0\n",
       "wind_gustspeed       8129\n",
       "wind_speed9am         366\n",
       "wind_speed3pm        1381\n",
       "dtype: int64"
      ]
     },
     "execution_count": 65,
     "metadata": {},
     "output_type": "execute_result"
    }
   ],
   "source": [
    "df_drop.isnull().sum()"
   ]
  },
  {
   "cell_type": "code",
   "execution_count": 66,
   "id": "critical-weight",
   "metadata": {
    "ExecuteTime": {
     "end_time": "2021-05-10T19:12:27.157796Z",
     "start_time": "2021-05-10T19:12:27.070993Z"
    }
   },
   "outputs": [
    {
     "data": {
      "text/plain": [
       "(164386, 20)"
      ]
     },
     "execution_count": 66,
     "metadata": {},
     "output_type": "execute_result"
    }
   ],
   "source": [
    "X.shape"
   ]
  },
  {
   "cell_type": "code",
   "execution_count": 67,
   "id": "former-hampton",
   "metadata": {
    "ExecuteTime": {
     "end_time": "2021-05-10T19:12:27.254159Z",
     "start_time": "2021-05-10T19:12:27.162759Z"
    }
   },
   "outputs": [
    {
     "data": {
      "text/plain": [
       "mintemp               772\n",
       "maxtemp               397\n",
       "rainfall             1619\n",
       "humidity9am          2034\n",
       "humidity3pm          5124\n",
       "pressure9am         16301\n",
       "pressure3pm         16273\n",
       "precipitation3pm        0\n",
       "wind_gustspeed      10518\n",
       "wind_speed9am        1453\n",
       "wind_speed3pm        3583\n",
       "dtype: int64"
      ]
     },
     "execution_count": 67,
     "metadata": {},
     "output_type": "execute_result"
    }
   ],
   "source": [
    "X2.isnull().sum()"
   ]
  },
  {
   "cell_type": "code",
   "execution_count": 39,
   "id": "impressed-chrome",
   "metadata": {
    "ExecuteTime": {
     "end_time": "2021-05-11T14:37:45.345588Z",
     "start_time": "2021-05-11T14:37:45.214163Z"
    }
   },
   "outputs": [],
   "source": [
    "X_train, X_test, y_train, y_test = train_test_split(X, y, test_size=0.4, random_state=35, stratify=y)"
   ]
  },
  {
   "cell_type": "code",
   "execution_count": 69,
   "id": "possible-interaction",
   "metadata": {
    "ExecuteTime": {
     "end_time": "2021-05-10T19:12:27.784698Z",
     "start_time": "2021-05-10T19:12:27.494520Z"
    }
   },
   "outputs": [],
   "source": [
    "X2_train, X2_test, y2_train, y2_test = train_test_split(X2, y, test_size=0.2, random_state=35, stratify=y)"
   ]
  },
  {
   "cell_type": "markdown",
   "id": "together-characteristic",
   "metadata": {
    "heading_collapsed": true
   },
   "source": [
    "##  Treinando modelo LGBM"
   ]
  },
  {
   "cell_type": "code",
   "execution_count": 70,
   "id": "offensive-level",
   "metadata": {
    "ExecuteTime": {
     "end_time": "2021-05-10T19:12:29.428848Z",
     "start_time": "2021-05-10T19:12:27.787684Z"
    },
    "hidden": true
   },
   "outputs": [
    {
     "data": {
      "text/plain": [
       "LGBMClassifier(colsample_bytree=0.7, max_depth=4, n_estimators=70)"
      ]
     },
     "execution_count": 70,
     "metadata": {},
     "output_type": "execute_result"
    }
   ],
   "source": [
    "from lightgbm import LGBMClassifier, plot_importance\n",
    "\n",
    "lgbm = LGBMClassifier(max_depth=4, n_estimators=70, colsample_bytree=.7, n_jobs=-1)\n",
    "lgbm.fit(X_train, y_train)"
   ]
  },
  {
   "cell_type": "code",
   "execution_count": 71,
   "id": "potential-florist",
   "metadata": {
    "ExecuteTime": {
     "end_time": "2021-05-10T19:12:51.126051Z",
     "start_time": "2021-05-10T19:12:50.401692Z"
    },
    "hidden": true,
    "scrolled": true
   },
   "outputs": [
    {
     "name": "stdout",
     "output_type": "stream",
     "text": [
      "0.4986166407989743\n",
      "0.7392696348174087\n",
      "0.5955508986862255\n"
     ]
    }
   ],
   "source": [
    "print(precision_score(lgbm.predict(X_test), y_test))\n",
    "print(recall_score(lgbm.predict(X_test), y_test))\n",
    "print(f1_score(lgbm.predict(X_test), y_test))"
   ]
  },
  {
   "cell_type": "code",
   "execution_count": 26,
   "id": "advance-pendant",
   "metadata": {
    "ExecuteTime": {
     "end_time": "2021-05-10T19:02:59.827189Z",
     "start_time": "2021-05-10T19:02:58.817566Z"
    },
    "hidden": true
   },
   "outputs": [
    {
     "name": "stdout",
     "output_type": "stream",
     "text": [
      "0.8817050395451486\n",
      "0.8760692143498832\n"
     ]
    }
   ],
   "source": [
    "print(roc_auc_score(y_train, lgbm.predict_proba(X_train)[:,1]))\n",
    "print(roc_auc_score(y_test, lgbm.predict_proba(X_test)[:,1]))"
   ]
  },
  {
   "cell_type": "code",
   "execution_count": 27,
   "id": "pretty-voltage",
   "metadata": {
    "ExecuteTime": {
     "end_time": "2021-05-10T19:03:02.210984Z",
     "start_time": "2021-05-10T19:03:00.639124Z"
    },
    "hidden": true
   },
   "outputs": [
    {
     "data": {
      "text/plain": [
       "<sklearn.metrics._plot.roc_curve.RocCurveDisplay at 0x1e885cf6520>"
      ]
     },
     "execution_count": 27,
     "metadata": {},
     "output_type": "execute_result"
    },
    {
     "data": {
      "image/png": "[encoded data removed]",
      "text/plain": [
       "<Figure size 432x288 with 1 Axes>"
      ]
     },
     "metadata": {
      "needs_background": "light"
     },
     "output_type": "display_data"
    }
   ],
   "source": [
    "fig, ax = plt.subplots()\n",
    "\n",
    "plot_roc_curve(lgbm, X_train, y_train, ax=ax, name='LGBM treino')\n",
    "plot_roc_curve(lgbm, X_test, y_test, ax=ax, name='LGBM teste')"
   ]
  },
  {
   "cell_type": "code",
   "execution_count": 220,
   "id": "valued-turning",
   "metadata": {
    "ExecuteTime": {
     "end_time": "2021-05-07T19:31:27.198769Z",
     "start_time": "2021-05-07T19:31:26.661103Z"
    },
    "hidden": true
   },
   "outputs": [
    {
     "data": {
      "text/plain": [
       "LGBMClassifier(colsample_bytree=0.7, max_depth=4, n_estimators=70)"
      ]
     },
     "execution_count": 220,
     "metadata": {},
     "output_type": "execute_result"
    }
   ],
   "source": [
    "lgbm_std = LGBMClassifier(max_depth=4, n_estimators=70, colsample_bytree=.7, n_jobs=-1)\n",
    "lgbm_std.fit(X_train_std, y_train)"
   ]
  },
  {
   "cell_type": "code",
   "execution_count": 244,
   "id": "desirable-printing",
   "metadata": {
    "ExecuteTime": {
     "end_time": "2021-05-07T20:17:08.890448Z",
     "start_time": "2021-05-07T20:17:08.517697Z"
    },
    "hidden": true
   },
   "outputs": [
    {
     "name": "stdout",
     "output_type": "stream",
     "text": [
      "0.8805143303986291\n",
      "0.8768863607412292\n"
     ]
    }
   ],
   "source": [
    "print(roc_auc_score(y_train, lgbm_std.predict_proba(X_train_std)[:,1]))\n",
    "print(roc_auc_score(y_test, lgbm_std.predict_proba(X_test_std)[:,1]))"
   ]
  },
  {
   "cell_type": "code",
   "execution_count": 253,
   "id": "shaped-headset",
   "metadata": {
    "ExecuteTime": {
     "end_time": "2021-05-07T20:19:49.003036Z",
     "start_time": "2021-05-07T20:19:30.365383Z"
    },
    "hidden": true
   },
   "outputs": [
    {
     "data": {
      "image/png": "[encoded data removed]",
      "text/plain": [
       "<Figure size 432x288 with 1 Axes>"
      ]
     },
     "metadata": {
      "needs_background": "light"
     },
     "output_type": "display_data"
    }
   ],
   "source": [
    "curves = learning_curve(lgbm, X_train, y_train, scoring='roc_auc')\n",
    "\n",
    "train_sizes = curves[0]\n",
    "train_scores = curves[1]\n",
    "test_scores = curves[2]\n",
    "\n",
    "plt.plot(train_sizes, train_scores.mean(axis=1),'-o')\n",
    "plt.plot(train_sizes, test_scores.mean(axis=1),'-o');\n",
    "plt.ylim([0.5, 1])\n",
    "plt.grid();"
   ]
  },
  {
   "cell_type": "code",
   "execution_count": 275,
   "id": "northern-clause",
   "metadata": {
    "ExecuteTime": {
     "end_time": "2021-05-07T20:42:38.974527Z",
     "start_time": "2021-05-07T20:42:38.395505Z"
    },
    "hidden": true
   },
   "outputs": [
    {
     "data": {
      "text/plain": [
       "LGBMClassifier(colsample_bytree=0.7, max_depth=4, n_estimators=70)"
      ]
     },
     "execution_count": 275,
     "metadata": {},
     "output_type": "execute_result"
    }
   ],
   "source": [
    "lgbm2 = LGBMClassifier(max_depth=4, n_estimators=70, colsample_bytree=.7, n_jobs=-1)\n",
    "lgbm2.fit(X2_train, y2_train)"
   ]
  },
  {
   "cell_type": "code",
   "execution_count": 276,
   "id": "spare-margin",
   "metadata": {
    "ExecuteTime": {
     "end_time": "2021-05-07T20:42:40.430240Z",
     "start_time": "2021-05-07T20:42:40.035279Z"
    },
    "hidden": true
   },
   "outputs": [
    {
     "name": "stdout",
     "output_type": "stream",
     "text": [
      "0.8684591661140797\n",
      "0.8638037529883231\n"
     ]
    }
   ],
   "source": [
    "print(roc_auc_score(y2_train, lgbm2.predict_proba(X2_train)[:,1]))\n",
    "print(roc_auc_score(y2_test, lgbm2.predict_proba(X2_test)[:,1]))"
   ]
  },
  {
   "cell_type": "code",
   "execution_count": 277,
   "id": "promotional-transaction",
   "metadata": {
    "ExecuteTime": {
     "end_time": "2021-05-07T20:42:41.808593Z",
     "start_time": "2021-05-07T20:42:41.748753Z"
    },
    "hidden": true
   },
   "outputs": [
    {
     "data": {
      "text/plain": [
       "array([0.13658   , 0.26824244, 0.07499037, ..., 0.06268261, 0.12332027,\n",
       "       0.04834003])"
      ]
     },
     "execution_count": 277,
     "metadata": {},
     "output_type": "execute_result"
    }
   ],
   "source": [
    "lgbm2.predict_proba(X2_test)[:,1]"
   ]
  },
  {
   "cell_type": "code",
   "execution_count": 278,
   "id": "exempt-newport",
   "metadata": {
    "ExecuteTime": {
     "end_time": "2021-05-07T20:42:43.426656Z",
     "start_time": "2021-05-07T20:42:43.173335Z"
    },
    "hidden": true,
    "scrolled": true
   },
   "outputs": [
    {
     "name": "stdout",
     "output_type": "stream",
     "text": [
      "0.4747638326585695\n",
      "0.7467628953513055\n",
      "0.580480158402772\n"
     ]
    }
   ],
   "source": [
    "print(precision_score(lgbm2.predict(X2_test), y2_test))\n",
    "print(recall_score(lgbm2.predict(X2_test), y2_test))\n",
    "print(f1_score(lgbm2.predict(X2_test), y2_test))"
   ]
  },
  {
   "cell_type": "code",
   "execution_count": 279,
   "id": "israeli-broadcast",
   "metadata": {
    "ExecuteTime": {
     "end_time": "2021-05-07T20:42:45.271918Z",
     "start_time": "2021-05-07T20:42:44.861473Z"
    },
    "hidden": true
   },
   "outputs": [
    {
     "data": {
      "text/plain": [
       "<sklearn.metrics._plot.roc_curve.RocCurveDisplay at 0x1c6bf7ced90>"
      ]
     },
     "execution_count": 279,
     "metadata": {},
     "output_type": "execute_result"
    },
    {
     "data": {
      "image/png": "[encoded data removed]",
      "text/plain": [
       "<Figure size 432x288 with 1 Axes>"
      ]
     },
     "metadata": {
      "needs_background": "light"
     },
     "output_type": "display_data"
    }
   ],
   "source": [
    "fig, ax = plt.subplots()\n",
    "\n",
    "plot_roc_curve(lgbm, X_test, y_test, ax=ax)\n",
    "plot_roc_curve(lgbm2, X2_test, y2_test, ax=ax)"
   ]
  },
  {
   "cell_type": "code",
   "execution_count": 223,
   "id": "standing-garden",
   "metadata": {
    "ExecuteTime": {
     "end_time": "2021-05-07T19:33:53.790289Z",
     "start_time": "2021-05-07T19:33:53.503449Z"
    },
    "hidden": true
   },
   "outputs": [
    {
     "data": {
      "text/plain": [
       "<AxesSubplot:title={'center':'Feature importance'}, xlabel='Feature importance', ylabel='Features'>"
      ]
     },
     "execution_count": 223,
     "metadata": {},
     "output_type": "execute_result"
    },
    {
     "data": {
      "image/png": "[encoded data removed]",
      "text/plain": [
       "<Figure size 432x288 with 1 Axes>"
      ]
     },
     "metadata": {
      "needs_background": "light"
     },
     "output_type": "display_data"
    }
   ],
   "source": [
    "plot_importance(lgbm, importance_type='gain')"
   ]
  },
  {
   "cell_type": "markdown",
   "id": "tested-scenario",
   "metadata": {},
   "source": [
    "##  Escolha do modelo"
   ]
  },
  {
   "cell_type": "code",
   "execution_count": 30,
   "id": "egyptian-municipality",
   "metadata": {
    "ExecuteTime": {
     "end_time": "2021-05-11T14:34:59.680196Z",
     "start_time": "2021-05-11T14:34:58.678074Z"
    }
   },
   "outputs": [],
   "source": [
    "from lightgbm import LGBMClassifier, plot_importance\n",
    "\n",
    "model_lgbm = LGBMClassifier(max_depth=4, n_estimators=70, colsample_bytree=.7, n_jobs=-1)"
   ]
  },
  {
   "cell_type": "code",
   "execution_count": 75,
   "id": "tracked-smart",
   "metadata": {
    "ExecuteTime": {
     "end_time": "2021-05-11T14:56:47.524032Z",
     "start_time": "2021-05-11T14:56:47.520066Z"
    }
   },
   "outputs": [],
   "source": [
    "from sklearn.linear_model import LogisticRegression\n",
    "\n",
    "model_log = LogisticRegression()"
   ]
  },
  {
   "cell_type": "code",
   "execution_count": 88,
   "id": "exotic-heaven",
   "metadata": {
    "ExecuteTime": {
     "end_time": "2021-05-11T15:12:18.820987Z",
     "start_time": "2021-05-11T15:12:18.815005Z"
    }
   },
   "outputs": [],
   "source": [
    "from sklearn.ensemble import BaggingClassifier\n",
    "from sklearn.tree import DecisionTreeClassifier\n",
    "\n",
    "bagging = BaggingClassifier(\n",
    "            base_estimator=DecisionTreeClassifier(max_depth=3), \n",
    "            n_estimators=100)\n",
    "\n",
    "model_tree = DecisionTreeClassifier(max_depth=5)"
   ]
  },
  {
   "cell_type": "code",
   "execution_count": 103,
   "id": "bigger-detail",
   "metadata": {
    "ExecuteTime": {
     "end_time": "2021-05-11T15:14:41.975071Z",
     "start_time": "2021-05-11T15:14:41.971083Z"
    }
   },
   "outputs": [],
   "source": [
    "from sklearn.ensemble import RandomForestClassifier\n",
    "\n",
    "forest = RandomForestClassifier(max_depth=5, n_estimators=70, n_jobs=-1)"
   ]
  },
  {
   "cell_type": "code",
   "execution_count": 110,
   "id": "opponent-weapon",
   "metadata": {
    "ExecuteTime": {
     "end_time": "2021-05-11T15:21:24.672079Z",
     "start_time": "2021-05-11T15:21:24.667081Z"
    }
   },
   "outputs": [],
   "source": [
    "from sklearn.neighbors import KNeighborsClassifier\n",
    "\n",
    "knn = KNeighborsClassifier(n_neighbors=20)"
   ]
  },
  {
   "cell_type": "code",
   "execution_count": 113,
   "id": "preliminary-might",
   "metadata": {
    "ExecuteTime": {
     "end_time": "2021-05-11T15:25:08.786540Z",
     "start_time": "2021-05-11T15:25:08.780581Z"
    }
   },
   "outputs": [],
   "source": [
    "from mlxtend.classifier import StackingClassifier\n",
    "\n",
    "stacking = StackingClassifier(classifiers=[model_tree, forest, knn, bagging, model_log], \n",
    "                              meta_classifier=LogisticRegression(), \n",
    "                              use_probas=True, \n",
    "                              average_probas=True)"
   ]
  },
  {
   "cell_type": "code",
   "execution_count": 76,
   "id": "threaded-edgar",
   "metadata": {
    "ExecuteTime": {
     "end_time": "2021-05-11T14:57:06.796452Z",
     "start_time": "2021-05-11T14:57:06.792464Z"
    }
   },
   "outputs": [],
   "source": [
    "pipeline = Pipeline(steps=[('preprocessing', dataprep),\n",
    "                           ('modelling', model_lgbm)\n",
    "                          ])\n",
    "\n",
    "pipeline.fit(X_train, y_train);"
   ]
  },
  {
   "cell_type": "code",
   "execution_count": 114,
   "id": "gorgeous-fellow",
   "metadata": {
    "ExecuteTime": {
     "end_time": "2021-05-11T15:31:14.883671Z",
     "start_time": "2021-05-11T15:25:16.233806Z"
    }
   },
   "outputs": [],
   "source": [
    "pipeline2 = Pipeline(steps=[('preprocessing', dataprep),\n",
    "                           ('modelling', stacking)\n",
    "                          ])\n",
    "\n",
    "pipeline2.fit(X_train, y_train);"
   ]
  },
  {
   "cell_type": "code",
   "execution_count": 112,
   "id": "ignored-scope",
   "metadata": {
    "ExecuteTime": {
     "end_time": "2021-05-11T15:24:53.666859Z",
     "start_time": "2021-05-11T15:21:30.017421Z"
    }
   },
   "outputs": [
    {
     "data": {
      "text/plain": [
       "<sklearn.metrics._plot.roc_curve.RocCurveDisplay at 0x233c1abba90>"
      ]
     },
     "execution_count": 112,
     "metadata": {},
     "output_type": "execute_result"
    },
    {
     "data": {
      "image/png": "[encoded data removed]",
      "text/plain": [
       "<Figure size 432x288 with 1 Axes>"
      ]
     },
     "metadata": {
      "needs_background": "light"
     },
     "output_type": "display_data"
    }
   ],
   "source": [
    "fig, ax = plt.subplots()\n",
    "\n",
    "plot_roc_curve(pipeline, X_test, y_test, ax=ax, name='LGBM')\n",
    "plot_roc_curve(pipeline2, X_test, y_test, ax=ax, name='Other')"
   ]
  },
  {
   "cell_type": "code",
   "execution_count": null,
   "id": "elect-tolerance",
   "metadata": {
    "ExecuteTime": {
     "end_time": "2021-05-11T14:54:44.935684Z",
     "start_time": "2021-05-11T14:54:44.447912Z"
    }
   },
   "outputs": [],
   "source": [
    "print(roc_auc_score(y_train, pipeline.predict_proba(X_train)[:,1]))\n",
    "print(roc_auc_score(y_test, pipeline.predict_proba(X_test)[:,1]))"
   ]
  },
  {
   "cell_type": "code",
   "execution_count": 80,
   "id": "signal-aside",
   "metadata": {
    "ExecuteTime": {
     "end_time": "2021-05-11T15:03:05.753033Z",
     "start_time": "2021-05-11T15:03:02.150271Z"
    }
   },
   "outputs": [
    {
     "data": {
      "text/plain": [
       "array([0.8749917 , 0.87156933, 0.87068364, 0.8693791 , 0.87265199])"
      ]
     },
     "execution_count": 80,
     "metadata": {},
     "output_type": "execute_result"
    }
   ],
   "source": [
    "cross_val_score(pipeline, X_train, y_train, cv=KFold(n_splits=5), scoring='roc_auc')"
   ]
  },
  {
   "cell_type": "code",
   "execution_count": null,
   "id": "unusual-acrylic",
   "metadata": {
    "ExecuteTime": {
     "end_time": "2021-05-07T20:42:41.808593Z",
     "start_time": "2021-05-07T20:42:41.748753Z"
    }
   },
   "outputs": [],
   "source": [
    "pipeline.predict_proba(X_test)[:,1]"
   ]
  },
  {
   "cell_type": "code",
   "execution_count": null,
   "id": "renewable-arctic",
   "metadata": {
    "ExecuteTime": {
     "end_time": "2021-05-11T14:55:13.107688Z",
     "start_time": "2021-05-11T14:55:12.496677Z"
    }
   },
   "outputs": [],
   "source": [
    "print(precision_score(pipeline.predict(X_test), y_test))\n",
    "print(recall_score(pipeline.predict(X_test), y_test))\n",
    "print(f1_score(pipeline.predict(X_test), y_test))"
   ]
  },
  {
   "cell_type": "markdown",
   "id": "adaptive-compatibility",
   "metadata": {},
   "source": [
    "##  Trabalhando com dados sazonais\n",
    "\n",
    "Na Austrália:\n",
    "\n",
    "Verão: Dezembro a Fevereiro\n",
    "\n",
    "Outono: Março a Maio\n",
    "\n",
    "Inverno: Junho a Agosto\n",
    "\n",
    "Primavera: Setembro a Novembro"
   ]
  },
  {
   "cell_type": "code",
   "execution_count": 129,
   "id": "chinese-asthma",
   "metadata": {
    "ExecuteTime": {
     "end_time": "2021-05-10T20:34:59.795569Z",
     "start_time": "2021-05-10T20:34:59.718751Z"
    }
   },
   "outputs": [],
   "source": [
    "X_verao = df.loc[(df['date'].dt.month<=2) | (df['date'].dt.month==12), ['mintemp', 'maxtemp', 'rainfall', 'humidity9am',\n",
    "                                                                        'humidity3pm', 'pressure9am', 'pressure3pm',\n",
    "                                                                        'precipitation3pm', 'wind_gustspeed',\n",
    "                                                                        'wind_speed9am', 'wind_speed3pm']]\n",
    "X_verao = X_verao.reset_index()\n",
    "\n",
    "y_verao = df.loc[(df['date'].dt.month<=2) | (df['date'].dt.month==12), 'raintomorrow']\n",
    "y_verao = y_verao.reset_index()"
   ]
  },
  {
   "cell_type": "code",
   "execution_count": 132,
   "id": "elder-evanescence",
   "metadata": {
    "ExecuteTime": {
     "end_time": "2021-05-10T20:35:31.214838Z",
     "start_time": "2021-05-10T20:35:31.206870Z"
    }
   },
   "outputs": [],
   "source": [
    "X_verao = X_verao.drop('index', axis=1)\n",
    "y_verao = y_verao.drop('index', axis=1)"
   ]
  },
  {
   "cell_type": "code",
   "execution_count": 161,
   "id": "secondary-blogger",
   "metadata": {
    "ExecuteTime": {
     "end_time": "2021-05-10T20:57:34.836947Z",
     "start_time": "2021-05-10T20:57:34.665309Z"
    }
   },
   "outputs": [],
   "source": [
    "X_v_train, X_v_test, y_v_train, y_v_test = train_test_split(X_verao, np.ravel(y_verao), test_size=0.2, random_state=35, stratify=y_verao)"
   ]
  },
  {
   "cell_type": "code",
   "execution_count": 97,
   "id": "competitive-beatles",
   "metadata": {
    "ExecuteTime": {
     "end_time": "2021-05-10T20:17:08.482612Z",
     "start_time": "2021-05-10T20:17:08.396730Z"
    }
   },
   "outputs": [],
   "source": [
    "X_outono = df.loc[(df['date'].dt.month<=5) & (df['date'].dt.month>=3), ['mintemp', 'maxtemp', 'rainfall', 'humidity9am',\n",
    "                                                                        'humidity3pm', 'pressure9am', 'pressure3pm',\n",
    "                                                                        'precipitation3pm', 'wind_gustspeed',\n",
    "                                                                        'wind_speed9am', 'wind_speed3pm']]\n",
    "X_outono = X_outono.reset_index()\n",
    "\n",
    "y_outono = df.loc[(df['date'].dt.month<=5) & (df['date'].dt.month>=3), 'raintomorrow']\n",
    "y_outono = y_outono.reset_index()"
   ]
  },
  {
   "cell_type": "code",
   "execution_count": 137,
   "id": "compressed-colon",
   "metadata": {
    "ExecuteTime": {
     "end_time": "2021-05-10T20:38:03.466851Z",
     "start_time": "2021-05-10T20:38:03.455912Z"
    }
   },
   "outputs": [],
   "source": [
    "X_outono = X_outono.drop('index', axis=1)\n",
    "y_outono = y_outono.drop('index', axis=1)"
   ]
  },
  {
   "cell_type": "code",
   "execution_count": 138,
   "id": "miniature-pharmaceutical",
   "metadata": {
    "ExecuteTime": {
     "end_time": "2021-05-10T20:38:24.415891Z",
     "start_time": "2021-05-10T20:38:24.225393Z"
    }
   },
   "outputs": [],
   "source": [
    "X_o_train, X_o_test, y_o_train, y_o_test = train_test_split(X_outono, y_outono, test_size=0.2, random_state=35, stratify=y_outono)"
   ]
  },
  {
   "cell_type": "code",
   "execution_count": 99,
   "id": "asian-priority",
   "metadata": {
    "ExecuteTime": {
     "end_time": "2021-05-10T20:17:08.482612Z",
     "start_time": "2021-05-10T20:17:08.396730Z"
    }
   },
   "outputs": [],
   "source": [
    "X_inverno = df.loc[(df['date'].dt.month<=8) & (df['date'].dt.month>=6), ['mintemp', 'maxtemp', 'rainfall', 'humidity9am',\n",
    "                                                                        'humidity3pm', 'pressure9am', 'pressure3pm',\n",
    "                                                                        'precipitation3pm', 'wind_gustspeed',\n",
    "                                                                        'wind_speed9am', 'wind_speed3pm']]\n",
    "X_inverno = X_inverno.reset_index()\n",
    "\n",
    "y_inverno = df.loc[(df['date'].dt.month<=8) & (df['date'].dt.month>=6), 'raintomorrow']\n",
    "y_inverno = y_inverno.reset_index()"
   ]
  },
  {
   "cell_type": "code",
   "execution_count": 139,
   "id": "miniature-worship",
   "metadata": {
    "ExecuteTime": {
     "end_time": "2021-05-10T20:38:03.466851Z",
     "start_time": "2021-05-10T20:38:03.455912Z"
    }
   },
   "outputs": [],
   "source": [
    "X_inverno = X_inverno.drop('index', axis=1)\n",
    "y_inverno = y_inverno.drop('index', axis=1)"
   ]
  },
  {
   "cell_type": "code",
   "execution_count": 140,
   "id": "crude-vessel",
   "metadata": {
    "ExecuteTime": {
     "end_time": "2021-05-10T20:38:24.415891Z",
     "start_time": "2021-05-10T20:38:24.225393Z"
    }
   },
   "outputs": [],
   "source": [
    "X_i_train, X_i_test, y_i_train, y_i_test = train_test_split(X_inverno, y_inverno, test_size=0.2, random_state=35, stratify=y_inverno)"
   ]
  },
  {
   "cell_type": "code",
   "execution_count": 98,
   "id": "running-secret",
   "metadata": {
    "ExecuteTime": {
     "end_time": "2021-05-10T20:17:08.482612Z",
     "start_time": "2021-05-10T20:17:08.396730Z"
    }
   },
   "outputs": [],
   "source": [
    "X_primavera = df.loc[(df['date'].dt.month<=11) & (df['date'].dt.month>=9), ['mintemp', 'maxtemp', 'rainfall', 'humidity9am',\n",
    "                                                                        'humidity3pm', 'pressure9am', 'pressure3pm',\n",
    "                                                                        'precipitation3pm', 'wind_gustspeed',\n",
    "                                                                        'wind_speed9am', 'wind_speed3pm']]\n",
    "X_primavera = X_primavera.reset_index()\n",
    "\n",
    "y_primavera = df.loc[(df['date'].dt.month<=11) & (df['date'].dt.month>=9), 'raintomorrow']\n",
    "y_primavera = y_primavera.reset_index()"
   ]
  },
  {
   "cell_type": "code",
   "execution_count": 141,
   "id": "impressive-academy",
   "metadata": {
    "ExecuteTime": {
     "end_time": "2021-05-10T20:38:03.466851Z",
     "start_time": "2021-05-10T20:38:03.455912Z"
    }
   },
   "outputs": [],
   "source": [
    "X_primavera = X_primavera.drop('index', axis=1)\n",
    "y_primavera = y_primavera.drop('index', axis=1)"
   ]
  },
  {
   "cell_type": "code",
   "execution_count": 142,
   "id": "engaging-mortality",
   "metadata": {
    "ExecuteTime": {
     "end_time": "2021-05-10T20:38:24.415891Z",
     "start_time": "2021-05-10T20:38:24.225393Z"
    }
   },
   "outputs": [],
   "source": [
    "X_p_train, X_p_test, y_p_train, y_p_test = train_test_split(X_primavera, y_primavera, test_size=0.2, random_state=35, stratify=y_primavera)"
   ]
  },
  {
   "cell_type": "markdown",
   "id": "animal-angola",
   "metadata": {},
   "source": [
    "###  Treinando o modelo"
   ]
  },
  {
   "cell_type": "code",
   "execution_count": 100,
   "id": "inclusive-reconstruction",
   "metadata": {
    "ExecuteTime": {
     "end_time": "2021-05-10T20:21:46.734960Z",
     "start_time": "2021-05-10T20:21:46.728016Z"
    }
   },
   "outputs": [],
   "source": [
    "modelo_lgbm = LGBMClassifier(max_depth=4, n_estimators=70, colsample_bytree=.7, n_jobs=-1)"
   ]
  },
  {
   "cell_type": "code",
   "execution_count": 102,
   "id": "modular-accreditation",
   "metadata": {
    "ExecuteTime": {
     "end_time": "2021-05-10T20:23:42.215254Z",
     "start_time": "2021-05-10T20:23:42.211269Z"
    }
   },
   "outputs": [],
   "source": []
  },
  {
   "cell_type": "code",
   "execution_count": 103,
   "id": "developing-bottle",
   "metadata": {
    "ExecuteTime": {
     "end_time": "2021-05-10T20:25:23.270120Z",
     "start_time": "2021-05-10T20:25:23.265132Z"
    }
   },
   "outputs": [],
   "source": [
    "pipeline = Pipeline(steps=[('modelling', modelo_lgbm)])"
   ]
  },
  {
   "cell_type": "code",
   "execution_count": 162,
   "id": "threatened-induction",
   "metadata": {
    "ExecuteTime": {
     "end_time": "2021-05-10T20:57:42.795291Z",
     "start_time": "2021-05-10T20:57:42.635213Z"
    }
   },
   "outputs": [
    {
     "data": {
      "text/plain": [
       "Pipeline(steps=[('modelling',\n",
       "                 LGBMClassifier(colsample_bytree=0.7, max_depth=4,\n",
       "                                n_estimators=70))])"
      ]
     },
     "execution_count": 162,
     "metadata": {},
     "output_type": "execute_result"
    }
   ],
   "source": [
    "pipeline.fit(X_v_train, y_v_train)"
   ]
  },
  {
   "cell_type": "code",
   "execution_count": 163,
   "id": "better-platform",
   "metadata": {
    "ExecuteTime": {
     "end_time": "2021-05-10T20:57:47.791312Z",
     "start_time": "2021-05-10T20:57:46.294698Z"
    }
   },
   "outputs": [
    {
     "data": {
      "text/plain": [
       "array([0.86854123, 0.86980143, 0.87333401, 0.87165049, 0.87916041,\n",
       "       0.85892687, 0.85897944, 0.88322752, 0.86202687, 0.86678553])"
      ]
     },
     "execution_count": 163,
     "metadata": {},
     "output_type": "execute_result"
    }
   ],
   "source": [
    "cross_val_score(pipeline, X_v_train, y_v_train, scoring='roc_auc', cv=KFold(n_splits=10, shuffle=True))"
   ]
  },
  {
   "cell_type": "code",
   "execution_count": 149,
   "id": "clinical-tennis",
   "metadata": {
    "ExecuteTime": {
     "end_time": "2021-05-10T20:46:23.909558Z",
     "start_time": "2021-05-10T20:46:23.905571Z"
    }
   },
   "outputs": [],
   "source": [
    "lgbm_verao = LGBMClassifier(max_depth=4, n_estimators=70, colsample_bytree=.7, n_jobs=-1)"
   ]
  },
  {
   "cell_type": "code",
   "execution_count": 164,
   "id": "private-consortium",
   "metadata": {
    "ExecuteTime": {
     "end_time": "2021-05-10T20:57:51.746421Z",
     "start_time": "2021-05-10T20:57:51.587846Z"
    },
    "scrolled": true
   },
   "outputs": [
    {
     "data": {
      "text/plain": [
       "LGBMClassifier(colsample_bytree=0.7, max_depth=4, n_estimators=70)"
      ]
     },
     "execution_count": 164,
     "metadata": {},
     "output_type": "execute_result"
    }
   ],
   "source": [
    "lgbm_verao.fit(X_v_train, y_v_train)"
   ]
  },
  {
   "cell_type": "code",
   "execution_count": 165,
   "id": "warming-provincial",
   "metadata": {
    "ExecuteTime": {
     "end_time": "2021-05-11T14:54:44.935684Z",
     "start_time": "2021-05-11T14:54:44.447912Z"
    }
   },
   "outputs": [
    {
     "name": "stdout",
     "output_type": "stream",
     "text": [
      "0.8845877811877918\n",
      "0.8723623099901593\n"
     ]
    }
   ],
   "source": [
    "print(roc_auc_score(y_v_train, lgbm_verao.predict_proba(X_v_train)[:,1]))\n",
    "print(roc_auc_score(y_v_test, lgbm_verao.predict_proba(X_v_test)[:,1]))"
   ]
  },
  {
   "cell_type": "code",
   "execution_count": 166,
   "id": "musical-production",
   "metadata": {
    "ExecuteTime": {
     "end_time": "2021-05-11T14:55:13.107688Z",
     "start_time": "2021-05-11T14:55:12.496677Z"
    },
    "scrolled": true
   },
   "outputs": [
    {
     "name": "stdout",
     "output_type": "stream",
     "text": [
      "0.4623243933588761\n",
      "0.7494824016563147\n",
      "0.5718799368088469\n"
     ]
    }
   ],
   "source": [
    "print(precision_score(lgbm_verao.predict(X_v_test), y_v_test))\n",
    "print(recall_score(lgbm_verao.predict(X_v_test), y_v_test))\n",
    "print(f1_score(lgbm_verao.predict(X_v_test), y_v_test))"
   ]
  },
  {
   "cell_type": "code",
   "execution_count": 153,
   "id": "aware-detroit",
   "metadata": {
    "ExecuteTime": {
     "end_time": "2021-05-11T15:24:53.666859Z",
     "start_time": "2021-05-11T15:21:30.017421Z"
    }
   },
   "outputs": [
    {
     "data": {
      "text/plain": [
       "<sklearn.metrics._plot.roc_curve.RocCurveDisplay at 0x1e8a0680e20>"
      ]
     },
     "execution_count": 153,
     "metadata": {},
     "output_type": "execute_result"
    },
    {
     "data": {
      "image/png": "[encoded data removed]",
      "text/plain": [
       "<Figure size 432x288 with 1 Axes>"
      ]
     },
     "metadata": {
      "needs_background": "light"
     },
     "output_type": "display_data"
    }
   ],
   "source": [
    "fig, ax = plt.subplots()\n",
    "\n",
    "plot_roc_curve(lgbm_verao, X_v_train, y_v_train, ax=ax)\n",
    "plot_roc_curve(lgbm_verao, X_v_test, y_v_test, ax=ax)"
   ]
  }
 ],
 "metadata": {
  "kernelspec": {
   "display_name": "Python 3",
   "language": "python",
   "name": "python3"
  },
  "language_info": {
   "codemirror_mode": {
    "name": "ipython",
    "version": 3
   },
   "file_extension": ".py",
   "mimetype": "text/x-python",
   "name": "python",
   "nbconvert_exporter": "python",
   "pygments_lexer": "ipython3",
   "version": "3.8.8"
  },
  "toc": {
   "base_numbering": 1,
   "nav_menu": {},
   "number_sections": true,
   "sideBar": true,
   "skip_h1_title": false,
   "title_cell": "Table of Contents",
   "title_sidebar": "Contents",
   "toc_cell": false,
   "toc_position": {},
   "toc_section_display": true,
   "toc_window_display": false
  },
  "varInspector": {
   "cols": {
    "lenName": 16,
    "lenType": 16,
    "lenVar": 40
   },
   "kernels_config": {
    "python": {
     "delete_cmd_postfix": "",
     "delete_cmd_prefix": "del ",
     "library": "var_list.py",
     "varRefreshCmd": "print(var_dic_list())"
    },
    "r": {
     "delete_cmd_postfix": ") ",
     "delete_cmd_prefix": "rm(",
     "library": "var_list.r",
     "varRefreshCmd": "cat(var_dic_list()) "
    }
   },
   "types_to_exclude": [
    "module",
    "function",
    "builtin_function_or_method",
    "instance",
    "_Feature"
   ],
   "window_display": false
  }
 },
 "nbformat": 4,
 "nbformat_minor": 5
}
