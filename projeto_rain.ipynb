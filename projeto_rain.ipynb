{
 "cells": [
  {
   "cell_type": "markdown",
   "id": "attached-humidity",
   "metadata": {},
   "source": [
    "#  Projeto - Will it rain tomorrow?"
   ]
  },
  {
   "cell_type": "markdown",
   "id": "touched-steel",
   "metadata": {},
   "source": [
    "A pergunta a se fazer: qual o custo do erro na previsão?"
   ]
  },
  {
   "cell_type": "code",
   "execution_count": 2,
   "id": "stable-duncan",
   "metadata": {
    "ExecuteTime": {
     "end_time": "2021-05-12T15:08:58.519011Z",
     "start_time": "2021-05-12T15:08:58.514026Z"
    }
   },
   "outputs": [],
   "source": [
    "# Importando bibliotecas\n",
    "import pandas as pd\n",
    "import numpy as np\n",
    "import matplotlib.pyplot as plt\n",
    "import seaborn as sns\n",
    "from sklearn.model_selection import train_test_split\n",
    "\n",
    "from sklearn.pipeline import Pipeline\n",
    "\n",
    "from sklearn.impute import SimpleImputer\n",
    "\n",
    "from sklearn.model_selection import learning_curve, cross_val_score, KFold\n",
    "from sklearn.metrics import precision_score, recall_score, f1_score, roc_auc_score, plot_roc_curve\n",
    "\n",
    "from scipy.stats import uniform, gamma, beta, randint\n",
    "from sklearn.model_selection import RandomizedSearchCV"
   ]
  },
  {
   "cell_type": "markdown",
   "id": "professional-equality",
   "metadata": {
    "ExecuteTime": {
     "end_time": "2021-05-07T14:43:11.973258Z",
     "start_time": "2021-05-07T14:43:11.969268Z"
    }
   },
   "source": [
    "## Extraindo dados"
   ]
  },
  {
   "cell_type": "markdown",
   "id": "variable-nancy",
   "metadata": {},
   "source": [
    "###  Dados de chuva"
   ]
  },
  {
   "cell_type": "code",
   "execution_count": 3,
   "id": "economic-ferry",
   "metadata": {
    "ExecuteTime": {
     "end_time": "2021-05-12T15:09:02.442036Z",
     "start_time": "2021-05-12T15:09:01.773967Z"
    }
   },
   "outputs": [],
   "source": [
    "rain = pd.read_csv('data_rain/rain_data_aus.csv')"
   ]
  },
  {
   "cell_type": "code",
   "execution_count": null,
   "id": "removable-poison",
   "metadata": {
    "ExecuteTime": {
     "end_time": "2021-05-10T19:12:11.587443Z",
     "start_time": "2021-05-10T19:12:11.549509Z"
    }
   },
   "outputs": [],
   "source": [
    "rain.head()"
   ]
  },
  {
   "cell_type": "code",
   "execution_count": null,
   "id": "insured-maker",
   "metadata": {
    "ExecuteTime": {
     "end_time": "2021-05-10T19:12:11.933328Z",
     "start_time": "2021-05-10T19:12:11.593391Z"
    }
   },
   "outputs": [],
   "source": [
    "rain.info()"
   ]
  },
  {
   "cell_type": "code",
   "execution_count": null,
   "id": "editorial-heater",
   "metadata": {
    "ExecuteTime": {
     "end_time": "2021-05-10T19:12:12.011120Z",
     "start_time": "2021-05-10T19:12:11.936320Z"
    }
   },
   "outputs": [],
   "source": [
    "print(rain['date'].min())\n",
    "print(rain['date'].max())"
   ]
  },
  {
   "cell_type": "markdown",
   "id": "happy-secondary",
   "metadata": {},
   "source": [
    "###  Dados de vento"
   ]
  },
  {
   "cell_type": "code",
   "execution_count": 4,
   "id": "sudden-parts",
   "metadata": {
    "ExecuteTime": {
     "end_time": "2021-05-12T15:09:06.491118Z",
     "start_time": "2021-05-12T15:09:06.386384Z"
    }
   },
   "outputs": [
    {
     "data": {
      "text/html": [
       "<div>\n",
       "<style scoped>\n",
       "    .dataframe tbody tr th:only-of-type {\n",
       "        vertical-align: middle;\n",
       "    }\n",
       "\n",
       "    .dataframe tbody tr th {\n",
       "        vertical-align: top;\n",
       "    }\n",
       "\n",
       "    .dataframe thead th {\n",
       "        text-align: right;\n",
       "    }\n",
       "</style>\n",
       "<table border=\"1\" class=\"dataframe\">\n",
       "  <thead>\n",
       "    <tr style=\"text-align: right;\">\n",
       "      <th></th>\n",
       "      <th>date</th>\n",
       "      <th>location</th>\n",
       "      <th>wind_gustdir</th>\n",
       "      <th>wind_gustspeed</th>\n",
       "      <th>wind_dir9am</th>\n",
       "      <th>wind_dir3pm</th>\n",
       "      <th>wind_speed9am</th>\n",
       "      <th>wind_speed3pm</th>\n",
       "    </tr>\n",
       "  </thead>\n",
       "  <tbody>\n",
       "    <tr>\n",
       "      <th>0</th>\n",
       "      <td>2007-11-01</td>\n",
       "      <td>Canberra</td>\n",
       "      <td>NW</td>\n",
       "      <td>30.0</td>\n",
       "      <td>SW</td>\n",
       "      <td>NW</td>\n",
       "      <td>6.0</td>\n",
       "      <td>20.0</td>\n",
       "    </tr>\n",
       "    <tr>\n",
       "      <th>1</th>\n",
       "      <td>2007-11-02</td>\n",
       "      <td>Canberra</td>\n",
       "      <td>ENE</td>\n",
       "      <td>39.0</td>\n",
       "      <td>E</td>\n",
       "      <td>W</td>\n",
       "      <td>4.0</td>\n",
       "      <td>17.0</td>\n",
       "    </tr>\n",
       "    <tr>\n",
       "      <th>2</th>\n",
       "      <td>2007-11-03</td>\n",
       "      <td>Canberra</td>\n",
       "      <td>NW</td>\n",
       "      <td>85.0</td>\n",
       "      <td>N</td>\n",
       "      <td>NNE</td>\n",
       "      <td>6.0</td>\n",
       "      <td>6.0</td>\n",
       "    </tr>\n",
       "    <tr>\n",
       "      <th>3</th>\n",
       "      <td>2007-11-04</td>\n",
       "      <td>Canberra</td>\n",
       "      <td>NW</td>\n",
       "      <td>54.0</td>\n",
       "      <td>WNW</td>\n",
       "      <td>W</td>\n",
       "      <td>30.0</td>\n",
       "      <td>24.0</td>\n",
       "    </tr>\n",
       "    <tr>\n",
       "      <th>4</th>\n",
       "      <td>2007-11-05</td>\n",
       "      <td>Canberra</td>\n",
       "      <td>SSE</td>\n",
       "      <td>50.0</td>\n",
       "      <td>SSE</td>\n",
       "      <td>ESE</td>\n",
       "      <td>20.0</td>\n",
       "      <td>28.0</td>\n",
       "    </tr>\n",
       "  </tbody>\n",
       "</table>\n",
       "</div>"
      ],
      "text/plain": [
       "         date  location wind_gustdir  wind_gustspeed wind_dir9am wind_dir3pm  \\\n",
       "0  2007-11-01  Canberra           NW            30.0          SW          NW   \n",
       "1  2007-11-02  Canberra          ENE            39.0           E           W   \n",
       "2  2007-11-03  Canberra           NW            85.0           N         NNE   \n",
       "3  2007-11-04  Canberra           NW            54.0         WNW           W   \n",
       "4  2007-11-05  Canberra          SSE            50.0         SSE         ESE   \n",
       "\n",
       "   wind_speed9am  wind_speed3pm  \n",
       "0            6.0           20.0  \n",
       "1            4.0           17.0  \n",
       "2            6.0            6.0  \n",
       "3           30.0           24.0  \n",
       "4           20.0           28.0  "
      ]
     },
     "execution_count": 4,
     "metadata": {},
     "output_type": "execute_result"
    }
   ],
   "source": [
    "wind = pd.read_csv('data_rain/wind_table_01.csv')\n",
    "wind.head()"
   ]
  },
  {
   "cell_type": "code",
   "execution_count": 5,
   "id": "together-study",
   "metadata": {
    "ExecuteTime": {
     "end_time": "2021-05-12T15:09:08.236665Z",
     "start_time": "2021-05-12T15:09:07.321940Z"
    }
   },
   "outputs": [
    {
     "data": {
      "text/html": [
       "<div>\n",
       "<style scoped>\n",
       "    .dataframe tbody tr th:only-of-type {\n",
       "        vertical-align: middle;\n",
       "    }\n",
       "\n",
       "    .dataframe tbody tr th {\n",
       "        vertical-align: top;\n",
       "    }\n",
       "\n",
       "    .dataframe thead th {\n",
       "        text-align: right;\n",
       "    }\n",
       "</style>\n",
       "<table border=\"1\" class=\"dataframe\">\n",
       "  <thead>\n",
       "    <tr style=\"text-align: right;\">\n",
       "      <th></th>\n",
       "      <th>date</th>\n",
       "      <th>location</th>\n",
       "      <th>wind_gustdir</th>\n",
       "      <th>wind_gustspeed</th>\n",
       "      <th>wind_dir9am</th>\n",
       "      <th>wind_dir3pm</th>\n",
       "      <th>wind_speed9am</th>\n",
       "      <th>wind_speed3pm</th>\n",
       "      <th>windgustdir</th>\n",
       "      <th>windgustspeed</th>\n",
       "      <th>winddir9am</th>\n",
       "      <th>winddir3pm</th>\n",
       "      <th>windspeed9am</th>\n",
       "      <th>windspeed3pm</th>\n",
       "    </tr>\n",
       "  </thead>\n",
       "  <tbody>\n",
       "    <tr>\n",
       "      <th>0</th>\n",
       "      <td>2007-11-01</td>\n",
       "      <td>Canberra</td>\n",
       "      <td>NW</td>\n",
       "      <td>30.0</td>\n",
       "      <td>SW</td>\n",
       "      <td>NW</td>\n",
       "      <td>6.0</td>\n",
       "      <td>20.0</td>\n",
       "      <td>NaN</td>\n",
       "      <td>NaN</td>\n",
       "      <td>NaN</td>\n",
       "      <td>NaN</td>\n",
       "      <td>NaN</td>\n",
       "      <td>NaN</td>\n",
       "    </tr>\n",
       "    <tr>\n",
       "      <th>1</th>\n",
       "      <td>2007-11-02</td>\n",
       "      <td>Canberra</td>\n",
       "      <td>ENE</td>\n",
       "      <td>39.0</td>\n",
       "      <td>E</td>\n",
       "      <td>W</td>\n",
       "      <td>4.0</td>\n",
       "      <td>17.0</td>\n",
       "      <td>NaN</td>\n",
       "      <td>NaN</td>\n",
       "      <td>NaN</td>\n",
       "      <td>NaN</td>\n",
       "      <td>NaN</td>\n",
       "      <td>NaN</td>\n",
       "    </tr>\n",
       "    <tr>\n",
       "      <th>2</th>\n",
       "      <td>2007-11-03</td>\n",
       "      <td>Canberra</td>\n",
       "      <td>NW</td>\n",
       "      <td>85.0</td>\n",
       "      <td>N</td>\n",
       "      <td>NNE</td>\n",
       "      <td>6.0</td>\n",
       "      <td>6.0</td>\n",
       "      <td>NaN</td>\n",
       "      <td>NaN</td>\n",
       "      <td>NaN</td>\n",
       "      <td>NaN</td>\n",
       "      <td>NaN</td>\n",
       "      <td>NaN</td>\n",
       "    </tr>\n",
       "    <tr>\n",
       "      <th>3</th>\n",
       "      <td>2007-11-04</td>\n",
       "      <td>Canberra</td>\n",
       "      <td>NW</td>\n",
       "      <td>54.0</td>\n",
       "      <td>WNW</td>\n",
       "      <td>W</td>\n",
       "      <td>30.0</td>\n",
       "      <td>24.0</td>\n",
       "      <td>NaN</td>\n",
       "      <td>NaN</td>\n",
       "      <td>NaN</td>\n",
       "      <td>NaN</td>\n",
       "      <td>NaN</td>\n",
       "      <td>NaN</td>\n",
       "    </tr>\n",
       "    <tr>\n",
       "      <th>4</th>\n",
       "      <td>2007-11-05</td>\n",
       "      <td>Canberra</td>\n",
       "      <td>SSE</td>\n",
       "      <td>50.0</td>\n",
       "      <td>SSE</td>\n",
       "      <td>ESE</td>\n",
       "      <td>20.0</td>\n",
       "      <td>28.0</td>\n",
       "      <td>NaN</td>\n",
       "      <td>NaN</td>\n",
       "      <td>NaN</td>\n",
       "      <td>NaN</td>\n",
       "      <td>NaN</td>\n",
       "      <td>NaN</td>\n",
       "    </tr>\n",
       "  </tbody>\n",
       "</table>\n",
       "</div>"
      ],
      "text/plain": [
       "         date  location wind_gustdir  wind_gustspeed wind_dir9am wind_dir3pm  \\\n",
       "0  2007-11-01  Canberra           NW            30.0          SW          NW   \n",
       "1  2007-11-02  Canberra          ENE            39.0           E           W   \n",
       "2  2007-11-03  Canberra           NW            85.0           N         NNE   \n",
       "3  2007-11-04  Canberra           NW            54.0         WNW           W   \n",
       "4  2007-11-05  Canberra          SSE            50.0         SSE         ESE   \n",
       "\n",
       "   wind_speed9am  wind_speed3pm windgustdir  windgustspeed winddir9am  \\\n",
       "0            6.0           20.0         NaN            NaN        NaN   \n",
       "1            4.0           17.0         NaN            NaN        NaN   \n",
       "2            6.0            6.0         NaN            NaN        NaN   \n",
       "3           30.0           24.0         NaN            NaN        NaN   \n",
       "4           20.0           28.0         NaN            NaN        NaN   \n",
       "\n",
       "  winddir3pm  windspeed9am  windspeed3pm  \n",
       "0        NaN           NaN           NaN  \n",
       "1        NaN           NaN           NaN  \n",
       "2        NaN           NaN           NaN  \n",
       "3        NaN           NaN           NaN  \n",
       "4        NaN           NaN           NaN  "
      ]
     },
     "execution_count": 5,
     "metadata": {},
     "output_type": "execute_result"
    }
   ],
   "source": [
    "for i in range(2,9):\n",
    "    wind = pd.concat([wind, pd.read_csv(f'data_rain/wind_table_0{i}.csv')], ignore_index=True)\n",
    "    \n",
    "wind.head()"
   ]
  },
  {
   "cell_type": "code",
   "execution_count": null,
   "id": "instructional-livestock",
   "metadata": {
    "ExecuteTime": {
     "end_time": "2021-05-10T19:12:12.924579Z",
     "start_time": "2021-05-10T19:12:12.826842Z"
    }
   },
   "outputs": [],
   "source": [
    "wind.info()"
   ]
  },
  {
   "cell_type": "code",
   "execution_count": 6,
   "id": "incorporated-allergy",
   "metadata": {
    "ExecuteTime": {
     "end_time": "2021-05-12T15:09:11.479705Z",
     "start_time": "2021-05-12T15:09:11.313117Z"
    }
   },
   "outputs": [],
   "source": [
    "cont = 2\n",
    "for col in wind.columns[8:14]:\n",
    "    wind.loc[~wind[col].isnull(), wind.columns[cont]] = wind.loc[~wind[col].isnull(), col]\n",
    "    cont +=1\n",
    "    \n",
    "wind = wind.drop(['windgustdir', 'windgustspeed', 'winddir9am', 'winddir3pm', 'windspeed9am', 'windspeed3pm'], axis=1)"
   ]
  },
  {
   "cell_type": "code",
   "execution_count": null,
   "id": "mechanical-satin",
   "metadata": {
    "ExecuteTime": {
     "end_time": "2021-05-10T19:12:13.292170Z",
     "start_time": "2021-05-10T19:12:13.222354Z"
    }
   },
   "outputs": [],
   "source": [
    "wind.info()"
   ]
  },
  {
   "cell_type": "markdown",
   "id": "stopped-drilling",
   "metadata": {},
   "source": [
    "###  Agregando duas tabelas"
   ]
  },
  {
   "cell_type": "code",
   "execution_count": 7,
   "id": "level-prediction",
   "metadata": {
    "ExecuteTime": {
     "end_time": "2021-05-12T15:09:14.404231Z",
     "start_time": "2021-05-12T15:09:14.131874Z"
    }
   },
   "outputs": [],
   "source": [
    "df = pd.merge(left=rain, right=wind, how='left', on=['date', 'location'])"
   ]
  },
  {
   "cell_type": "code",
   "execution_count": null,
   "id": "included-assets",
   "metadata": {
    "ExecuteTime": {
     "end_time": "2021-05-10T19:12:13.878279Z",
     "start_time": "2021-05-10T19:12:13.873258Z"
    }
   },
   "outputs": [],
   "source": [
    "df.shape"
   ]
  },
  {
   "cell_type": "code",
   "execution_count": 66,
   "id": "obvious-vertex",
   "metadata": {
    "ExecuteTime": {
     "end_time": "2021-05-12T18:07:27.893871Z",
     "start_time": "2021-05-12T18:07:27.695893Z"
    }
   },
   "outputs": [
    {
     "name": "stdout",
     "output_type": "stream",
     "text": [
      "<class 'pandas.core.frame.DataFrame'>\n",
      "Int64Index: 164386 entries, 0 to 164385\n",
      "Data columns (total 31 columns):\n",
      " #   Column            Non-Null Count   Dtype         \n",
      "---  ------            --------------   -----         \n",
      " 0   date              164386 non-null  datetime64[ns]\n",
      " 1   location          164386 non-null  object        \n",
      " 2   mintemp           163614 non-null  float64       \n",
      " 3   maxtemp           163989 non-null  float64       \n",
      " 4   rainfall          162767 non-null  float64       \n",
      " 5   evaporation       90128 non-null   float64       \n",
      " 6   sunshine          80607 non-null   float64       \n",
      " 7   humidity9am       162352 non-null  float64       \n",
      " 8   humidity3pm       159262 non-null  float64       \n",
      " 9   pressure9am       148085 non-null  float64       \n",
      " 10  pressure3pm       148113 non-null  float64       \n",
      " 11  cloud9am          100879 non-null  float64       \n",
      " 12  cloud3pm          95716 non-null   float64       \n",
      " 13  temp9am           163410 non-null  float64       \n",
      " 14  temp3pm           160309 non-null  float64       \n",
      " 15  raintoday         164386 non-null  int64         \n",
      " 16  amountOfRain      164386 non-null  float64       \n",
      " 17  raintomorrow      164386 non-null  int64         \n",
      " 18  temp              163989 non-null  float64       \n",
      " 19  humidity          159262 non-null  float64       \n",
      " 20  precipitation3pm  164386 non-null  int64         \n",
      " 21  precipitation9am  164386 non-null  float64       \n",
      " 22  modelo_vigente    164386 non-null  float64       \n",
      " 23  wind_gustdir      153808 non-null  object        \n",
      " 24  wind_gustspeed    153868 non-null  float64       \n",
      " 25  wind_dir9am       152958 non-null  object        \n",
      " 26  wind_dir3pm       159551 non-null  object        \n",
      " 27  wind_speed9am     162933 non-null  float64       \n",
      " 28  wind_speed3pm     160803 non-null  float64       \n",
      " 29  season            164386 non-null  object        \n",
      " 30  state             164386 non-null  object        \n",
      "dtypes: datetime64[ns](1), float64(21), int64(3), object(6)\n",
      "memory usage: 44.2+ MB\n"
     ]
    }
   ],
   "source": [
    "df.info()"
   ]
  },
  {
   "cell_type": "markdown",
   "id": "aware-canvas",
   "metadata": {},
   "source": [
    "##  Tratamento dos dados"
   ]
  },
  {
   "cell_type": "code",
   "execution_count": 8,
   "id": "recreational-klein",
   "metadata": {
    "ExecuteTime": {
     "end_time": "2021-05-12T15:09:18.089900Z",
     "start_time": "2021-05-12T15:09:18.034024Z"
    }
   },
   "outputs": [],
   "source": [
    "# Atenção: aqui, os dados nulos foram preenchidos com 0 (Negação)\n",
    "df['raintoday'] = df['raintoday'].apply(lambda x: 1 if x == 'Yes' else 0)"
   ]
  },
  {
   "cell_type": "code",
   "execution_count": 9,
   "id": "southern-memory",
   "metadata": {
    "ExecuteTime": {
     "end_time": "2021-05-12T15:09:19.478609Z",
     "start_time": "2021-05-12T15:09:19.406769Z"
    }
   },
   "outputs": [],
   "source": [
    "df['raintomorrow'] = df['raintomorrow'].apply(lambda x: 1 if x == 'Yes' else 0)"
   ]
  },
  {
   "cell_type": "code",
   "execution_count": 10,
   "id": "mexican-failing",
   "metadata": {
    "ExecuteTime": {
     "end_time": "2021-05-12T15:09:21.225714Z",
     "start_time": "2021-05-12T15:09:21.081965Z"
    }
   },
   "outputs": [],
   "source": [
    "df['date'] = pd.to_datetime(df['date'])"
   ]
  },
  {
   "cell_type": "markdown",
   "id": "bibliographic-buffalo",
   "metadata": {},
   "source": [
    "### Adicionando coluna de estação do ano\n",
    "\n",
    "Na Austrália:\n",
    "\n",
    "Verão: Dezembro a Fevereiro\n",
    "\n",
    "Outono: Março a Maio\n",
    "\n",
    "Inverno: Junho a Agosto\n",
    "\n",
    "Primavera: Setembro a Novembro"
   ]
  },
  {
   "cell_type": "code",
   "execution_count": 11,
   "id": "valuable-incident",
   "metadata": {
    "ExecuteTime": {
     "end_time": "2021-05-12T15:09:23.605875Z",
     "start_time": "2021-05-12T15:09:23.599891Z"
    },
    "cell_style": "center"
   },
   "outputs": [],
   "source": [
    "def estacao(mes):\n",
    "    ''' Esta funcao recebe um inteiro referente ao mes do ano e retorna \n",
    "        uma string referente a estacao do ano na Australia\n",
    "        \n",
    "        Input:\n",
    "            mes - int mes do ano\n",
    "        Output:\n",
    "            estacao - str estacao do ano\n",
    "    '''\n",
    "    \n",
    "#    print(mes)\n",
    "    \n",
    "    if mes<=2 or mes==12:\n",
    "        return 'summer'\n",
    "    elif mes>=3 and mes<=5:\n",
    "        return 'autumn'\n",
    "    elif mes>=6 and mes<=8:\n",
    "        return 'winter'\n",
    "    elif mes>=9 and mes<=11:\n",
    "        return 'spring'\n",
    "    else:\n",
    "        return None"
   ]
  },
  {
   "cell_type": "code",
   "execution_count": 12,
   "id": "hungry-poison",
   "metadata": {
    "ExecuteTime": {
     "end_time": "2021-05-12T15:09:25.153100Z",
     "start_time": "2021-05-12T15:09:25.074280Z"
    },
    "cell_style": "center"
   },
   "outputs": [],
   "source": [
    "df['season'] = df['date'].dt.month.apply(estacao)"
   ]
  },
  {
   "cell_type": "markdown",
   "id": "better-collector",
   "metadata": {},
   "source": [
    "###  Adicionando coluna de estado\n",
    "\n",
    "Nota: as cidade/localidades relacionadas ao Australian Capital Territory e Norfolk Island foram incluídos no estado\n",
    "de New South Wales, pelas características climáticas parecidas."
   ]
  },
  {
   "cell_type": "code",
   "execution_count": 46,
   "id": "confident-cycling",
   "metadata": {
    "ExecuteTime": {
     "end_time": "2021-05-12T15:28:54.774433Z",
     "start_time": "2021-05-12T15:28:54.763495Z"
    }
   },
   "outputs": [],
   "source": [
    "state = pd.read_csv('data_rain/au_state.csv')"
   ]
  },
  {
   "cell_type": "code",
   "execution_count": 64,
   "id": "deadly-deployment",
   "metadata": {
    "ExecuteTime": {
     "end_time": "2021-05-12T17:08:08.079821Z",
     "start_time": "2021-05-12T17:06:47.527292Z"
    }
   },
   "outputs": [],
   "source": [
    "df['state'] = df['location'].apply(lambda x: state[state['city']==x].admin.values[0])"
   ]
  },
  {
   "cell_type": "markdown",
   "id": "magnetic-privacy",
   "metadata": {},
   "source": [
    "###  Criando pipeline de pré-processamento"
   ]
  },
  {
   "cell_type": "code",
   "execution_count": 67,
   "id": "economic-nothing",
   "metadata": {
    "ExecuteTime": {
     "end_time": "2021-05-12T18:21:13.731557Z",
     "start_time": "2021-05-12T18:21:13.671031Z"
    }
   },
   "outputs": [
    {
     "data": {
      "text/plain": [
       "['mintemp',\n",
       " 'maxtemp',\n",
       " 'rainfall',\n",
       " 'evaporation',\n",
       " 'sunshine',\n",
       " 'humidity9am',\n",
       " 'humidity3pm',\n",
       " 'pressure9am',\n",
       " 'pressure3pm',\n",
       " 'cloud9am',\n",
       " 'cloud3pm',\n",
       " 'raintoday',\n",
       " 'precipitation3pm',\n",
       " 'precipitation9am',\n",
       " 'wind_gustspeed',\n",
       " 'wind_speed9am',\n",
       " 'wind_speed3pm']"
      ]
     },
     "execution_count": 67,
     "metadata": {},
     "output_type": "execute_result"
    }
   ],
   "source": [
    "num_columns = list(df.select_dtypes(exclude='object').columns)\n",
    "\n",
    "remove_col = ['date', 'raintomorrow', 'amountOfRain', 'modelo_vigente', 'temp', 'temp9am', 'temp3pm', 'humidity']\n",
    "\n",
    "num_columns = [col for col in num_columns if col not in remove_col]\n",
    "num_columns"
   ]
  },
  {
   "cell_type": "code",
   "execution_count": 68,
   "id": "conditional-administration",
   "metadata": {
    "ExecuteTime": {
     "end_time": "2021-05-12T18:21:15.395544Z",
     "start_time": "2021-05-12T18:21:15.372604Z"
    }
   },
   "outputs": [
    {
     "data": {
      "text/plain": [
       "['wind_gustdir', 'wind_dir9am', 'wind_dir3pm', 'season', 'state']"
      ]
     },
     "execution_count": 68,
     "metadata": {},
     "output_type": "execute_result"
    }
   ],
   "source": [
    "cat_columns = list(df.select_dtypes('object').columns)\n",
    "cat_columns.remove('location')\n",
    "cat_columns"
   ]
  },
  {
   "cell_type": "code",
   "execution_count": 69,
   "id": "offensive-surfing",
   "metadata": {
    "ExecuteTime": {
     "end_time": "2021-05-12T18:21:17.069291Z",
     "start_time": "2021-05-12T18:21:17.051341Z"
    }
   },
   "outputs": [],
   "source": [
    "from sklearn.preprocessing import OrdinalEncoder, OneHotEncoder\n",
    "\n",
    "ordinalencoder = OrdinalEncoder()\n",
    "onehotencoder = OneHotEncoder(drop='first',  handle_unknown='error')\n",
    "cat_imputer = SimpleImputer(strategy='most_frequent')\n",
    "\n",
    "#labelencoder = LabelEncoder()\n",
    "#encoder.fit(df['wind_gustdir'])\n",
    "\n",
    "#df['wind_gustdir'] = encoder.transform(df['wind_gustdir'])\n",
    "#df['wind_dir9am'] = encoder.transform(df['wind_dir9am'])\n",
    "#df['wind_dir3pm'] = encoder.transform(df['wind_dir3pm'])"
   ]
  },
  {
   "cell_type": "code",
   "execution_count": 70,
   "id": "continental-kitty",
   "metadata": {
    "ExecuteTime": {
     "end_time": "2021-05-12T18:21:18.353358Z",
     "start_time": "2021-05-12T18:21:18.348371Z"
    }
   },
   "outputs": [],
   "source": [
    "categorical_pipeline = Pipeline(steps=[('missing', cat_imputer),\n",
    "                                       ('encode', ordinalencoder)])"
   ]
  },
  {
   "cell_type": "code",
   "execution_count": 71,
   "id": "proprietary-durham",
   "metadata": {
    "ExecuteTime": {
     "end_time": "2021-05-12T18:21:19.632200Z",
     "start_time": "2021-05-12T18:21:19.628114Z"
    }
   },
   "outputs": [],
   "source": [
    "from sklearn.preprocessing import StandardScaler\n",
    "\n",
    "numerical_imputer = SimpleImputer()\n",
    "scaler = StandardScaler()"
   ]
  },
  {
   "cell_type": "code",
   "execution_count": 72,
   "id": "undefined-density",
   "metadata": {
    "ExecuteTime": {
     "end_time": "2021-05-12T18:21:20.813868Z",
     "start_time": "2021-05-12T18:21:20.808882Z"
    }
   },
   "outputs": [],
   "source": [
    "numerical_pipeline = Pipeline(steps=[('missing', numerical_imputer),\n",
    "                                     ('standardize', scaler)])"
   ]
  },
  {
   "cell_type": "code",
   "execution_count": 73,
   "id": "japanese-listing",
   "metadata": {
    "ExecuteTime": {
     "end_time": "2021-05-12T18:21:22.054088Z",
     "start_time": "2021-05-12T18:21:22.048105Z"
    }
   },
   "outputs": [],
   "source": [
    "from sklearn.compose import ColumnTransformer\n",
    "\n",
    "dataprep = ColumnTransformer(transformers=[('numerical_transform', numerical_pipeline, num_columns),\n",
    "                                           ('categ_transform', categorical_pipeline, cat_columns)])"
   ]
  },
  {
   "cell_type": "markdown",
   "id": "stopped-symposium",
   "metadata": {
    "heading_collapsed": true
   },
   "source": [
    "##  Análise de correlação de colunas"
   ]
  },
  {
   "cell_type": "code",
   "execution_count": null,
   "id": "different-enhancement",
   "metadata": {
    "ExecuteTime": {
     "end_time": "2021-05-10T19:12:16.377983Z",
     "start_time": "2021-05-10T19:12:16.191085Z"
    },
    "hidden": true
   },
   "outputs": [],
   "source": [
    "# Analisando as colunas de temperatura, não há necessidade de se utilizar todas as colunas, pois, por exemplo,\n",
    "# observa-se uma grande correlação entre 'mintemp' e 'temp9am' e entre 'maxtemp' e 'temp3pm'. Logo, pode-se utilizar\n",
    "# apenas uma de cada. No caso de 'temp', os valore da coluna estão fora do intervalo entre 'mintemp' e 'maxtemp'.\n",
    "# Por isso, essa coluna não será utilizada.\n",
    "\n",
    "df[['mintemp', 'maxtemp', 'temp', 'temp9am', 'temp3pm']]"
   ]
  },
  {
   "cell_type": "code",
   "execution_count": null,
   "id": "median-canvas",
   "metadata": {
    "ExecuteTime": {
     "end_time": "2021-05-10T19:12:16.717355Z",
     "start_time": "2021-05-10T19:12:16.379946Z"
    },
    "hidden": true
   },
   "outputs": [],
   "source": [
    "df[['mintemp', 'maxtemp', 'temp', 'temp9am', 'temp3pm', 'raintomorrow']].corr()"
   ]
  },
  {
   "cell_type": "code",
   "execution_count": null,
   "id": "japanese-pizza",
   "metadata": {
    "ExecuteTime": {
     "end_time": "2021-05-10T19:12:16.836635Z",
     "start_time": "2021-05-10T19:12:16.719350Z"
    },
    "hidden": true
   },
   "outputs": [],
   "source": [
    "# Analogamente à análise de temperatura, observa-se que as colunas de 'humidity' e 'humidity3pm' têm alta\n",
    "# correlação. Portanto, apenas uma delas será utilizada.\n",
    "\n",
    "df[['humidity9am', 'humidity3pm', 'humidity']].corr()"
   ]
  },
  {
   "cell_type": "code",
   "execution_count": null,
   "id": "brief-cancer",
   "metadata": {
    "ExecuteTime": {
     "end_time": "2021-05-10T19:12:21.187031Z",
     "start_time": "2021-05-10T19:12:16.838595Z"
    },
    "hidden": true
   },
   "outputs": [],
   "source": [
    "sns.distplot(df['humidity'], color='blue')\n",
    "sns.distplot(df['humidity9am'], color='red')\n",
    "sns.distplot(df['humidity3pm'], color='orange');"
   ]
  },
  {
   "cell_type": "markdown",
   "id": "adverse-pacific",
   "metadata": {
    "heading_collapsed": true
   },
   "source": [
    "##  Outras análises"
   ]
  },
  {
   "cell_type": "markdown",
   "id": "absolute-calendar",
   "metadata": {
    "heading_collapsed": true,
    "hidden": true
   },
   "source": [
    "###  Coluna 'amountOfRain'\n",
    "\n",
    "Na realidade, a coluna 'amountOfRain' representa um vazamento de dados"
   ]
  },
  {
   "cell_type": "code",
   "execution_count": null,
   "id": "inclusive-aruba",
   "metadata": {
    "ExecuteTime": {
     "end_time": "2021-05-10T19:12:21.457603Z",
     "start_time": "2021-05-10T19:12:21.220941Z"
    },
    "hidden": true
   },
   "outputs": [],
   "source": [
    "df[['amountOfRain', 'raintomorrow']].groupby('raintomorrow').agg(['min', 'max'])"
   ]
  },
  {
   "cell_type": "code",
   "execution_count": null,
   "id": "controlling-costs",
   "metadata": {
    "ExecuteTime": {
     "end_time": "2021-05-10T19:12:21.506472Z",
     "start_time": "2021-05-10T19:12:21.471566Z"
    },
    "hidden": true
   },
   "outputs": [],
   "source": [
    "df[['amountOfRain', 'raintoday']].groupby('raintoday').agg(['min', 'max'])"
   ]
  },
  {
   "cell_type": "code",
   "execution_count": null,
   "id": "defined-lambda",
   "metadata": {
    "ExecuteTime": {
     "end_time": "2021-05-10T19:12:21.591307Z",
     "start_time": "2021-05-10T19:12:21.514461Z"
    },
    "hidden": true
   },
   "outputs": [],
   "source": [
    "df[['rainfall', 'raintoday']].groupby('raintoday').agg(['min', 'max'])"
   ]
  },
  {
   "cell_type": "markdown",
   "id": "portuguese-testing",
   "metadata": {
    "heading_collapsed": true,
    "hidden": true
   },
   "source": [
    "###  Coluna 'humidity3pm'\n",
    "\n",
    "Aqui concluimos que a coluna 'humidity3pm' tem alta correlação com a coluna 'raintomorrow', a coluna target."
   ]
  },
  {
   "cell_type": "code",
   "execution_count": null,
   "id": "challenging-alpha",
   "metadata": {
    "ExecuteTime": {
     "end_time": "2021-05-10T19:12:21.921687Z",
     "start_time": "2021-05-10T19:12:21.600284Z"
    },
    "hidden": true
   },
   "outputs": [],
   "source": [
    "sns.boxplot(x=df['raintomorrow'], y=df['humidity3pm'])"
   ]
  },
  {
   "cell_type": "markdown",
   "id": "beneficial-edmonton",
   "metadata": {
    "heading_collapsed": true,
    "hidden": true
   },
   "source": [
    "###  Colunas de wind_speed\n",
    "\n",
    "Aqui investigamos se as colunas têm alta correlação"
   ]
  },
  {
   "cell_type": "code",
   "execution_count": null,
   "id": "signal-turtle",
   "metadata": {
    "ExecuteTime": {
     "end_time": "2021-05-10T19:12:26.748494Z",
     "start_time": "2021-05-10T19:12:21.925653Z"
    },
    "hidden": true
   },
   "outputs": [],
   "source": [
    "sns.distplot(df['wind_gustspeed'], color='blue')\n",
    "sns.distplot(df['wind_speed9am'], color='red')\n",
    "sns.distplot(df['wind_speed3pm'], color='orange')"
   ]
  },
  {
   "cell_type": "markdown",
   "id": "unauthorized-capitol",
   "metadata": {
    "heading_collapsed": true,
    "hidden": true
   },
   "source": [
    "###  Analisando coluna 'location'"
   ]
  },
  {
   "cell_type": "code",
   "execution_count": 20,
   "id": "eight-desperate",
   "metadata": {
    "ExecuteTime": {
     "end_time": "2021-05-12T15:09:43.019145Z",
     "start_time": "2021-05-12T15:09:42.798632Z"
    },
    "cell_style": "split",
    "hidden": true
   },
   "outputs": [
    {
     "data": {
      "text/plain": [
       "location\n",
       "Adelaide             795\n",
       "Albany              1053\n",
       "Albury               715\n",
       "AliceSprings         284\n",
       "BadgerysCreek        664\n",
       "Ballarat             911\n",
       "Bendigo              661\n",
       "Brisbane             794\n",
       "Cairns              1092\n",
       "Canberra             719\n",
       "Cobar                457\n",
       "CoffsHarbour         994\n",
       "Dartmoor            1075\n",
       "Darwin               982\n",
       "GoldCoast            871\n",
       "Hobart               876\n",
       "Katherine            347\n",
       "Launceston           812\n",
       "Melbourne            749\n",
       "MelbourneAirport     767\n",
       "Mildura              380\n",
       "Moree                462\n",
       "MountGambier        1077\n",
       "MountGinini          954\n",
       "Newcastle            838\n",
       "Nhil                 325\n",
       "NorahHead            934\n",
       "NorfolkIsland       1060\n",
       "Nuriootpa            705\n",
       "PearceRAAF           603\n",
       "Penrith              671\n",
       "Perth                758\n",
       "PerthAirport         664\n",
       "Portland            1275\n",
       "Richmond             646\n",
       "Sale                 728\n",
       "SalmonGums           550\n",
       "Sydney               986\n",
       "SydneyAirport        887\n",
       "Townsville           588\n",
       "Tuggeranong          665\n",
       "Uluru                163\n",
       "WaggaWagga           630\n",
       "Walpole             1126\n",
       "Watsonia             853\n",
       "Williamtown          818\n",
       "Witchcliffe         1034\n",
       "Wollongong           812\n",
       "Woomera              238\n",
       "Name: raintomorrow, dtype: int64"
      ]
     },
     "execution_count": 20,
     "metadata": {},
     "output_type": "execute_result"
    }
   ],
   "source": [
    "df['raintomorrow'].groupby(df['location']).sum()"
   ]
  },
  {
   "cell_type": "code",
   "execution_count": 21,
   "id": "collective-elder",
   "metadata": {
    "ExecuteTime": {
     "end_time": "2021-05-12T15:09:44.337643Z",
     "start_time": "2021-05-12T15:09:44.302704Z"
    },
    "cell_style": "split",
    "hidden": true
   },
   "outputs": [
    {
     "data": {
      "text/plain": [
       "location\n",
       "Adelaide            3549\n",
       "Albany              3463\n",
       "Albury              3467\n",
       "AliceSprings        3484\n",
       "BadgerysCreek       3371\n",
       "Ballarat            3489\n",
       "Bendigo             3491\n",
       "Brisbane            3618\n",
       "Cairns              3402\n",
       "Canberra            3877\n",
       "Cobar               3437\n",
       "CoffsHarbour        3414\n",
       "Dartmoor            3404\n",
       "Darwin              3653\n",
       "GoldCoast           3423\n",
       "Hobart              3650\n",
       "Katherine           2010\n",
       "Launceston          3486\n",
       "Melbourne           2857\n",
       "MelbourneAirport    3470\n",
       "Mildura             3468\n",
       "Moree               3315\n",
       "MountGambier        3482\n",
       "MountGinini         3367\n",
       "Newcastle           3402\n",
       "Nhil                2031\n",
       "NorahHead           3390\n",
       "NorfolkIsland       3382\n",
       "Nuriootpa           3461\n",
       "PearceRAAF          3216\n",
       "Penrith             3414\n",
       "Perth               3655\n",
       "PerthAirport        3471\n",
       "Portland            3456\n",
       "Richmond            3411\n",
       "Sale                3457\n",
       "SalmonGums          3414\n",
       "Sydney              3798\n",
       "SydneyAirport       3463\n",
       "Townsville          3489\n",
       "Tuggeranong         3455\n",
       "Uluru               1979\n",
       "WaggaWagga          3404\n",
       "Walpole             3266\n",
       "Watsonia            3455\n",
       "Williamtown         2986\n",
       "Witchcliffe         3408\n",
       "Wollongong          3434\n",
       "Woomera             3442\n",
       "Name: raintomorrow, dtype: int64"
      ]
     },
     "execution_count": 21,
     "metadata": {},
     "output_type": "execute_result"
    }
   ],
   "source": [
    "df['raintomorrow'].groupby(df['location']).count()"
   ]
  },
  {
   "cell_type": "markdown",
   "id": "bored-tsunami",
   "metadata": {
    "heading_collapsed": true,
    "hidden": true
   },
   "source": [
    "###  Analisando coluna 'modelo_vigente'\n",
    "\n",
    "O modelo baseline que será utilizado é o utilizado na coluna 'modelo_vigente'"
   ]
  },
  {
   "cell_type": "code",
   "execution_count": null,
   "id": "thermal-construction",
   "metadata": {
    "ExecuteTime": {
     "end_time": "2021-05-11T20:16:15.490202Z",
     "start_time": "2021-05-11T20:16:15.063963Z"
    },
    "hidden": true
   },
   "outputs": [],
   "source": [
    "plt.scatter(df.index, df['modelo_vigente'].sort_values())"
   ]
  },
  {
   "cell_type": "code",
   "execution_count": null,
   "id": "hundred-nomination",
   "metadata": {
    "ExecuteTime": {
     "end_time": "2021-05-11T20:19:00.757390Z",
     "start_time": "2021-05-11T20:19:00.286584Z"
    },
    "hidden": true
   },
   "outputs": [],
   "source": [
    "y_vig = [1 if i>0.5 else 0 for i in df['modelo_vigente']]\n",
    "print(precision_score(y_vig, y))\n",
    "print(recall_score(y_vig, y))\n",
    "print(f1_score(y_vig, y))\n",
    "print(roc_auc_score(y, df['modelo_vigente']))"
   ]
  },
  {
   "cell_type": "markdown",
   "id": "secure-african",
   "metadata": {},
   "source": [
    "##  Separando treino e teste"
   ]
  },
  {
   "cell_type": "code",
   "execution_count": 74,
   "id": "southeast-miniature",
   "metadata": {
    "ExecuteTime": {
     "end_time": "2021-05-12T18:21:24.177115Z",
     "start_time": "2021-05-12T18:21:24.145152Z"
    }
   },
   "outputs": [],
   "source": [
    "X = df.drop('raintomorrow', axis=1)\n",
    "y = df['raintomorrow']"
   ]
  },
  {
   "cell_type": "code",
   "execution_count": 75,
   "id": "impressed-chrome",
   "metadata": {
    "ExecuteTime": {
     "end_time": "2021-05-12T18:21:26.238317Z",
     "start_time": "2021-05-12T18:21:25.991813Z"
    }
   },
   "outputs": [],
   "source": [
    "X_train, X_test, y_train, y_test = train_test_split(X, y, test_size=0.4, random_state=35, stratify=y)"
   ]
  },
  {
   "cell_type": "code",
   "execution_count": null,
   "id": "treated-front",
   "metadata": {
    "ExecuteTime": {
     "end_time": "2021-05-11T22:17:42.783877Z",
     "start_time": "2021-05-11T22:17:42.726491Z"
    }
   },
   "outputs": [],
   "source": [
    "df.isnull().sum()"
   ]
  },
  {
   "cell_type": "code",
   "execution_count": null,
   "id": "absent-orange",
   "metadata": {
    "ExecuteTime": {
     "end_time": "2021-05-11T21:53:04.408456Z",
     "start_time": "2021-05-11T21:53:04.389422Z"
    }
   },
   "outputs": [],
   "source": [
    "X2 = df[['mintemp', 'maxtemp', 'rainfall', 'humidity9am', 'humidity3pm', 'pressure9am',\n",
    "       'pressure3pm', 'precipitation3pm', 'wind_gustspeed', 'wind_speed9am', 'wind_speed3pm']]"
   ]
  },
  {
   "cell_type": "code",
   "execution_count": null,
   "id": "possible-interaction",
   "metadata": {
    "ExecuteTime": {
     "end_time": "2021-05-10T19:12:27.784698Z",
     "start_time": "2021-05-10T19:12:27.494520Z"
    }
   },
   "outputs": [],
   "source": [
    "X2_train, X2_test, y2_train, y2_test = train_test_split(X2, y, test_size=0.2, random_state=35, stratify=y)"
   ]
  },
  {
   "cell_type": "markdown",
   "id": "alternative-slovakia",
   "metadata": {},
   "source": [
    "##  Escolha do modelo"
   ]
  },
  {
   "cell_type": "code",
   "execution_count": 76,
   "id": "adverse-tenant",
   "metadata": {
    "ExecuteTime": {
     "end_time": "2021-05-12T18:21:33.283753Z",
     "start_time": "2021-05-12T18:21:32.634717Z"
    }
   },
   "outputs": [],
   "source": [
    "from lightgbm import LGBMClassifier, plot_importance\n",
    "\n",
    "model_lgbm = LGBMClassifier(max_depth=4, n_estimators=70, colsample_bytree=.7, n_jobs=-1)\n",
    "lgbm = LGBMClassifier()"
   ]
  },
  {
   "cell_type": "code",
   "execution_count": null,
   "id": "based-baseball",
   "metadata": {
    "ExecuteTime": {
     "end_time": "2021-05-12T00:44:34.226880Z",
     "start_time": "2021-05-12T00:44:34.220864Z"
    }
   },
   "outputs": [],
   "source": [
    "from sklearn.linear_model import LogisticRegression\n",
    "\n",
    "model_log = LogisticRegression(max_iter=300)"
   ]
  },
  {
   "cell_type": "code",
   "execution_count": null,
   "id": "associate-justice",
   "metadata": {
    "ExecuteTime": {
     "end_time": "2021-05-11T15:12:18.820987Z",
     "start_time": "2021-05-11T15:12:18.815005Z"
    }
   },
   "outputs": [],
   "source": [
    "from sklearn.ensemble import BaggingClassifier\n",
    "from sklearn.tree import DecisionTreeClassifier\n",
    "\n",
    "bagging = BaggingClassifier(\n",
    "            base_estimator=DecisionTreeClassifier(max_depth=3), \n",
    "            n_estimators=100)\n",
    "\n",
    "model_tree = DecisionTreeClassifier(max_depth=5)"
   ]
  },
  {
   "cell_type": "code",
   "execution_count": null,
   "id": "specialized-audit",
   "metadata": {
    "ExecuteTime": {
     "end_time": "2021-05-11T15:14:41.975071Z",
     "start_time": "2021-05-11T15:14:41.971083Z"
    }
   },
   "outputs": [],
   "source": [
    "from sklearn.ensemble import RandomForestClassifier\n",
    "\n",
    "forest = RandomForestClassifier(max_depth=5, n_estimators=70, n_jobs=-1)"
   ]
  },
  {
   "cell_type": "code",
   "execution_count": null,
   "id": "considerable-laundry",
   "metadata": {
    "ExecuteTime": {
     "end_time": "2021-05-11T15:21:24.672079Z",
     "start_time": "2021-05-11T15:21:24.667081Z"
    }
   },
   "outputs": [],
   "source": [
    "from sklearn.neighbors import KNeighborsClassifier\n",
    "\n",
    "knn = KNeighborsClassifier(n_neighbors=20)"
   ]
  },
  {
   "cell_type": "code",
   "execution_count": 77,
   "id": "loved-injection",
   "metadata": {
    "ExecuteTime": {
     "end_time": "2021-05-12T18:21:38.248161Z",
     "start_time": "2021-05-12T18:21:37.246918Z"
    }
   },
   "outputs": [],
   "source": [
    "pipeline = Pipeline(steps=[('preprocessing', dataprep),\n",
    "                           ('modelling', model_lgbm)\n",
    "                          ])\n",
    "\n",
    "pipeline.fit(X_train, y_train);"
   ]
  },
  {
   "cell_type": "code",
   "execution_count": null,
   "id": "heated-associate",
   "metadata": {
    "ExecuteTime": {
     "end_time": "2021-05-12T00:44:41.617120Z",
     "start_time": "2021-05-12T00:44:39.889003Z"
    }
   },
   "outputs": [],
   "source": [
    "pipeline2 = Pipeline(steps=[('preprocessing', dataprep),\n",
    "                           ('modelling', model_log)\n",
    "                          ])\n",
    "\n",
    "pipeline2.fit(X_train, y_train);"
   ]
  },
  {
   "cell_type": "code",
   "execution_count": null,
   "id": "sustainable-overall",
   "metadata": {
    "ExecuteTime": {
     "end_time": "2021-05-12T00:44:43.460113Z",
     "start_time": "2021-05-12T00:44:42.736947Z"
    }
   },
   "outputs": [],
   "source": [
    "fig, ax = plt.subplots()\n",
    "\n",
    "plot_roc_curve(pipeline, X_test, y_test, ax=ax, name='LGBM')\n",
    "plot_roc_curve(pipeline2, X_test, y_test, ax=ax, name='Other')"
   ]
  },
  {
   "cell_type": "code",
   "execution_count": 84,
   "id": "weird-weapon",
   "metadata": {
    "ExecuteTime": {
     "end_time": "2021-05-12T18:56:24.963534Z",
     "start_time": "2021-05-12T18:56:24.300237Z"
    }
   },
   "outputs": [
    {
     "name": "stdout",
     "output_type": "stream",
     "text": [
      "0.8810015155398283\n",
      "0.8764192385882259\n"
     ]
    }
   ],
   "source": [
    "print(roc_auc_score(y_train, pipeline.predict_proba(X_train)[:,1]))\n",
    "print(roc_auc_score(y_test, pipeline.predict_proba(X_test)[:,1]))"
   ]
  },
  {
   "cell_type": "code",
   "execution_count": null,
   "id": "funky-beauty",
   "metadata": {
    "ExecuteTime": {
     "end_time": "2021-05-12T00:45:01.147185Z",
     "start_time": "2021-05-12T00:44:55.382333Z"
    }
   },
   "outputs": [],
   "source": [
    "cross_val_score(pipeline2, X_train, y_train, cv=KFold(n_splits=5), scoring='precision')"
   ]
  },
  {
   "cell_type": "code",
   "execution_count": 85,
   "id": "apart-elephant",
   "metadata": {
    "ExecuteTime": {
     "end_time": "2021-05-12T18:56:36.502514Z",
     "start_time": "2021-05-12T18:56:30.928963Z"
    }
   },
   "outputs": [
    {
     "data": {
      "text/plain": [
       "array([0.75282438, 0.76016124, 0.74948735, 0.74916388, 0.75502681])"
      ]
     },
     "execution_count": 85,
     "metadata": {},
     "output_type": "execute_result"
    }
   ],
   "source": [
    "cross_val_score(pipeline, X_train, y_train, cv=KFold(n_splits=5), scoring='precision')"
   ]
  },
  {
   "cell_type": "code",
   "execution_count": 87,
   "id": "nutritional-catalyst",
   "metadata": {
    "ExecuteTime": {
     "end_time": "2021-05-12T19:01:38.850545Z",
     "start_time": "2021-05-12T19:01:10.562953Z"
    }
   },
   "outputs": [
    {
     "data": {
      "text/plain": [
       "<matplotlib.legend.Legend at 0x1e2bb00ccd0>"
      ]
     },
     "execution_count": 87,
     "metadata": {},
     "output_type": "execute_result"
    },
    {
     "data": {
      "image/png": "[encoded data removed]",
      "text/plain": [
       "<Figure size 432x288 with 1 Axes>"
      ]
     },
     "metadata": {
      "needs_background": "light"
     },
     "output_type": "display_data"
    }
   ],
   "source": [
    "curves = learning_curve(pipeline, X_train, y_train, scoring='roc_auc')\n",
    "\n",
    "train_sizes = curves[0]\n",
    "train_scores = curves[1]\n",
    "test_scores = curves[2]\n",
    "plt.plot(train_sizes, train_scores.mean(axis=1), '-o', label='Training AUC')\n",
    "plt.plot(train_sizes, test_scores.mean(axis=1), '-o', label='Validation AUC')\n",
    "plt.grid()\n",
    "plt.ylim([0.5, 1])\n",
    "plt.legend()"
   ]
  },
  {
   "cell_type": "markdown",
   "id": "satellite-gross",
   "metadata": {},
   "source": [
    "##  Escolhendo colunas"
   ]
  },
  {
   "cell_type": "code",
   "execution_count": 78,
   "id": "alien-drill",
   "metadata": {
    "ExecuteTime": {
     "end_time": "2021-05-12T18:21:45.169848Z",
     "start_time": "2021-05-12T18:21:44.808579Z"
    }
   },
   "outputs": [],
   "source": [
    "from mlxtend.feature_selection import SequentialFeatureSelector as SFS\n",
    "from mlxtend.plotting import plot_sequential_feature_selection as plot_sfs"
   ]
  },
  {
   "cell_type": "code",
   "execution_count": 96,
   "id": "transparent-korea",
   "metadata": {
    "ExecuteTime": {
     "end_time": "2021-05-12T19:20:20.880388Z",
     "start_time": "2021-05-12T19:20:20.874372Z"
    }
   },
   "outputs": [
    {
     "name": "stdout",
     "output_type": "stream",
     "text": [
      "17\n",
      "5\n"
     ]
    }
   ],
   "source": [
    "print(len(num_columns))\n",
    "print(len(cat_columns))"
   ]
  },
  {
   "cell_type": "code",
   "execution_count": 79,
   "id": "racial-basic",
   "metadata": {
    "ExecuteTime": {
     "end_time": "2021-05-12T18:32:20.986042Z",
     "start_time": "2021-05-12T18:21:47.405357Z"
    }
   },
   "outputs": [
    {
     "data": {
      "image/png": "[encoded data removed]",
      "text/plain": [
       "<Figure size 432x288 with 1 Axes>"
      ]
     },
     "metadata": {
      "needs_background": "light"
     },
     "output_type": "display_data"
    }
   ],
   "source": [
    "selector_f = SFS(pipeline.named_steps['modelling'], k_features=20, scoring='roc_auc')\n",
    "selector_f.fit(pipeline.named_steps['preprocessing'].fit_transform(X_train), y_train)\n",
    "\n",
    "fig = plot_sfs(selector_f.get_metric_dict(), kind='std_err')\n",
    "plt.title('Forward Stepwise Selection')\n",
    "plt.grid()\n",
    "plt.show()"
   ]
  },
  {
   "cell_type": "code",
   "execution_count": 80,
   "id": "double-hearing",
   "metadata": {
    "ExecuteTime": {
     "end_time": "2021-05-12T18:35:31.743829Z",
     "start_time": "2021-05-12T18:35:31.733856Z"
    }
   },
   "outputs": [
    {
     "data": {
      "text/plain": [
       "0.8742905430837276"
      ]
     },
     "execution_count": 80,
     "metadata": {},
     "output_type": "execute_result"
    }
   ],
   "source": [
    "selector_f.get_metric_dict()[10]['avg_score']"
   ]
  },
  {
   "cell_type": "code",
   "execution_count": 81,
   "id": "soviet-productivity",
   "metadata": {
    "ExecuteTime": {
     "end_time": "2021-05-12T18:48:51.175061Z",
     "start_time": "2021-05-12T18:35:34.032958Z"
    }
   },
   "outputs": [
    {
     "data": {
      "image/png": "[encoded data removed]",
      "text/plain": [
       "<Figure size 432x288 with 1 Axes>"
      ]
     },
     "metadata": {
      "needs_background": "light"
     },
     "output_type": "display_data"
    }
   ],
   "source": [
    "selector = SFS(pipeline.named_steps['modelling'], forward=False, k_features=4, scoring='roc_auc')\n",
    "selector.fit(pipeline.named_steps['preprocessing'].fit_transform(X_train), y_train)\n",
    "\n",
    "fig = plot_sfs(selector.get_metric_dict(), kind='std_err')\n",
    "plt.title('Backward Stepwise Selection')\n",
    "plt.grid()\n",
    "plt.show()"
   ]
  },
  {
   "cell_type": "code",
   "execution_count": 82,
   "id": "valuable-senate",
   "metadata": {
    "ExecuteTime": {
     "end_time": "2021-05-12T18:51:20.749988Z",
     "start_time": "2021-05-12T18:51:20.742002Z"
    }
   },
   "outputs": [
    {
     "data": {
      "text/plain": [
       "0.8756926701994028"
      ]
     },
     "execution_count": 82,
     "metadata": {},
     "output_type": "execute_result"
    }
   ],
   "source": [
    "selector.get_metric_dict()[12]['avg_score']"
   ]
  },
  {
   "cell_type": "code",
   "execution_count": 83,
   "id": "rolled-topic",
   "metadata": {
    "ExecuteTime": {
     "end_time": "2021-05-12T18:53:38.353915Z",
     "start_time": "2021-05-12T18:53:38.342222Z"
    }
   },
   "outputs": [
    {
     "name": "stdout",
     "output_type": "stream",
     "text": [
      "['maxtemp', 'rainfall', 'sunshine', 'humidity9am', 'humidity3pm', 'pressure3pm', 'cloud3pm', 'wind_gustspeed', 'wind_speed3pm', 'wind_dir9am', 'wind_dir3pm', 'state']\n",
      "['maxtemp', 'rainfall', 'sunshine', 'humidity3pm', 'pressure9am', 'pressure3pm', 'cloud3pm', 'wind_gustspeed', 'wind_speed3pm', 'wind_dir9am', 'wind_dir3pm', 'state']\n"
     ]
    }
   ],
   "source": [
    "print([(num_columns + cat_columns)[i] for i in selector.get_metric_dict()[12]['feature_idx']])\n",
    "print([(num_columns + cat_columns)[i] for i in selector_f.get_metric_dict()[12]['feature_idx']])"
   ]
  },
  {
   "cell_type": "code",
   "execution_count": 95,
   "id": "looking-entry",
   "metadata": {
    "ExecuteTime": {
     "end_time": "2021-05-12T19:20:11.587228Z",
     "start_time": "2021-05-12T19:20:11.578248Z"
    }
   },
   "outputs": [
    {
     "data": {
      "text/plain": [
       "['wind_gustdir', 'wind_dir9am', 'wind_dir3pm', 'season', 'state']"
      ]
     },
     "execution_count": 95,
     "metadata": {},
     "output_type": "execute_result"
    }
   ],
   "source": [
    "cat_columns"
   ]
  },
  {
   "cell_type": "code",
   "execution_count": 97,
   "id": "declared-breakfast",
   "metadata": {
    "ExecuteTime": {
     "end_time": "2021-05-12T19:21:12.144475Z",
     "start_time": "2021-05-12T19:21:12.130515Z"
    }
   },
   "outputs": [],
   "source": [
    "num_sazo_col = [(num_columns + cat_columns)[i] for i in selector_f.get_metric_dict()[12]['feature_idx'] if i < 17]\n",
    "num_sazo_col.remove('sunshine')\n",
    "num_sazo_col.remove('cloud3pm')\n",
    "cat_sazo_col = [(num_columns + cat_columns)[i] for i in selector_f.get_metric_dict()[12]['feature_idx'] if i >= 17 and i<21]\n",
    "\n",
    "loc_pipeline = Pipeline(steps=[('missing', cat_imputer),\n",
    "                                 ('encode', onehotencoder)])\n",
    "\n",
    "dataprep_sazo = ColumnTransformer(transformers=[('numerical_transform', numerical_pipeline, num_sazo_col),\n",
    "                                                ('categ_transform', categorical_pipeline, cat_sazo_col),\n",
    "                                                ('loc_transform', loc_pipeline, ['state'])])"
   ]
  },
  {
   "cell_type": "code",
   "execution_count": 98,
   "id": "worth-davis",
   "metadata": {
    "ExecuteTime": {
     "end_time": "2021-05-12T19:21:20.244607Z",
     "start_time": "2021-05-12T19:21:19.720363Z"
    }
   },
   "outputs": [],
   "source": [
    "pipeline_sazo = Pipeline(steps=[('preprocessing', dataprep_sazo),\n",
    "                                ('modelling', model_lgbm)\n",
    "                               ])\n",
    "pipeline_sazo.fit(X_train, y_train);"
   ]
  },
  {
   "cell_type": "code",
   "execution_count": 99,
   "id": "invalid-dance",
   "metadata": {
    "ExecuteTime": {
     "end_time": "2021-05-12T19:21:25.612622Z",
     "start_time": "2021-05-12T19:21:22.748926Z"
    }
   },
   "outputs": [
    {
     "data": {
      "text/plain": [
       "array([0.86817281, 0.86651543, 0.86720509, 0.8632345 , 0.86800917])"
      ]
     },
     "execution_count": 99,
     "metadata": {},
     "output_type": "execute_result"
    }
   ],
   "source": [
    "cross_val_score(pipeline_sazo, X_train, y_train, cv=KFold(n_splits=5), scoring='roc_auc')"
   ]
  },
  {
   "cell_type": "code",
   "execution_count": 100,
   "id": "opening-semester",
   "metadata": {
    "ExecuteTime": {
     "end_time": "2021-05-12T19:23:29.354772Z",
     "start_time": "2021-05-12T19:23:26.622973Z"
    }
   },
   "outputs": [
    {
     "data": {
      "text/plain": [
       "array([0.7407668 , 0.75378267, 0.7453966 , 0.73941037, 0.74601525])"
      ]
     },
     "execution_count": 100,
     "metadata": {},
     "output_type": "execute_result"
    }
   ],
   "source": [
    "cross_val_score(pipeline_sazo, X_train, y_train, cv=KFold(n_splits=5), scoring='precision')"
   ]
  },
  {
   "cell_type": "code",
   "execution_count": null,
   "id": "working-mouth",
   "metadata": {
    "ExecuteTime": {
     "end_time": "2021-05-11T22:56:22.272805Z",
     "start_time": "2021-05-11T22:56:21.834735Z"
    }
   },
   "outputs": [],
   "source": [
    "pipeline_sazo.named_steps['preprocessing'].fit_transform(X_train)"
   ]
  },
  {
   "cell_type": "code",
   "execution_count": null,
   "id": "indie-helping",
   "metadata": {
    "ExecuteTime": {
     "end_time": "2021-05-11T22:58:12.935061Z",
     "start_time": "2021-05-11T22:58:12.921977Z"
    }
   },
   "outputs": [],
   "source": [
    "X_train.shape"
   ]
  },
  {
   "cell_type": "code",
   "execution_count": null,
   "id": "sustainable-roads",
   "metadata": {
    "ExecuteTime": {
     "end_time": "2021-05-11T22:59:00.310041Z",
     "start_time": "2021-05-11T22:59:00.295130Z"
    }
   },
   "outputs": [],
   "source": [
    "X_test.shape"
   ]
  },
  {
   "cell_type": "code",
   "execution_count": 120,
   "id": "consolidated-crossing",
   "metadata": {
    "ExecuteTime": {
     "end_time": "2021-05-12T19:28:37.073236Z",
     "start_time": "2021-05-12T19:28:36.635104Z"
    }
   },
   "outputs": [
    {
     "ename": "ValueError",
     "evalue": "Number of features of the model must match the input. Model n_features_ is 16 and input n_features is 22 ",
     "output_type": "error",
     "traceback": [
      "\u001b[1;31m---------------------------------------------------------------------------\u001b[0m",
      "\u001b[1;31mValueError\u001b[0m                                Traceback (most recent call last)",
      "\u001b[1;32m<ipython-input-120-4ed259b56f17>\u001b[0m in \u001b[0;36m<module>\u001b[1;34m\u001b[0m\n\u001b[0;32m      3\u001b[0m \u001b[0mfig\u001b[0m\u001b[1;33m,\u001b[0m \u001b[0max\u001b[0m \u001b[1;33m=\u001b[0m \u001b[0mplt\u001b[0m\u001b[1;33m.\u001b[0m\u001b[0msubplots\u001b[0m\u001b[1;33m(\u001b[0m\u001b[1;36m1\u001b[0m\u001b[1;33m,\u001b[0m\u001b[1;36m1\u001b[0m\u001b[1;33m,\u001b[0m \u001b[0mfigsize\u001b[0m\u001b[1;33m=\u001b[0m\u001b[1;33m(\u001b[0m\u001b[1;36m15\u001b[0m\u001b[1;33m,\u001b[0m\u001b[1;36m8\u001b[0m\u001b[1;33m)\u001b[0m\u001b[1;33m)\u001b[0m\u001b[1;33m\u001b[0m\u001b[1;33m\u001b[0m\u001b[0m\n\u001b[0;32m      4\u001b[0m \u001b[1;33m\u001b[0m\u001b[0m\n\u001b[1;32m----> 5\u001b[1;33m plot_partial_dependence(pipeline.named_steps['modelling'], \n\u001b[0m\u001b[0;32m      6\u001b[0m                         \u001b[0mpipeline\u001b[0m\u001b[1;33m.\u001b[0m\u001b[0mnamed_steps\u001b[0m\u001b[1;33m[\u001b[0m\u001b[1;34m'preprocessing'\u001b[0m\u001b[1;33m]\u001b[0m\u001b[1;33m.\u001b[0m\u001b[0mfit_transform\u001b[0m\u001b[1;33m(\u001b[0m\u001b[0mX_test\u001b[0m\u001b[1;33m)\u001b[0m\u001b[1;33m,\u001b[0m\u001b[1;33m\u001b[0m\u001b[1;33m\u001b[0m\u001b[0m\n\u001b[0;32m      7\u001b[0m                         \u001b[0mfeatures\u001b[0m\u001b[1;33m=\u001b[0m\u001b[0mX_train\u001b[0m\u001b[1;33m.\u001b[0m\u001b[0mcolumns\u001b[0m\u001b[1;33m,\u001b[0m\u001b[1;33m\u001b[0m\u001b[1;33m\u001b[0m\u001b[0m\n",
      "\u001b[1;32mc:\\users\\issao\\appdata\\local\\programs\\python\\python38\\lib\\site-packages\\sklearn\\utils\\validation.py\u001b[0m in \u001b[0;36minner_f\u001b[1;34m(*args, **kwargs)\u001b[0m\n\u001b[0;32m     61\u001b[0m             \u001b[0mextra_args\u001b[0m \u001b[1;33m=\u001b[0m \u001b[0mlen\u001b[0m\u001b[1;33m(\u001b[0m\u001b[0margs\u001b[0m\u001b[1;33m)\u001b[0m \u001b[1;33m-\u001b[0m \u001b[0mlen\u001b[0m\u001b[1;33m(\u001b[0m\u001b[0mall_args\u001b[0m\u001b[1;33m)\u001b[0m\u001b[1;33m\u001b[0m\u001b[1;33m\u001b[0m\u001b[0m\n\u001b[0;32m     62\u001b[0m             \u001b[1;32mif\u001b[0m \u001b[0mextra_args\u001b[0m \u001b[1;33m<=\u001b[0m \u001b[1;36m0\u001b[0m\u001b[1;33m:\u001b[0m\u001b[1;33m\u001b[0m\u001b[1;33m\u001b[0m\u001b[0m\n\u001b[1;32m---> 63\u001b[1;33m                 \u001b[1;32mreturn\u001b[0m \u001b[0mf\u001b[0m\u001b[1;33m(\u001b[0m\u001b[1;33m*\u001b[0m\u001b[0margs\u001b[0m\u001b[1;33m,\u001b[0m \u001b[1;33m**\u001b[0m\u001b[0mkwargs\u001b[0m\u001b[1;33m)\u001b[0m\u001b[1;33m\u001b[0m\u001b[1;33m\u001b[0m\u001b[0m\n\u001b[0m\u001b[0;32m     64\u001b[0m \u001b[1;33m\u001b[0m\u001b[0m\n\u001b[0;32m     65\u001b[0m             \u001b[1;31m# extra_args > 0\u001b[0m\u001b[1;33m\u001b[0m\u001b[1;33m\u001b[0m\u001b[1;33m\u001b[0m\u001b[0m\n",
      "\u001b[1;32mc:\\users\\issao\\appdata\\local\\programs\\python\\python38\\lib\\site-packages\\sklearn\\inspection\\_plot\\partial_dependence.py\u001b[0m in \u001b[0;36mplot_partial_dependence\u001b[1;34m(estimator, X, features, feature_names, target, response_method, n_cols, grid_resolution, percentiles, method, n_jobs, verbose, line_kw, contour_kw, ax, kind, subsample, random_state)\u001b[0m\n\u001b[0;32m    343\u001b[0m \u001b[1;33m\u001b[0m\u001b[0m\n\u001b[0;32m    344\u001b[0m     \u001b[1;31m# compute predictions and/or averaged predictions\u001b[0m\u001b[1;33m\u001b[0m\u001b[1;33m\u001b[0m\u001b[1;33m\u001b[0m\u001b[0m\n\u001b[1;32m--> 345\u001b[1;33m     pd_results = Parallel(n_jobs=n_jobs, verbose=verbose)(\n\u001b[0m\u001b[0;32m    346\u001b[0m         delayed(partial_dependence)(estimator, X, fxs,\n\u001b[0;32m    347\u001b[0m                                     \u001b[0mresponse_method\u001b[0m\u001b[1;33m=\u001b[0m\u001b[0mresponse_method\u001b[0m\u001b[1;33m,\u001b[0m\u001b[1;33m\u001b[0m\u001b[1;33m\u001b[0m\u001b[0m\n",
      "\u001b[1;32mc:\\users\\issao\\appdata\\local\\programs\\python\\python38\\lib\\site-packages\\joblib\\parallel.py\u001b[0m in \u001b[0;36m__call__\u001b[1;34m(self, iterable)\u001b[0m\n\u001b[0;32m   1039\u001b[0m             \u001b[1;31m# remaining jobs.\u001b[0m\u001b[1;33m\u001b[0m\u001b[1;33m\u001b[0m\u001b[1;33m\u001b[0m\u001b[0m\n\u001b[0;32m   1040\u001b[0m             \u001b[0mself\u001b[0m\u001b[1;33m.\u001b[0m\u001b[0m_iterating\u001b[0m \u001b[1;33m=\u001b[0m \u001b[1;32mFalse\u001b[0m\u001b[1;33m\u001b[0m\u001b[1;33m\u001b[0m\u001b[0m\n\u001b[1;32m-> 1041\u001b[1;33m             \u001b[1;32mif\u001b[0m \u001b[0mself\u001b[0m\u001b[1;33m.\u001b[0m\u001b[0mdispatch_one_batch\u001b[0m\u001b[1;33m(\u001b[0m\u001b[0miterator\u001b[0m\u001b[1;33m)\u001b[0m\u001b[1;33m:\u001b[0m\u001b[1;33m\u001b[0m\u001b[1;33m\u001b[0m\u001b[0m\n\u001b[0m\u001b[0;32m   1042\u001b[0m                 \u001b[0mself\u001b[0m\u001b[1;33m.\u001b[0m\u001b[0m_iterating\u001b[0m \u001b[1;33m=\u001b[0m \u001b[0mself\u001b[0m\u001b[1;33m.\u001b[0m\u001b[0m_original_iterator\u001b[0m \u001b[1;32mis\u001b[0m \u001b[1;32mnot\u001b[0m \u001b[1;32mNone\u001b[0m\u001b[1;33m\u001b[0m\u001b[1;33m\u001b[0m\u001b[0m\n\u001b[0;32m   1043\u001b[0m \u001b[1;33m\u001b[0m\u001b[0m\n",
      "\u001b[1;32mc:\\users\\issao\\appdata\\local\\programs\\python\\python38\\lib\\site-packages\\joblib\\parallel.py\u001b[0m in \u001b[0;36mdispatch_one_batch\u001b[1;34m(self, iterator)\u001b[0m\n\u001b[0;32m    857\u001b[0m                 \u001b[1;32mreturn\u001b[0m \u001b[1;32mFalse\u001b[0m\u001b[1;33m\u001b[0m\u001b[1;33m\u001b[0m\u001b[0m\n\u001b[0;32m    858\u001b[0m             \u001b[1;32melse\u001b[0m\u001b[1;33m:\u001b[0m\u001b[1;33m\u001b[0m\u001b[1;33m\u001b[0m\u001b[0m\n\u001b[1;32m--> 859\u001b[1;33m                 \u001b[0mself\u001b[0m\u001b[1;33m.\u001b[0m\u001b[0m_dispatch\u001b[0m\u001b[1;33m(\u001b[0m\u001b[0mtasks\u001b[0m\u001b[1;33m)\u001b[0m\u001b[1;33m\u001b[0m\u001b[1;33m\u001b[0m\u001b[0m\n\u001b[0m\u001b[0;32m    860\u001b[0m                 \u001b[1;32mreturn\u001b[0m \u001b[1;32mTrue\u001b[0m\u001b[1;33m\u001b[0m\u001b[1;33m\u001b[0m\u001b[0m\n\u001b[0;32m    861\u001b[0m \u001b[1;33m\u001b[0m\u001b[0m\n",
      "\u001b[1;32mc:\\users\\issao\\appdata\\local\\programs\\python\\python38\\lib\\site-packages\\joblib\\parallel.py\u001b[0m in \u001b[0;36m_dispatch\u001b[1;34m(self, batch)\u001b[0m\n\u001b[0;32m    775\u001b[0m         \u001b[1;32mwith\u001b[0m \u001b[0mself\u001b[0m\u001b[1;33m.\u001b[0m\u001b[0m_lock\u001b[0m\u001b[1;33m:\u001b[0m\u001b[1;33m\u001b[0m\u001b[1;33m\u001b[0m\u001b[0m\n\u001b[0;32m    776\u001b[0m             \u001b[0mjob_idx\u001b[0m \u001b[1;33m=\u001b[0m \u001b[0mlen\u001b[0m\u001b[1;33m(\u001b[0m\u001b[0mself\u001b[0m\u001b[1;33m.\u001b[0m\u001b[0m_jobs\u001b[0m\u001b[1;33m)\u001b[0m\u001b[1;33m\u001b[0m\u001b[1;33m\u001b[0m\u001b[0m\n\u001b[1;32m--> 777\u001b[1;33m             \u001b[0mjob\u001b[0m \u001b[1;33m=\u001b[0m \u001b[0mself\u001b[0m\u001b[1;33m.\u001b[0m\u001b[0m_backend\u001b[0m\u001b[1;33m.\u001b[0m\u001b[0mapply_async\u001b[0m\u001b[1;33m(\u001b[0m\u001b[0mbatch\u001b[0m\u001b[1;33m,\u001b[0m \u001b[0mcallback\u001b[0m\u001b[1;33m=\u001b[0m\u001b[0mcb\u001b[0m\u001b[1;33m)\u001b[0m\u001b[1;33m\u001b[0m\u001b[1;33m\u001b[0m\u001b[0m\n\u001b[0m\u001b[0;32m    778\u001b[0m             \u001b[1;31m# A job can complete so quickly than its callback is\u001b[0m\u001b[1;33m\u001b[0m\u001b[1;33m\u001b[0m\u001b[1;33m\u001b[0m\u001b[0m\n\u001b[0;32m    779\u001b[0m             \u001b[1;31m# called before we get here, causing self._jobs to\u001b[0m\u001b[1;33m\u001b[0m\u001b[1;33m\u001b[0m\u001b[1;33m\u001b[0m\u001b[0m\n",
      "\u001b[1;32mc:\\users\\issao\\appdata\\local\\programs\\python\\python38\\lib\\site-packages\\joblib\\_parallel_backends.py\u001b[0m in \u001b[0;36mapply_async\u001b[1;34m(self, func, callback)\u001b[0m\n\u001b[0;32m    206\u001b[0m     \u001b[1;32mdef\u001b[0m \u001b[0mapply_async\u001b[0m\u001b[1;33m(\u001b[0m\u001b[0mself\u001b[0m\u001b[1;33m,\u001b[0m \u001b[0mfunc\u001b[0m\u001b[1;33m,\u001b[0m \u001b[0mcallback\u001b[0m\u001b[1;33m=\u001b[0m\u001b[1;32mNone\u001b[0m\u001b[1;33m)\u001b[0m\u001b[1;33m:\u001b[0m\u001b[1;33m\u001b[0m\u001b[1;33m\u001b[0m\u001b[0m\n\u001b[0;32m    207\u001b[0m         \u001b[1;34m\"\"\"Schedule a func to be run\"\"\"\u001b[0m\u001b[1;33m\u001b[0m\u001b[1;33m\u001b[0m\u001b[0m\n\u001b[1;32m--> 208\u001b[1;33m         \u001b[0mresult\u001b[0m \u001b[1;33m=\u001b[0m \u001b[0mImmediateResult\u001b[0m\u001b[1;33m(\u001b[0m\u001b[0mfunc\u001b[0m\u001b[1;33m)\u001b[0m\u001b[1;33m\u001b[0m\u001b[1;33m\u001b[0m\u001b[0m\n\u001b[0m\u001b[0;32m    209\u001b[0m         \u001b[1;32mif\u001b[0m \u001b[0mcallback\u001b[0m\u001b[1;33m:\u001b[0m\u001b[1;33m\u001b[0m\u001b[1;33m\u001b[0m\u001b[0m\n\u001b[0;32m    210\u001b[0m             \u001b[0mcallback\u001b[0m\u001b[1;33m(\u001b[0m\u001b[0mresult\u001b[0m\u001b[1;33m)\u001b[0m\u001b[1;33m\u001b[0m\u001b[1;33m\u001b[0m\u001b[0m\n",
      "\u001b[1;32mc:\\users\\issao\\appdata\\local\\programs\\python\\python38\\lib\\site-packages\\joblib\\_parallel_backends.py\u001b[0m in \u001b[0;36m__init__\u001b[1;34m(self, batch)\u001b[0m\n\u001b[0;32m    570\u001b[0m         \u001b[1;31m# Don't delay the application, to avoid keeping the input\u001b[0m\u001b[1;33m\u001b[0m\u001b[1;33m\u001b[0m\u001b[1;33m\u001b[0m\u001b[0m\n\u001b[0;32m    571\u001b[0m         \u001b[1;31m# arguments in memory\u001b[0m\u001b[1;33m\u001b[0m\u001b[1;33m\u001b[0m\u001b[1;33m\u001b[0m\u001b[0m\n\u001b[1;32m--> 572\u001b[1;33m         \u001b[0mself\u001b[0m\u001b[1;33m.\u001b[0m\u001b[0mresults\u001b[0m \u001b[1;33m=\u001b[0m \u001b[0mbatch\u001b[0m\u001b[1;33m(\u001b[0m\u001b[1;33m)\u001b[0m\u001b[1;33m\u001b[0m\u001b[1;33m\u001b[0m\u001b[0m\n\u001b[0m\u001b[0;32m    573\u001b[0m \u001b[1;33m\u001b[0m\u001b[0m\n\u001b[0;32m    574\u001b[0m     \u001b[1;32mdef\u001b[0m \u001b[0mget\u001b[0m\u001b[1;33m(\u001b[0m\u001b[0mself\u001b[0m\u001b[1;33m)\u001b[0m\u001b[1;33m:\u001b[0m\u001b[1;33m\u001b[0m\u001b[1;33m\u001b[0m\u001b[0m\n",
      "\u001b[1;32mc:\\users\\issao\\appdata\\local\\programs\\python\\python38\\lib\\site-packages\\joblib\\parallel.py\u001b[0m in \u001b[0;36m__call__\u001b[1;34m(self)\u001b[0m\n\u001b[0;32m    260\u001b[0m         \u001b[1;31m# change the default number of processes to -1\u001b[0m\u001b[1;33m\u001b[0m\u001b[1;33m\u001b[0m\u001b[1;33m\u001b[0m\u001b[0m\n\u001b[0;32m    261\u001b[0m         \u001b[1;32mwith\u001b[0m \u001b[0mparallel_backend\u001b[0m\u001b[1;33m(\u001b[0m\u001b[0mself\u001b[0m\u001b[1;33m.\u001b[0m\u001b[0m_backend\u001b[0m\u001b[1;33m,\u001b[0m \u001b[0mn_jobs\u001b[0m\u001b[1;33m=\u001b[0m\u001b[0mself\u001b[0m\u001b[1;33m.\u001b[0m\u001b[0m_n_jobs\u001b[0m\u001b[1;33m)\u001b[0m\u001b[1;33m:\u001b[0m\u001b[1;33m\u001b[0m\u001b[1;33m\u001b[0m\u001b[0m\n\u001b[1;32m--> 262\u001b[1;33m             return [func(*args, **kwargs)\n\u001b[0m\u001b[0;32m    263\u001b[0m                     for func, args, kwargs in self.items]\n\u001b[0;32m    264\u001b[0m \u001b[1;33m\u001b[0m\u001b[0m\n",
      "\u001b[1;32mc:\\users\\issao\\appdata\\local\\programs\\python\\python38\\lib\\site-packages\\joblib\\parallel.py\u001b[0m in \u001b[0;36m<listcomp>\u001b[1;34m(.0)\u001b[0m\n\u001b[0;32m    260\u001b[0m         \u001b[1;31m# change the default number of processes to -1\u001b[0m\u001b[1;33m\u001b[0m\u001b[1;33m\u001b[0m\u001b[1;33m\u001b[0m\u001b[0m\n\u001b[0;32m    261\u001b[0m         \u001b[1;32mwith\u001b[0m \u001b[0mparallel_backend\u001b[0m\u001b[1;33m(\u001b[0m\u001b[0mself\u001b[0m\u001b[1;33m.\u001b[0m\u001b[0m_backend\u001b[0m\u001b[1;33m,\u001b[0m \u001b[0mn_jobs\u001b[0m\u001b[1;33m=\u001b[0m\u001b[0mself\u001b[0m\u001b[1;33m.\u001b[0m\u001b[0m_n_jobs\u001b[0m\u001b[1;33m)\u001b[0m\u001b[1;33m:\u001b[0m\u001b[1;33m\u001b[0m\u001b[1;33m\u001b[0m\u001b[0m\n\u001b[1;32m--> 262\u001b[1;33m             return [func(*args, **kwargs)\n\u001b[0m\u001b[0;32m    263\u001b[0m                     for func, args, kwargs in self.items]\n\u001b[0;32m    264\u001b[0m \u001b[1;33m\u001b[0m\u001b[0m\n",
      "\u001b[1;32mc:\\users\\issao\\appdata\\local\\programs\\python\\python38\\lib\\site-packages\\sklearn\\utils\\fixes.py\u001b[0m in \u001b[0;36m__call__\u001b[1;34m(self, *args, **kwargs)\u001b[0m\n\u001b[0;32m    220\u001b[0m     \u001b[1;32mdef\u001b[0m \u001b[0m__call__\u001b[0m\u001b[1;33m(\u001b[0m\u001b[0mself\u001b[0m\u001b[1;33m,\u001b[0m \u001b[1;33m*\u001b[0m\u001b[0margs\u001b[0m\u001b[1;33m,\u001b[0m \u001b[1;33m**\u001b[0m\u001b[0mkwargs\u001b[0m\u001b[1;33m)\u001b[0m\u001b[1;33m:\u001b[0m\u001b[1;33m\u001b[0m\u001b[1;33m\u001b[0m\u001b[0m\n\u001b[0;32m    221\u001b[0m         \u001b[1;32mwith\u001b[0m \u001b[0mconfig_context\u001b[0m\u001b[1;33m(\u001b[0m\u001b[1;33m**\u001b[0m\u001b[0mself\u001b[0m\u001b[1;33m.\u001b[0m\u001b[0mconfig\u001b[0m\u001b[1;33m)\u001b[0m\u001b[1;33m:\u001b[0m\u001b[1;33m\u001b[0m\u001b[1;33m\u001b[0m\u001b[0m\n\u001b[1;32m--> 222\u001b[1;33m             \u001b[1;32mreturn\u001b[0m \u001b[0mself\u001b[0m\u001b[1;33m.\u001b[0m\u001b[0mfunction\u001b[0m\u001b[1;33m(\u001b[0m\u001b[1;33m*\u001b[0m\u001b[0margs\u001b[0m\u001b[1;33m,\u001b[0m \u001b[1;33m**\u001b[0m\u001b[0mkwargs\u001b[0m\u001b[1;33m)\u001b[0m\u001b[1;33m\u001b[0m\u001b[1;33m\u001b[0m\u001b[0m\n\u001b[0m",
      "\u001b[1;32mc:\\users\\issao\\appdata\\local\\programs\\python\\python38\\lib\\site-packages\\sklearn\\utils\\validation.py\u001b[0m in \u001b[0;36minner_f\u001b[1;34m(*args, **kwargs)\u001b[0m\n\u001b[0;32m     61\u001b[0m             \u001b[0mextra_args\u001b[0m \u001b[1;33m=\u001b[0m \u001b[0mlen\u001b[0m\u001b[1;33m(\u001b[0m\u001b[0margs\u001b[0m\u001b[1;33m)\u001b[0m \u001b[1;33m-\u001b[0m \u001b[0mlen\u001b[0m\u001b[1;33m(\u001b[0m\u001b[0mall_args\u001b[0m\u001b[1;33m)\u001b[0m\u001b[1;33m\u001b[0m\u001b[1;33m\u001b[0m\u001b[0m\n\u001b[0;32m     62\u001b[0m             \u001b[1;32mif\u001b[0m \u001b[0mextra_args\u001b[0m \u001b[1;33m<=\u001b[0m \u001b[1;36m0\u001b[0m\u001b[1;33m:\u001b[0m\u001b[1;33m\u001b[0m\u001b[1;33m\u001b[0m\u001b[0m\n\u001b[1;32m---> 63\u001b[1;33m                 \u001b[1;32mreturn\u001b[0m \u001b[0mf\u001b[0m\u001b[1;33m(\u001b[0m\u001b[1;33m*\u001b[0m\u001b[0margs\u001b[0m\u001b[1;33m,\u001b[0m \u001b[1;33m**\u001b[0m\u001b[0mkwargs\u001b[0m\u001b[1;33m)\u001b[0m\u001b[1;33m\u001b[0m\u001b[1;33m\u001b[0m\u001b[0m\n\u001b[0m\u001b[0;32m     64\u001b[0m \u001b[1;33m\u001b[0m\u001b[0m\n\u001b[0;32m     65\u001b[0m             \u001b[1;31m# extra_args > 0\u001b[0m\u001b[1;33m\u001b[0m\u001b[1;33m\u001b[0m\u001b[1;33m\u001b[0m\u001b[0m\n",
      "\u001b[1;32mc:\\users\\issao\\appdata\\local\\programs\\python\\python38\\lib\\site-packages\\sklearn\\inspection\\_partial_dependence.py\u001b[0m in \u001b[0;36mpartial_dependence\u001b[1;34m(estimator, X, features, response_method, percentiles, grid_resolution, method, kind)\u001b[0m\n\u001b[0;32m    483\u001b[0m \u001b[1;33m\u001b[0m\u001b[0m\n\u001b[0;32m    484\u001b[0m     \u001b[1;32mif\u001b[0m \u001b[0mmethod\u001b[0m \u001b[1;33m==\u001b[0m \u001b[1;34m'brute'\u001b[0m\u001b[1;33m:\u001b[0m\u001b[1;33m\u001b[0m\u001b[1;33m\u001b[0m\u001b[0m\n\u001b[1;32m--> 485\u001b[1;33m         averaged_predictions, predictions = _partial_dependence_brute(\n\u001b[0m\u001b[0;32m    486\u001b[0m             \u001b[0mestimator\u001b[0m\u001b[1;33m,\u001b[0m \u001b[0mgrid\u001b[0m\u001b[1;33m,\u001b[0m \u001b[0mfeatures_indices\u001b[0m\u001b[1;33m,\u001b[0m \u001b[0mX\u001b[0m\u001b[1;33m,\u001b[0m \u001b[0mresponse_method\u001b[0m\u001b[1;33m\u001b[0m\u001b[1;33m\u001b[0m\u001b[0m\n\u001b[0;32m    487\u001b[0m         )\n",
      "\u001b[1;32mc:\\users\\issao\\appdata\\local\\programs\\python\\python38\\lib\\site-packages\\sklearn\\inspection\\_partial_dependence.py\u001b[0m in \u001b[0;36m_partial_dependence_brute\u001b[1;34m(est, grid, features, X, response_method)\u001b[0m\n\u001b[0;32m    160\u001b[0m             \u001b[1;31m# (n_points, 2) for binary classification\u001b[0m\u001b[1;33m\u001b[0m\u001b[1;33m\u001b[0m\u001b[1;33m\u001b[0m\u001b[0m\n\u001b[0;32m    161\u001b[0m             \u001b[1;31m# (n_points, n_classes) for multiclass classification\u001b[0m\u001b[1;33m\u001b[0m\u001b[1;33m\u001b[0m\u001b[1;33m\u001b[0m\u001b[0m\n\u001b[1;32m--> 162\u001b[1;33m             \u001b[0mpred\u001b[0m \u001b[1;33m=\u001b[0m \u001b[0mprediction_method\u001b[0m\u001b[1;33m(\u001b[0m\u001b[0mX_eval\u001b[0m\u001b[1;33m)\u001b[0m\u001b[1;33m\u001b[0m\u001b[1;33m\u001b[0m\u001b[0m\n\u001b[0m\u001b[0;32m    163\u001b[0m \u001b[1;33m\u001b[0m\u001b[0m\n\u001b[0;32m    164\u001b[0m             \u001b[0mpredictions\u001b[0m\u001b[1;33m.\u001b[0m\u001b[0mappend\u001b[0m\u001b[1;33m(\u001b[0m\u001b[0mpred\u001b[0m\u001b[1;33m)\u001b[0m\u001b[1;33m\u001b[0m\u001b[1;33m\u001b[0m\u001b[0m\n",
      "\u001b[1;32m~\\AppData\\Roaming\\Python\\Python38\\site-packages\\lightgbm\\sklearn.py\u001b[0m in \u001b[0;36mpredict_proba\u001b[1;34m(self, X, raw_score, start_iteration, num_iteration, pred_leaf, pred_contrib, **kwargs)\u001b[0m\n\u001b[0;32m    918\u001b[0m                       pred_leaf=False, pred_contrib=False, **kwargs):\n\u001b[0;32m    919\u001b[0m         \u001b[1;34m\"\"\"Docstring is set after definition, using a template.\"\"\"\u001b[0m\u001b[1;33m\u001b[0m\u001b[1;33m\u001b[0m\u001b[0m\n\u001b[1;32m--> 920\u001b[1;33m         \u001b[0mresult\u001b[0m \u001b[1;33m=\u001b[0m \u001b[0msuper\u001b[0m\u001b[1;33m(\u001b[0m\u001b[1;33m)\u001b[0m\u001b[1;33m.\u001b[0m\u001b[0mpredict\u001b[0m\u001b[1;33m(\u001b[0m\u001b[0mX\u001b[0m\u001b[1;33m,\u001b[0m \u001b[0mraw_score\u001b[0m\u001b[1;33m,\u001b[0m \u001b[0mstart_iteration\u001b[0m\u001b[1;33m,\u001b[0m \u001b[0mnum_iteration\u001b[0m\u001b[1;33m,\u001b[0m \u001b[0mpred_leaf\u001b[0m\u001b[1;33m,\u001b[0m \u001b[0mpred_contrib\u001b[0m\u001b[1;33m,\u001b[0m \u001b[1;33m**\u001b[0m\u001b[0mkwargs\u001b[0m\u001b[1;33m)\u001b[0m\u001b[1;33m\u001b[0m\u001b[1;33m\u001b[0m\u001b[0m\n\u001b[0m\u001b[0;32m    921\u001b[0m         \u001b[1;32mif\u001b[0m \u001b[0mcallable\u001b[0m\u001b[1;33m(\u001b[0m\u001b[0mself\u001b[0m\u001b[1;33m.\u001b[0m\u001b[0m_objective\u001b[0m\u001b[1;33m)\u001b[0m \u001b[1;32mand\u001b[0m \u001b[1;32mnot\u001b[0m \u001b[1;33m(\u001b[0m\u001b[0mraw_score\u001b[0m \u001b[1;32mor\u001b[0m \u001b[0mpred_leaf\u001b[0m \u001b[1;32mor\u001b[0m \u001b[0mpred_contrib\u001b[0m\u001b[1;33m)\u001b[0m\u001b[1;33m:\u001b[0m\u001b[1;33m\u001b[0m\u001b[1;33m\u001b[0m\u001b[0m\n\u001b[0;32m    922\u001b[0m             _log_warning(\"Cannot compute class probabilities or labels \"\n",
      "\u001b[1;32m~\\AppData\\Roaming\\Python\\Python38\\site-packages\\lightgbm\\sklearn.py\u001b[0m in \u001b[0;36mpredict\u001b[1;34m(self, X, raw_score, start_iteration, num_iteration, pred_leaf, pred_contrib, **kwargs)\u001b[0m\n\u001b[0;32m    720\u001b[0m         \u001b[0mn_features\u001b[0m \u001b[1;33m=\u001b[0m \u001b[0mX\u001b[0m\u001b[1;33m.\u001b[0m\u001b[0mshape\u001b[0m\u001b[1;33m[\u001b[0m\u001b[1;36m1\u001b[0m\u001b[1;33m]\u001b[0m\u001b[1;33m\u001b[0m\u001b[1;33m\u001b[0m\u001b[0m\n\u001b[0;32m    721\u001b[0m         \u001b[1;32mif\u001b[0m \u001b[0mself\u001b[0m\u001b[1;33m.\u001b[0m\u001b[0m_n_features\u001b[0m \u001b[1;33m!=\u001b[0m \u001b[0mn_features\u001b[0m\u001b[1;33m:\u001b[0m\u001b[1;33m\u001b[0m\u001b[1;33m\u001b[0m\u001b[0m\n\u001b[1;32m--> 722\u001b[1;33m             raise ValueError(\"Number of features of the model must \"\n\u001b[0m\u001b[0;32m    723\u001b[0m                              \u001b[1;34m\"match the input. Model n_features_ is %s and \"\u001b[0m\u001b[1;33m\u001b[0m\u001b[1;33m\u001b[0m\u001b[0m\n\u001b[0;32m    724\u001b[0m                              \u001b[1;34m\"input n_features is %s \"\u001b[0m\u001b[1;33m\u001b[0m\u001b[1;33m\u001b[0m\u001b[0m\n",
      "\u001b[1;31mValueError\u001b[0m: Number of features of the model must match the input. Model n_features_ is 16 and input n_features is 22 "
     ]
    },
    {
     "data": {
      "image/png": "[encoded data removed]",
      "text/plain": [
       "<Figure size 1080x576 with 1 Axes>"
      ]
     },
     "metadata": {
      "needs_background": "light"
     },
     "output_type": "display_data"
    }
   ],
   "source": [
    "from sklearn.inspection import plot_partial_dependence\n",
    "\n",
    "fig, ax = plt.subplots(1,1, figsize=(15,8))\n",
    "\n",
    "plot_partial_dependence(pipeline.named_steps['modelling'], \n",
    "                        pipeline.named_steps['preprocessing'].fit_transform(X_test), \n",
    "                        features=X_train.columns, \n",
    "                        feature_names=X_train.columns,\n",
    "                        grid_resolution=100, ax = ax)"
   ]
  },
  {
   "cell_type": "markdown",
   "id": "imperial-trick",
   "metadata": {},
   "source": [
    "##  Tunando os parâmetros"
   ]
  },
  {
   "cell_type": "code",
   "execution_count": null,
   "id": "compliant-senior",
   "metadata": {
    "ExecuteTime": {
     "end_time": "2021-05-11T22:05:29.936241Z",
     "start_time": "2021-05-11T22:05:29.926206Z"
    }
   },
   "outputs": [],
   "source": [
    "pipeline3 = Pipeline(steps=[('preprocessing', dataprep_sazo),\n",
    "                           ('modelling', lgbm)\n",
    "                          ])"
   ]
  },
  {
   "cell_type": "code",
   "execution_count": null,
   "id": "beneficial-stability",
   "metadata": {
    "ExecuteTime": {
     "end_time": "2021-05-11T22:08:26.717118Z",
     "start_time": "2021-05-11T22:06:03.610737Z"
    },
    "cell_style": "center"
   },
   "outputs": [],
   "source": [
    "param_dist = {'preprocessing__numerical_transform__missing__strategy': ['mean','median'],\n",
    "              'modelling__boosting_type': ['gbdt','dart','goss','rf'],\n",
    "              'modelling__num_leaves': randint(3,8),\n",
    "              'modelling__max_depth': randint(1,5),\n",
    "#              'modelling__learning_rate': gamma(1, loc=0, scale=0.1),\n",
    "              'modelling__n_estimators': randint(10,100),\n",
    "              'modelling__colsample_bytree': beta(2, 1, loc=0, scale=1)#,\n",
    "#              'modelling__reg_alpha': gamma(.5, loc=0, scale=0.5),\n",
    "#              'modelling__reg_lambda': gamma(.5, loc=0, scale=0.5)\n",
    "             }\n",
    "\n",
    "n_iter_search = 100\n",
    "random_search = RandomizedSearchCV(pipeline3, \n",
    "                                   param_distributions=param_dist,\n",
    "                                   n_iter=n_iter_search, \n",
    "                                   verbose=True, \n",
    "                                   cv=KFold(n_splits=5, shuffle=True),\n",
    "                                   scoring='precision',\n",
    "                                   random_state=27,\n",
    "                                   n_jobs=-1)\n",
    "\n",
    "random_search.fit(X_train, y_train)"
   ]
  },
  {
   "cell_type": "code",
   "execution_count": null,
   "id": "narrative-picking",
   "metadata": {
    "ExecuteTime": {
     "end_time": "2021-05-11T19:34:38.346173Z",
     "start_time": "2021-05-11T19:34:38.340157Z"
    }
   },
   "outputs": [],
   "source": [
    "random_search.best_params_"
   ]
  },
  {
   "cell_type": "code",
   "execution_count": null,
   "id": "dated-huntington",
   "metadata": {
    "ExecuteTime": {
     "end_time": "2021-05-11T19:36:54.822814Z",
     "start_time": "2021-05-11T19:36:54.813839Z"
    }
   },
   "outputs": [],
   "source": [
    "random_search.best_score_"
   ]
  },
  {
   "cell_type": "code",
   "execution_count": null,
   "id": "about-ghost",
   "metadata": {
    "ExecuteTime": {
     "end_time": "2021-05-11T22:09:47.203906Z",
     "start_time": "2021-05-11T22:09:46.939909Z"
    }
   },
   "outputs": [],
   "source": [
    "roc_auc_score(y_test, random_search.best_estimator_.predict_proba(X_test)[:, 1])"
   ]
  },
  {
   "cell_type": "code",
   "execution_count": null,
   "id": "synthetic-riverside",
   "metadata": {
    "ExecuteTime": {
     "end_time": "2021-05-11T19:39:00.150886Z",
     "start_time": "2021-05-11T19:38:55.831269Z"
    }
   },
   "outputs": [],
   "source": [
    "cross_val_score(random_search.best_estimator_, X_train, y_train, cv=KFold(n_splits=5), scoring='precision')"
   ]
  },
  {
   "cell_type": "code",
   "execution_count": null,
   "id": "pharmaceutical-accuracy",
   "metadata": {
    "ExecuteTime": {
     "end_time": "2021-05-11T19:42:29.239720Z",
     "start_time": "2021-05-11T19:42:28.533226Z"
    }
   },
   "outputs": [],
   "source": [
    "fig, ax = plt.subplots()\n",
    "\n",
    "plot_roc_curve(pipeline, X_test, y_test, ax=ax, name='LGBM')\n",
    "plot_roc_curve(random_search.best_estimator_, X_test, y_test, ax=ax, name='Tuned')"
   ]
  },
  {
   "cell_type": "code",
   "execution_count": null,
   "id": "little-margin",
   "metadata": {
    "ExecuteTime": {
     "end_time": "2021-05-11T22:13:09.134495Z",
     "start_time": "2021-05-11T22:13:08.189254Z"
    }
   },
   "outputs": [],
   "source": [
    "fig, ax = plt.subplots()\n",
    "\n",
    "plot_roc_curve(pipeline_sazo, X_test, y_test, ax=ax, name='LGBM')\n",
    "plot_roc_curve(random_search.best_estimator_, X_test, y_test, ax=ax, name='Tuned')"
   ]
  },
  {
   "cell_type": "code",
   "execution_count": null,
   "id": "smooth-murray",
   "metadata": {
    "ExecuteTime": {
     "end_time": "2021-05-11T19:39:11.867713Z",
     "start_time": "2021-05-11T19:39:11.257209Z"
    }
   },
   "outputs": [],
   "source": [
    "print(precision_score(random_search.best_estimator_.predict(X_test), y_test))\n",
    "print(recall_score(random_search.best_estimator_.predict(X_test), y_test))\n",
    "print(f1_score(random_search.best_estimator_.predict(X_test), y_test))"
   ]
  },
  {
   "cell_type": "code",
   "execution_count": null,
   "id": "monthly-webmaster",
   "metadata": {
    "ExecuteTime": {
     "end_time": "2021-05-11T19:39:26.092094Z",
     "start_time": "2021-05-11T19:39:25.265741Z"
    }
   },
   "outputs": [],
   "source": [
    "print(precision_score(random_search.best_estimator_.predict(X_train), y_train))\n",
    "print(recall_score(random_search.best_estimator_.predict(X_train), y_train))\n",
    "print(f1_score(random_search.best_estimator_.predict(X_train), y_train))"
   ]
  },
  {
   "cell_type": "code",
   "execution_count": null,
   "id": "cheap-award",
   "metadata": {
    "ExecuteTime": {
     "end_time": "2021-05-11T19:44:12.623791Z",
     "start_time": "2021-05-11T19:44:12.483167Z"
    }
   },
   "outputs": [],
   "source": [
    "(random_search.best_estimator_.predict_proba(X_test)[:,1]>0.3).sum()"
   ]
  },
  {
   "cell_type": "markdown",
   "id": "republican-crisis",
   "metadata": {},
   "source": [
    "##  Trabalhando com dados sazonais\n",
    "\n",
    "Na Austrália:\n",
    "\n",
    "Verão: Dezembro a Fevereiro\n",
    "\n",
    "Outono: Março a Maio\n",
    "\n",
    "Inverno: Junho a Agosto\n",
    "\n",
    "Primavera: Setembro a Novembro"
   ]
  },
  {
   "cell_type": "code",
   "execution_count": 101,
   "id": "maritime-louisville",
   "metadata": {
    "ExecuteTime": {
     "end_time": "2021-05-12T19:24:10.302939Z",
     "start_time": "2021-05-12T19:24:10.074390Z"
    }
   },
   "outputs": [],
   "source": [
    "X_verao = df.loc[(df['date'].dt.month<=2) | (df['date'].dt.month==12), :].drop('raintomorrow', axis=1)\n",
    "X_verao = X_verao.reset_index()\n",
    "\n",
    "y_verao = df.loc[(df['date'].dt.month<=2) | (df['date'].dt.month==12), 'raintomorrow']\n",
    "y_verao = y_verao.reset_index()"
   ]
  },
  {
   "cell_type": "code",
   "execution_count": 102,
   "id": "weekly-fields",
   "metadata": {
    "ExecuteTime": {
     "end_time": "2021-05-12T19:24:12.742635Z",
     "start_time": "2021-05-12T19:24:12.723050Z"
    }
   },
   "outputs": [],
   "source": [
    "X_verao = X_verao.drop('index', axis=1)\n",
    "y_verao = y_verao.drop('index', axis=1)"
   ]
  },
  {
   "cell_type": "code",
   "execution_count": 103,
   "id": "appropriate-booking",
   "metadata": {
    "ExecuteTime": {
     "end_time": "2021-05-12T19:24:15.482876Z",
     "start_time": "2021-05-12T19:24:15.253362Z"
    }
   },
   "outputs": [],
   "source": [
    "X_v_train, X_v_test, y_v_train, y_v_test = train_test_split(X_verao, np.ravel(y_verao), test_size=0.15, random_state=35, stratify=y_verao)"
   ]
  },
  {
   "cell_type": "code",
   "execution_count": null,
   "id": "comparative-harbor",
   "metadata": {
    "ExecuteTime": {
     "end_time": "2021-05-11T22:37:51.095742Z",
     "start_time": "2021-05-11T22:37:50.961187Z"
    }
   },
   "outputs": [],
   "source": [
    "X_outono = df.loc[(df['date'].dt.month<=5) & (df['date'].dt.month>=3), :].drop('raintomorrow', axis=1)\n",
    "X_outono = X_outono.reset_index()\n",
    "\n",
    "y_outono = df.loc[(df['date'].dt.month<=5) & (df['date'].dt.month>=3), 'raintomorrow']\n",
    "y_outono = y_outono.reset_index()"
   ]
  },
  {
   "cell_type": "code",
   "execution_count": null,
   "id": "vanilla-broadway",
   "metadata": {
    "ExecuteTime": {
     "end_time": "2021-05-11T22:37:52.982928Z",
     "start_time": "2021-05-11T22:37:52.959020Z"
    }
   },
   "outputs": [],
   "source": [
    "X_outono = X_outono.drop('index', axis=1)\n",
    "y_outono = y_outono.drop('index', axis=1)"
   ]
  },
  {
   "cell_type": "code",
   "execution_count": null,
   "id": "healthy-layout",
   "metadata": {
    "ExecuteTime": {
     "end_time": "2021-05-11T23:09:46.031562Z",
     "start_time": "2021-05-11T23:09:45.634372Z"
    }
   },
   "outputs": [],
   "source": [
    "X_o_train, X_o_test, y_o_train, y_o_test = train_test_split(X_outono, np.ravel(y_outono), test_size=0.15, random_state=35, stratify=y_outono)"
   ]
  },
  {
   "cell_type": "code",
   "execution_count": null,
   "id": "outdoor-saturday",
   "metadata": {
    "ExecuteTime": {
     "end_time": "2021-05-11T22:38:02.700155Z",
     "start_time": "2021-05-11T22:38:02.577899Z"
    }
   },
   "outputs": [],
   "source": [
    "X_inverno = df.loc[(df['date'].dt.month<=8) & (df['date'].dt.month>=6), :].drop('raintomorrow', axis=1)\n",
    "X_inverno = X_inverno.reset_index()\n",
    "\n",
    "y_inverno = df.loc[(df['date'].dt.month<=8) & (df['date'].dt.month>=6), 'raintomorrow']\n",
    "y_inverno = y_inverno.reset_index()"
   ]
  },
  {
   "cell_type": "code",
   "execution_count": null,
   "id": "starting-crossing",
   "metadata": {
    "ExecuteTime": {
     "end_time": "2021-05-11T22:38:04.797658Z",
     "start_time": "2021-05-11T22:38:04.775995Z"
    }
   },
   "outputs": [],
   "source": [
    "X_inverno = X_inverno.drop('index', axis=1)\n",
    "y_inverno = y_inverno.drop('index', axis=1)"
   ]
  },
  {
   "cell_type": "code",
   "execution_count": null,
   "id": "undefined-aerospace",
   "metadata": {
    "ExecuteTime": {
     "end_time": "2021-05-11T23:10:08.881251Z",
     "start_time": "2021-05-11T23:10:08.506996Z"
    }
   },
   "outputs": [],
   "source": [
    "X_i_train, X_i_test, y_i_train, y_i_test = train_test_split(X_inverno, np.ravel(y_inverno), test_size=0.15, random_state=35, stratify=y_inverno)"
   ]
  },
  {
   "cell_type": "code",
   "execution_count": null,
   "id": "small-missouri",
   "metadata": {
    "ExecuteTime": {
     "end_time": "2021-05-11T22:38:12.681017Z",
     "start_time": "2021-05-11T22:38:12.589923Z"
    }
   },
   "outputs": [],
   "source": [
    "X_primavera = df.loc[(df['date'].dt.month<=11) & (df['date'].dt.month>=9), :].drop('raintomorrow', axis=1)\n",
    "X_primavera = X_primavera.reset_index()\n",
    "\n",
    "y_primavera = df.loc[(df['date'].dt.month<=11) & (df['date'].dt.month>=9), 'raintomorrow']\n",
    "y_primavera = y_primavera.reset_index()"
   ]
  },
  {
   "cell_type": "code",
   "execution_count": null,
   "id": "cheap-delivery",
   "metadata": {
    "ExecuteTime": {
     "end_time": "2021-05-11T22:38:15.007037Z",
     "start_time": "2021-05-11T22:38:14.970503Z"
    }
   },
   "outputs": [],
   "source": [
    "X_primavera = X_primavera.drop('index', axis=1)\n",
    "y_primavera = y_primavera.drop('index', axis=1)"
   ]
  },
  {
   "cell_type": "code",
   "execution_count": null,
   "id": "moderate-ratio",
   "metadata": {
    "ExecuteTime": {
     "end_time": "2021-05-11T23:10:21.693212Z",
     "start_time": "2021-05-11T23:10:21.352519Z"
    }
   },
   "outputs": [],
   "source": [
    "X_p_train, X_p_test, y_p_train, y_p_test = train_test_split(X_primavera, np.ravel(y_primavera), test_size=0.15, random_state=35, stratify=y_primavera)"
   ]
  },
  {
   "cell_type": "markdown",
   "id": "instant-pizza",
   "metadata": {},
   "source": [
    "###  Treinando o modelo dos dados de verão"
   ]
  },
  {
   "cell_type": "code",
   "execution_count": 104,
   "id": "virgin-reputation",
   "metadata": {
    "ExecuteTime": {
     "end_time": "2021-05-12T19:24:22.952472Z",
     "start_time": "2021-05-12T19:24:22.732656Z"
    }
   },
   "outputs": [],
   "source": [
    "modelo_verao = pipeline_sazo.fit(X_v_train, y_v_train)"
   ]
  },
  {
   "cell_type": "code",
   "execution_count": 105,
   "id": "agreed-leone",
   "metadata": {
    "ExecuteTime": {
     "end_time": "2021-05-12T19:24:25.778743Z",
     "start_time": "2021-05-12T19:24:25.734385Z"
    }
   },
   "outputs": [
    {
     "data": {
      "text/plain": [
       "0.8674714401873308"
      ]
     },
     "execution_count": 105,
     "metadata": {},
     "output_type": "execute_result"
    }
   ],
   "source": [
    "roc_auc_score(y_v_test, modelo_verao.predict_proba(X_v_test)[:,1])"
   ]
  },
  {
   "cell_type": "code",
   "execution_count": 106,
   "id": "cooked-disney",
   "metadata": {
    "ExecuteTime": {
     "end_time": "2021-05-12T19:24:30.486053Z",
     "start_time": "2021-05-12T19:24:28.763237Z"
    }
   },
   "outputs": [
    {
     "data": {
      "text/plain": [
       "array([0.87094147, 0.86684032, 0.87032934, 0.87161618, 0.86321508])"
      ]
     },
     "execution_count": 106,
     "metadata": {},
     "output_type": "execute_result"
    }
   ],
   "source": [
    "cross_val_score(pipeline_sazo, X_v_train, y_v_train, scoring='roc_auc', cv=KFold(n_splits=5, shuffle=True))"
   ]
  },
  {
   "cell_type": "code",
   "execution_count": 107,
   "id": "falling-singer",
   "metadata": {
    "ExecuteTime": {
     "end_time": "2021-05-12T19:24:34.664962Z",
     "start_time": "2021-05-12T19:24:34.554516Z"
    },
    "scrolled": true
   },
   "outputs": [
    {
     "name": "stdout",
     "output_type": "stream",
     "text": [
      "0.4454855195911414\n",
      "0.7428977272727273\n",
      "0.556975505857295\n"
     ]
    }
   ],
   "source": [
    "print(precision_score(modelo_verao.predict(X_v_test), y_v_test))\n",
    "print(recall_score(modelo_verao.predict(X_v_test), y_v_test))\n",
    "print(f1_score(modelo_verao.predict(X_v_test), y_v_test))"
   ]
  },
  {
   "cell_type": "code",
   "execution_count": null,
   "id": "elementary-literature",
   "metadata": {
    "ExecuteTime": {
     "end_time": "2021-05-11T22:53:09.759773Z",
     "start_time": "2021-05-11T22:53:09.160003Z"
    }
   },
   "outputs": [],
   "source": [
    "fig, ax = plt.subplots()\n",
    "\n",
    "plot_roc_curve(pipeline_sazo, X_v_train, y_v_train, ax=ax)\n",
    "plot_roc_curve(pipeline_sazo, X_v_test, y_v_test, ax=ax)"
   ]
  },
  {
   "cell_type": "code",
   "execution_count": null,
   "id": "assigned-youth",
   "metadata": {
    "ExecuteTime": {
     "end_time": "2021-05-11T23:11:56.336281Z",
     "start_time": "2021-05-11T23:11:41.005982Z"
    }
   },
   "outputs": [],
   "source": [
    "curves = learning_curve(pipeline_sazo, X_p_train, y_p_train, scoring='roc_auc')\n",
    "\n",
    "train_sizes = curves[0]\n",
    "train_scores = curves[1]\n",
    "test_scores = curves[2]\n",
    "plt.plot(train_sizes, train_scores.mean(axis=1), '-o', label='Training AUC')\n",
    "plt.plot(train_sizes, test_scores.mean(axis=1), '-o', label='Validation AUC')\n",
    "plt.grid()\n",
    "plt.ylim([0.5, 1])\n",
    "plt.legend()"
   ]
  },
  {
   "cell_type": "markdown",
   "id": "marine-wyoming",
   "metadata": {},
   "source": [
    "##  Ajustando threshold"
   ]
  },
  {
   "cell_type": "code",
   "execution_count": 118,
   "id": "persistent-portuguese",
   "metadata": {
    "ExecuteTime": {
     "end_time": "2021-05-12T19:27:07.699309Z",
     "start_time": "2021-05-12T19:27:07.523777Z"
    }
   },
   "outputs": [],
   "source": [
    "y_pred = [1 if i>0.2 else 0 for i in pipeline_sazo.predict_proba(X_test)[:,1]]"
   ]
  },
  {
   "cell_type": "code",
   "execution_count": 119,
   "id": "excellent-documentary",
   "metadata": {
    "ExecuteTime": {
     "end_time": "2021-05-12T19:27:10.523231Z",
     "start_time": "2021-05-12T19:27:10.361661Z"
    }
   },
   "outputs": [
    {
     "name": "stdout",
     "output_type": "stream",
     "text": [
      "0.7302112153316688\n",
      "0.5286272594040059\n",
      "0.6132789254441894\n"
     ]
    }
   ],
   "source": [
    "print(precision_score(y_pred, y_test))\n",
    "print(recall_score(y_pred, y_test))\n",
    "print(f1_score(y_pred, y_test))"
   ]
  },
  {
   "cell_type": "code",
   "execution_count": null,
   "id": "hungarian-instrumentation",
   "metadata": {
    "ExecuteTime": {
     "end_time": "2021-05-11T20:03:36.096605Z",
     "start_time": "2021-05-11T20:03:36.022773Z"
    }
   },
   "outputs": [],
   "source": [
    "from sklearn.metrics import confusion_matrix\n",
    "\n",
    "confusion_matrix(y_test, y_pred)"
   ]
  }
 ],
 "metadata": {
  "kernelspec": {
   "display_name": "Python 3",
   "language": "python",
   "name": "python3"
  },
  "language_info": {
   "codemirror_mode": {
    "name": "ipython",
    "version": 3
   },
   "file_extension": ".py",
   "mimetype": "text/x-python",
   "name": "python",
   "nbconvert_exporter": "python",
   "pygments_lexer": "ipython3",
   "version": "3.8.8"
  },
  "toc": {
   "base_numbering": 1,
   "nav_menu": {},
   "number_sections": true,
   "sideBar": true,
   "skip_h1_title": false,
   "title_cell": "Table of Contents",
   "title_sidebar": "Contents",
   "toc_cell": false,
   "toc_position": {},
   "toc_section_display": true,
   "toc_window_display": false
  },
  "varInspector": {
   "cols": {
    "lenName": 16,
    "lenType": 16,
    "lenVar": 40
   },
   "kernels_config": {
    "python": {
     "delete_cmd_postfix": "",
     "delete_cmd_prefix": "del ",
     "library": "var_list.py",
     "varRefreshCmd": "print(var_dic_list())"
    },
    "r": {
     "delete_cmd_postfix": ") ",
     "delete_cmd_prefix": "rm(",
     "library": "var_list.r",
     "varRefreshCmd": "cat(var_dic_list()) "
    }
   },
   "types_to_exclude": [
    "module",
    "function",
    "builtin_function_or_method",
    "instance",
    "_Feature"
   ],
   "window_display": false
  }
 },
 "nbformat": 4,
 "nbformat_minor": 5
}
